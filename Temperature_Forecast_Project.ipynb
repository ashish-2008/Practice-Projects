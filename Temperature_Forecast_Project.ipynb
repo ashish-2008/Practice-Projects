{
 "cells": [
  {
   "cell_type": "code",
   "execution_count": 1,
   "id": "2043d8ab",
   "metadata": {},
   "outputs": [
    {
     "data": {
      "text/html": [
       "<div>\n",
       "<style scoped>\n",
       "    .dataframe tbody tr th:only-of-type {\n",
       "        vertical-align: middle;\n",
       "    }\n",
       "\n",
       "    .dataframe tbody tr th {\n",
       "        vertical-align: top;\n",
       "    }\n",
       "\n",
       "    .dataframe thead th {\n",
       "        text-align: right;\n",
       "    }\n",
       "</style>\n",
       "<table border=\"1\" class=\"dataframe\">\n",
       "  <thead>\n",
       "    <tr style=\"text-align: right;\">\n",
       "      <th></th>\n",
       "      <th>station</th>\n",
       "      <th>Date</th>\n",
       "      <th>Present_Tmax</th>\n",
       "      <th>Present_Tmin</th>\n",
       "      <th>LDAPS_RHmin</th>\n",
       "      <th>LDAPS_RHmax</th>\n",
       "      <th>LDAPS_Tmax_lapse</th>\n",
       "      <th>LDAPS_Tmin_lapse</th>\n",
       "      <th>LDAPS_WS</th>\n",
       "      <th>LDAPS_LH</th>\n",
       "      <th>...</th>\n",
       "      <th>LDAPS_PPT2</th>\n",
       "      <th>LDAPS_PPT3</th>\n",
       "      <th>LDAPS_PPT4</th>\n",
       "      <th>lat</th>\n",
       "      <th>lon</th>\n",
       "      <th>DEM</th>\n",
       "      <th>Slope</th>\n",
       "      <th>Solar radiation</th>\n",
       "      <th>Next_Tmax</th>\n",
       "      <th>Next_Tmin</th>\n",
       "    </tr>\n",
       "  </thead>\n",
       "  <tbody>\n",
       "    <tr>\n",
       "      <th>0</th>\n",
       "      <td>1.0</td>\n",
       "      <td>30-06-2013</td>\n",
       "      <td>28.7</td>\n",
       "      <td>21.4</td>\n",
       "      <td>58.255688</td>\n",
       "      <td>91.116364</td>\n",
       "      <td>28.074101</td>\n",
       "      <td>23.006936</td>\n",
       "      <td>6.818887</td>\n",
       "      <td>69.451805</td>\n",
       "      <td>...</td>\n",
       "      <td>0.0</td>\n",
       "      <td>0.0</td>\n",
       "      <td>0.0</td>\n",
       "      <td>37.6046</td>\n",
       "      <td>126.991</td>\n",
       "      <td>212.3350</td>\n",
       "      <td>2.7850</td>\n",
       "      <td>5992.895996</td>\n",
       "      <td>29.1</td>\n",
       "      <td>21.2</td>\n",
       "    </tr>\n",
       "    <tr>\n",
       "      <th>1</th>\n",
       "      <td>2.0</td>\n",
       "      <td>30-06-2013</td>\n",
       "      <td>31.9</td>\n",
       "      <td>21.6</td>\n",
       "      <td>52.263397</td>\n",
       "      <td>90.604721</td>\n",
       "      <td>29.850689</td>\n",
       "      <td>24.035009</td>\n",
       "      <td>5.691890</td>\n",
       "      <td>51.937448</td>\n",
       "      <td>...</td>\n",
       "      <td>0.0</td>\n",
       "      <td>0.0</td>\n",
       "      <td>0.0</td>\n",
       "      <td>37.6046</td>\n",
       "      <td>127.032</td>\n",
       "      <td>44.7624</td>\n",
       "      <td>0.5141</td>\n",
       "      <td>5869.312500</td>\n",
       "      <td>30.5</td>\n",
       "      <td>22.5</td>\n",
       "    </tr>\n",
       "    <tr>\n",
       "      <th>2</th>\n",
       "      <td>3.0</td>\n",
       "      <td>30-06-2013</td>\n",
       "      <td>31.6</td>\n",
       "      <td>23.3</td>\n",
       "      <td>48.690479</td>\n",
       "      <td>83.973587</td>\n",
       "      <td>30.091292</td>\n",
       "      <td>24.565633</td>\n",
       "      <td>6.138224</td>\n",
       "      <td>20.573050</td>\n",
       "      <td>...</td>\n",
       "      <td>0.0</td>\n",
       "      <td>0.0</td>\n",
       "      <td>0.0</td>\n",
       "      <td>37.5776</td>\n",
       "      <td>127.058</td>\n",
       "      <td>33.3068</td>\n",
       "      <td>0.2661</td>\n",
       "      <td>5863.555664</td>\n",
       "      <td>31.1</td>\n",
       "      <td>23.9</td>\n",
       "    </tr>\n",
       "    <tr>\n",
       "      <th>3</th>\n",
       "      <td>4.0</td>\n",
       "      <td>30-06-2013</td>\n",
       "      <td>32.0</td>\n",
       "      <td>23.4</td>\n",
       "      <td>58.239788</td>\n",
       "      <td>96.483688</td>\n",
       "      <td>29.704629</td>\n",
       "      <td>23.326177</td>\n",
       "      <td>5.650050</td>\n",
       "      <td>65.727144</td>\n",
       "      <td>...</td>\n",
       "      <td>0.0</td>\n",
       "      <td>0.0</td>\n",
       "      <td>0.0</td>\n",
       "      <td>37.6450</td>\n",
       "      <td>127.022</td>\n",
       "      <td>45.7160</td>\n",
       "      <td>2.5348</td>\n",
       "      <td>5856.964844</td>\n",
       "      <td>31.7</td>\n",
       "      <td>24.3</td>\n",
       "    </tr>\n",
       "    <tr>\n",
       "      <th>4</th>\n",
       "      <td>5.0</td>\n",
       "      <td>30-06-2013</td>\n",
       "      <td>31.4</td>\n",
       "      <td>21.9</td>\n",
       "      <td>56.174095</td>\n",
       "      <td>90.155128</td>\n",
       "      <td>29.113934</td>\n",
       "      <td>23.486480</td>\n",
       "      <td>5.735004</td>\n",
       "      <td>107.965535</td>\n",
       "      <td>...</td>\n",
       "      <td>0.0</td>\n",
       "      <td>0.0</td>\n",
       "      <td>0.0</td>\n",
       "      <td>37.5507</td>\n",
       "      <td>127.135</td>\n",
       "      <td>35.0380</td>\n",
       "      <td>0.5055</td>\n",
       "      <td>5859.552246</td>\n",
       "      <td>31.2</td>\n",
       "      <td>22.5</td>\n",
       "    </tr>\n",
       "  </tbody>\n",
       "</table>\n",
       "<p>5 rows × 25 columns</p>\n",
       "</div>"
      ],
      "text/plain": [
       "   station        Date  Present_Tmax  Present_Tmin  LDAPS_RHmin  LDAPS_RHmax  \\\n",
       "0      1.0  30-06-2013          28.7          21.4    58.255688    91.116364   \n",
       "1      2.0  30-06-2013          31.9          21.6    52.263397    90.604721   \n",
       "2      3.0  30-06-2013          31.6          23.3    48.690479    83.973587   \n",
       "3      4.0  30-06-2013          32.0          23.4    58.239788    96.483688   \n",
       "4      5.0  30-06-2013          31.4          21.9    56.174095    90.155128   \n",
       "\n",
       "   LDAPS_Tmax_lapse  LDAPS_Tmin_lapse  LDAPS_WS    LDAPS_LH  ...  LDAPS_PPT2  \\\n",
       "0         28.074101         23.006936  6.818887   69.451805  ...         0.0   \n",
       "1         29.850689         24.035009  5.691890   51.937448  ...         0.0   \n",
       "2         30.091292         24.565633  6.138224   20.573050  ...         0.0   \n",
       "3         29.704629         23.326177  5.650050   65.727144  ...         0.0   \n",
       "4         29.113934         23.486480  5.735004  107.965535  ...         0.0   \n",
       "\n",
       "   LDAPS_PPT3  LDAPS_PPT4      lat      lon       DEM   Slope  \\\n",
       "0         0.0         0.0  37.6046  126.991  212.3350  2.7850   \n",
       "1         0.0         0.0  37.6046  127.032   44.7624  0.5141   \n",
       "2         0.0         0.0  37.5776  127.058   33.3068  0.2661   \n",
       "3         0.0         0.0  37.6450  127.022   45.7160  2.5348   \n",
       "4         0.0         0.0  37.5507  127.135   35.0380  0.5055   \n",
       "\n",
       "   Solar radiation  Next_Tmax  Next_Tmin  \n",
       "0      5992.895996       29.1       21.2  \n",
       "1      5869.312500       30.5       22.5  \n",
       "2      5863.555664       31.1       23.9  \n",
       "3      5856.964844       31.7       24.3  \n",
       "4      5859.552246       31.2       22.5  \n",
       "\n",
       "[5 rows x 25 columns]"
      ]
     },
     "execution_count": 1,
     "metadata": {},
     "output_type": "execute_result"
    }
   ],
   "source": [
    "# Temperature_Forecast_Project\n",
    "\n",
    "\n",
    "import pandas as pd\n",
    "import numpy as np\n",
    "from sklearn.preprocessing import LabelEncoder\n",
    "import matplotlib.pyplot as plt\n",
    "import seaborn as sns\n",
    "\n",
    "from sklearn.linear_model import LinearRegression\n",
    "from sklearn.tree import DecisionTreeRegressor\n",
    "from sklearn.ensemble import RandomForestRegressor\n",
    "from sklearn.neighbors import KNeighborsRegressor\n",
    "\n",
    "from sklearn.model_selection import cross_val_score,GridSearchCV\n",
    "%matplotlib inline\n",
    "\n",
    "\n",
    "import warnings\n",
    "warnings.filterwarnings('ignore')\n",
    "\n",
    "\n",
    "df=pd.read_csv(r'C:\\ProgramData\\temperature.csv')\n",
    "df.head()"
   ]
  },
  {
   "cell_type": "code",
   "execution_count": 2,
   "id": "529a01db",
   "metadata": {},
   "outputs": [
    {
     "data": {
      "text/plain": [
       "(7752, 25)"
      ]
     },
     "execution_count": 2,
     "metadata": {},
     "output_type": "execute_result"
    }
   ],
   "source": [
    "df.shape"
   ]
  },
  {
   "cell_type": "code",
   "execution_count": 3,
   "id": "faab8826",
   "metadata": {},
   "outputs": [],
   "source": [
    "# The dataset comprises of 7752 rows and 25 columns."
   ]
  },
  {
   "cell_type": "code",
   "execution_count": 4,
   "id": "5fc427bd",
   "metadata": {},
   "outputs": [
    {
     "name": "stdout",
     "output_type": "stream",
     "text": [
      "<class 'pandas.core.frame.DataFrame'>\n",
      "RangeIndex: 7752 entries, 0 to 7751\n",
      "Data columns (total 25 columns):\n",
      " #   Column            Non-Null Count  Dtype  \n",
      "---  ------            --------------  -----  \n",
      " 0   station           7750 non-null   float64\n",
      " 1   Date              7750 non-null   object \n",
      " 2   Present_Tmax      7682 non-null   float64\n",
      " 3   Present_Tmin      7682 non-null   float64\n",
      " 4   LDAPS_RHmin       7677 non-null   float64\n",
      " 5   LDAPS_RHmax       7677 non-null   float64\n",
      " 6   LDAPS_Tmax_lapse  7677 non-null   float64\n",
      " 7   LDAPS_Tmin_lapse  7677 non-null   float64\n",
      " 8   LDAPS_WS          7677 non-null   float64\n",
      " 9   LDAPS_LH          7677 non-null   float64\n",
      " 10  LDAPS_CC1         7677 non-null   float64\n",
      " 11  LDAPS_CC2         7677 non-null   float64\n",
      " 12  LDAPS_CC3         7677 non-null   float64\n",
      " 13  LDAPS_CC4         7677 non-null   float64\n",
      " 14  LDAPS_PPT1        7677 non-null   float64\n",
      " 15  LDAPS_PPT2        7677 non-null   float64\n",
      " 16  LDAPS_PPT3        7677 non-null   float64\n",
      " 17  LDAPS_PPT4        7677 non-null   float64\n",
      " 18  lat               7752 non-null   float64\n",
      " 19  lon               7752 non-null   float64\n",
      " 20  DEM               7752 non-null   float64\n",
      " 21  Slope             7752 non-null   float64\n",
      " 22  Solar radiation   7752 non-null   float64\n",
      " 23  Next_Tmax         7725 non-null   float64\n",
      " 24  Next_Tmin         7725 non-null   float64\n",
      "dtypes: float64(24), object(1)\n",
      "memory usage: 1.5+ MB\n"
     ]
    }
   ],
   "source": [
    "# Exploratory Data Analysis\n",
    "\n",
    "df.info()"
   ]
  },
  {
   "cell_type": "code",
   "execution_count": 5,
   "id": "5e309b50",
   "metadata": {},
   "outputs": [],
   "source": [
    "# Most columns are of float type except one of object type"
   ]
  },
  {
   "cell_type": "code",
   "execution_count": 6,
   "id": "5857fdb3",
   "metadata": {},
   "outputs": [
    {
     "data": {
      "text/plain": [
       "station              2\n",
       "Date                 2\n",
       "Present_Tmax        70\n",
       "Present_Tmin        70\n",
       "LDAPS_RHmin         75\n",
       "LDAPS_RHmax         75\n",
       "LDAPS_Tmax_lapse    75\n",
       "LDAPS_Tmin_lapse    75\n",
       "LDAPS_WS            75\n",
       "LDAPS_LH            75\n",
       "LDAPS_CC1           75\n",
       "LDAPS_CC2           75\n",
       "LDAPS_CC3           75\n",
       "LDAPS_CC4           75\n",
       "LDAPS_PPT1          75\n",
       "LDAPS_PPT2          75\n",
       "LDAPS_PPT3          75\n",
       "LDAPS_PPT4          75\n",
       "lat                  0\n",
       "lon                  0\n",
       "DEM                  0\n",
       "Slope                0\n",
       "Solar radiation      0\n",
       "Next_Tmax           27\n",
       "Next_Tmin           27\n",
       "dtype: int64"
      ]
     },
     "execution_count": 6,
     "metadata": {},
     "output_type": "execute_result"
    }
   ],
   "source": [
    "# Checking missing values\n",
    "\n",
    "df.isnull().sum()"
   ]
  },
  {
   "cell_type": "code",
   "execution_count": 7,
   "id": "84a2cb93",
   "metadata": {},
   "outputs": [],
   "source": [
    "# In comparision to number of rows in dataset,missing values are less,so we can drop missing values rows"
   ]
  },
  {
   "cell_type": "code",
   "execution_count": 8,
   "id": "4ec8a80d",
   "metadata": {},
   "outputs": [],
   "source": [
    "# Dropping missing values rows\n",
    "\n",
    "df.dropna(axis=0,inplace=True)"
   ]
  },
  {
   "cell_type": "code",
   "execution_count": 9,
   "id": "a5f10e82",
   "metadata": {},
   "outputs": [
    {
     "data": {
      "text/plain": [
       "station             0\n",
       "Date                0\n",
       "Present_Tmax        0\n",
       "Present_Tmin        0\n",
       "LDAPS_RHmin         0\n",
       "LDAPS_RHmax         0\n",
       "LDAPS_Tmax_lapse    0\n",
       "LDAPS_Tmin_lapse    0\n",
       "LDAPS_WS            0\n",
       "LDAPS_LH            0\n",
       "LDAPS_CC1           0\n",
       "LDAPS_CC2           0\n",
       "LDAPS_CC3           0\n",
       "LDAPS_CC4           0\n",
       "LDAPS_PPT1          0\n",
       "LDAPS_PPT2          0\n",
       "LDAPS_PPT3          0\n",
       "LDAPS_PPT4          0\n",
       "lat                 0\n",
       "lon                 0\n",
       "DEM                 0\n",
       "Slope               0\n",
       "Solar radiation     0\n",
       "Next_Tmax           0\n",
       "Next_Tmin           0\n",
       "dtype: int64"
      ]
     },
     "execution_count": 9,
     "metadata": {},
     "output_type": "execute_result"
    }
   ],
   "source": [
    "df.isnull().sum()"
   ]
  },
  {
   "cell_type": "code",
   "execution_count": 10,
   "id": "a04952cc",
   "metadata": {},
   "outputs": [
    {
     "data": {
      "text/html": [
       "<div>\n",
       "<style scoped>\n",
       "    .dataframe tbody tr th:only-of-type {\n",
       "        vertical-align: middle;\n",
       "    }\n",
       "\n",
       "    .dataframe tbody tr th {\n",
       "        vertical-align: top;\n",
       "    }\n",
       "\n",
       "    .dataframe thead th {\n",
       "        text-align: right;\n",
       "    }\n",
       "</style>\n",
       "<table border=\"1\" class=\"dataframe\">\n",
       "  <thead>\n",
       "    <tr style=\"text-align: right;\">\n",
       "      <th></th>\n",
       "      <th>station</th>\n",
       "      <th>Present_Tmax</th>\n",
       "      <th>Present_Tmin</th>\n",
       "      <th>LDAPS_RHmin</th>\n",
       "      <th>LDAPS_RHmax</th>\n",
       "      <th>LDAPS_Tmax_lapse</th>\n",
       "      <th>LDAPS_Tmin_lapse</th>\n",
       "      <th>LDAPS_WS</th>\n",
       "      <th>LDAPS_LH</th>\n",
       "      <th>LDAPS_CC1</th>\n",
       "      <th>...</th>\n",
       "      <th>LDAPS_PPT2</th>\n",
       "      <th>LDAPS_PPT3</th>\n",
       "      <th>LDAPS_PPT4</th>\n",
       "      <th>lat</th>\n",
       "      <th>lon</th>\n",
       "      <th>DEM</th>\n",
       "      <th>Slope</th>\n",
       "      <th>Solar radiation</th>\n",
       "      <th>Next_Tmax</th>\n",
       "      <th>Next_Tmin</th>\n",
       "    </tr>\n",
       "  </thead>\n",
       "  <tbody>\n",
       "    <tr>\n",
       "      <th>count</th>\n",
       "      <td>7588.000000</td>\n",
       "      <td>7588.000000</td>\n",
       "      <td>7588.000000</td>\n",
       "      <td>7588.000000</td>\n",
       "      <td>7588.000000</td>\n",
       "      <td>7588.000000</td>\n",
       "      <td>7588.000000</td>\n",
       "      <td>7588.000000</td>\n",
       "      <td>7588.000000</td>\n",
       "      <td>7588.000000</td>\n",
       "      <td>...</td>\n",
       "      <td>7588.000000</td>\n",
       "      <td>7588.000000</td>\n",
       "      <td>7588.000000</td>\n",
       "      <td>7588.000000</td>\n",
       "      <td>7588.00000</td>\n",
       "      <td>7588.000000</td>\n",
       "      <td>7588.000000</td>\n",
       "      <td>7588.000000</td>\n",
       "      <td>7588.000000</td>\n",
       "      <td>7588.000000</td>\n",
       "    </tr>\n",
       "    <tr>\n",
       "      <th>mean</th>\n",
       "      <td>13.014101</td>\n",
       "      <td>29.748366</td>\n",
       "      <td>23.195809</td>\n",
       "      <td>56.724969</td>\n",
       "      <td>88.360823</td>\n",
       "      <td>29.620128</td>\n",
       "      <td>23.511786</td>\n",
       "      <td>7.094097</td>\n",
       "      <td>62.492606</td>\n",
       "      <td>0.368510</td>\n",
       "      <td>...</td>\n",
       "      <td>0.480738</td>\n",
       "      <td>0.275007</td>\n",
       "      <td>0.265373</td>\n",
       "      <td>37.544792</td>\n",
       "      <td>126.99142</td>\n",
       "      <td>61.918136</td>\n",
       "      <td>1.259755</td>\n",
       "      <td>5343.724208</td>\n",
       "      <td>30.241526</td>\n",
       "      <td>22.910820</td>\n",
       "    </tr>\n",
       "    <tr>\n",
       "      <th>std</th>\n",
       "      <td>7.217858</td>\n",
       "      <td>2.967401</td>\n",
       "      <td>2.400880</td>\n",
       "      <td>14.626559</td>\n",
       "      <td>7.199456</td>\n",
       "      <td>2.943496</td>\n",
       "      <td>2.342579</td>\n",
       "      <td>2.177034</td>\n",
       "      <td>33.686158</td>\n",
       "      <td>0.262260</td>\n",
       "      <td>...</td>\n",
       "      <td>1.743327</td>\n",
       "      <td>1.146087</td>\n",
       "      <td>1.179661</td>\n",
       "      <td>0.050428</td>\n",
       "      <td>0.07922</td>\n",
       "      <td>54.323529</td>\n",
       "      <td>1.372748</td>\n",
       "      <td>429.782561</td>\n",
       "      <td>3.111807</td>\n",
       "      <td>2.482256</td>\n",
       "    </tr>\n",
       "    <tr>\n",
       "      <th>min</th>\n",
       "      <td>1.000000</td>\n",
       "      <td>20.000000</td>\n",
       "      <td>11.300000</td>\n",
       "      <td>19.794666</td>\n",
       "      <td>58.936283</td>\n",
       "      <td>17.624954</td>\n",
       "      <td>14.272646</td>\n",
       "      <td>2.882580</td>\n",
       "      <td>-13.603212</td>\n",
       "      <td>0.000000</td>\n",
       "      <td>...</td>\n",
       "      <td>0.000000</td>\n",
       "      <td>0.000000</td>\n",
       "      <td>0.000000</td>\n",
       "      <td>37.456200</td>\n",
       "      <td>126.82600</td>\n",
       "      <td>12.370000</td>\n",
       "      <td>0.098500</td>\n",
       "      <td>4329.520508</td>\n",
       "      <td>17.400000</td>\n",
       "      <td>11.300000</td>\n",
       "    </tr>\n",
       "    <tr>\n",
       "      <th>25%</th>\n",
       "      <td>7.000000</td>\n",
       "      <td>27.800000</td>\n",
       "      <td>21.600000</td>\n",
       "      <td>45.960243</td>\n",
       "      <td>84.203724</td>\n",
       "      <td>27.673756</td>\n",
       "      <td>22.086820</td>\n",
       "      <td>5.675358</td>\n",
       "      <td>37.206201</td>\n",
       "      <td>0.146546</td>\n",
       "      <td>...</td>\n",
       "      <td>0.000000</td>\n",
       "      <td>0.000000</td>\n",
       "      <td>0.000000</td>\n",
       "      <td>37.510200</td>\n",
       "      <td>126.93700</td>\n",
       "      <td>28.700000</td>\n",
       "      <td>0.271300</td>\n",
       "      <td>5001.485717</td>\n",
       "      <td>28.200000</td>\n",
       "      <td>21.300000</td>\n",
       "    </tr>\n",
       "    <tr>\n",
       "      <th>50%</th>\n",
       "      <td>13.000000</td>\n",
       "      <td>29.900000</td>\n",
       "      <td>23.400000</td>\n",
       "      <td>55.023199</td>\n",
       "      <td>89.784122</td>\n",
       "      <td>29.709537</td>\n",
       "      <td>23.758249</td>\n",
       "      <td>6.547838</td>\n",
       "      <td>56.898324</td>\n",
       "      <td>0.315706</td>\n",
       "      <td>...</td>\n",
       "      <td>0.000000</td>\n",
       "      <td>0.000000</td>\n",
       "      <td>0.000000</td>\n",
       "      <td>37.550700</td>\n",
       "      <td>126.99500</td>\n",
       "      <td>45.716000</td>\n",
       "      <td>0.618000</td>\n",
       "      <td>5441.987305</td>\n",
       "      <td>30.400000</td>\n",
       "      <td>23.100000</td>\n",
       "    </tr>\n",
       "    <tr>\n",
       "      <th>75%</th>\n",
       "      <td>19.000000</td>\n",
       "      <td>32.000000</td>\n",
       "      <td>24.800000</td>\n",
       "      <td>67.115099</td>\n",
       "      <td>93.742725</td>\n",
       "      <td>31.711109</td>\n",
       "      <td>25.155660</td>\n",
       "      <td>8.028960</td>\n",
       "      <td>84.235666</td>\n",
       "      <td>0.574174</td>\n",
       "      <td>...</td>\n",
       "      <td>0.017735</td>\n",
       "      <td>0.007855</td>\n",
       "      <td>0.000017</td>\n",
       "      <td>37.577600</td>\n",
       "      <td>127.04200</td>\n",
       "      <td>59.832400</td>\n",
       "      <td>1.767800</td>\n",
       "      <td>5729.485840</td>\n",
       "      <td>32.600000</td>\n",
       "      <td>24.600000</td>\n",
       "    </tr>\n",
       "    <tr>\n",
       "      <th>max</th>\n",
       "      <td>25.000000</td>\n",
       "      <td>37.600000</td>\n",
       "      <td>29.900000</td>\n",
       "      <td>98.524734</td>\n",
       "      <td>100.000153</td>\n",
       "      <td>38.542255</td>\n",
       "      <td>29.619342</td>\n",
       "      <td>21.857621</td>\n",
       "      <td>213.414006</td>\n",
       "      <td>0.967277</td>\n",
       "      <td>...</td>\n",
       "      <td>21.621661</td>\n",
       "      <td>15.841235</td>\n",
       "      <td>16.655469</td>\n",
       "      <td>37.645000</td>\n",
       "      <td>127.13500</td>\n",
       "      <td>212.335000</td>\n",
       "      <td>5.178200</td>\n",
       "      <td>5992.895996</td>\n",
       "      <td>38.900000</td>\n",
       "      <td>29.800000</td>\n",
       "    </tr>\n",
       "  </tbody>\n",
       "</table>\n",
       "<p>8 rows × 24 columns</p>\n",
       "</div>"
      ],
      "text/plain": [
       "           station  Present_Tmax  Present_Tmin  LDAPS_RHmin  LDAPS_RHmax  \\\n",
       "count  7588.000000   7588.000000   7588.000000  7588.000000  7588.000000   \n",
       "mean     13.014101     29.748366     23.195809    56.724969    88.360823   \n",
       "std       7.217858      2.967401      2.400880    14.626559     7.199456   \n",
       "min       1.000000     20.000000     11.300000    19.794666    58.936283   \n",
       "25%       7.000000     27.800000     21.600000    45.960243    84.203724   \n",
       "50%      13.000000     29.900000     23.400000    55.023199    89.784122   \n",
       "75%      19.000000     32.000000     24.800000    67.115099    93.742725   \n",
       "max      25.000000     37.600000     29.900000    98.524734   100.000153   \n",
       "\n",
       "       LDAPS_Tmax_lapse  LDAPS_Tmin_lapse     LDAPS_WS     LDAPS_LH  \\\n",
       "count       7588.000000       7588.000000  7588.000000  7588.000000   \n",
       "mean          29.620128         23.511786     7.094097    62.492606   \n",
       "std            2.943496          2.342579     2.177034    33.686158   \n",
       "min           17.624954         14.272646     2.882580   -13.603212   \n",
       "25%           27.673756         22.086820     5.675358    37.206201   \n",
       "50%           29.709537         23.758249     6.547838    56.898324   \n",
       "75%           31.711109         25.155660     8.028960    84.235666   \n",
       "max           38.542255         29.619342    21.857621   213.414006   \n",
       "\n",
       "         LDAPS_CC1  ...   LDAPS_PPT2   LDAPS_PPT3   LDAPS_PPT4          lat  \\\n",
       "count  7588.000000  ...  7588.000000  7588.000000  7588.000000  7588.000000   \n",
       "mean      0.368510  ...     0.480738     0.275007     0.265373    37.544792   \n",
       "std       0.262260  ...     1.743327     1.146087     1.179661     0.050428   \n",
       "min       0.000000  ...     0.000000     0.000000     0.000000    37.456200   \n",
       "25%       0.146546  ...     0.000000     0.000000     0.000000    37.510200   \n",
       "50%       0.315706  ...     0.000000     0.000000     0.000000    37.550700   \n",
       "75%       0.574174  ...     0.017735     0.007855     0.000017    37.577600   \n",
       "max       0.967277  ...    21.621661    15.841235    16.655469    37.645000   \n",
       "\n",
       "              lon          DEM        Slope  Solar radiation    Next_Tmax  \\\n",
       "count  7588.00000  7588.000000  7588.000000      7588.000000  7588.000000   \n",
       "mean    126.99142    61.918136     1.259755      5343.724208    30.241526   \n",
       "std       0.07922    54.323529     1.372748       429.782561     3.111807   \n",
       "min     126.82600    12.370000     0.098500      4329.520508    17.400000   \n",
       "25%     126.93700    28.700000     0.271300      5001.485717    28.200000   \n",
       "50%     126.99500    45.716000     0.618000      5441.987305    30.400000   \n",
       "75%     127.04200    59.832400     1.767800      5729.485840    32.600000   \n",
       "max     127.13500   212.335000     5.178200      5992.895996    38.900000   \n",
       "\n",
       "         Next_Tmin  \n",
       "count  7588.000000  \n",
       "mean     22.910820  \n",
       "std       2.482256  \n",
       "min      11.300000  \n",
       "25%      21.300000  \n",
       "50%      23.100000  \n",
       "75%      24.600000  \n",
       "max      29.800000  \n",
       "\n",
       "[8 rows x 24 columns]"
      ]
     },
     "execution_count": 10,
     "metadata": {},
     "output_type": "execute_result"
    }
   ],
   "source": [
    "# # Statistical summary\n",
    "\n",
    "df.describe()"
   ]
  },
  {
   "cell_type": "code",
   "execution_count": 11,
   "id": "4712c3dd",
   "metadata": {},
   "outputs": [],
   "source": [
    "# Above description clearly shows that there are no missing values now in dataset"
   ]
  },
  {
   "cell_type": "code",
   "execution_count": 12,
   "id": "d9273d17",
   "metadata": {},
   "outputs": [],
   "source": [
    "# Splitting date into day,month ,year\n",
    "\n",
    "\n",
    "df[\"Day\"] =df['Date'].str.split('-').str[0].astype(int)\n",
    "df[\"Month\"]=df['Date'].str.split('-').str[1].astype(int)\n",
    "df[\"Year\"] =df['Date'].str.split('-').str[2].astype(int)"
   ]
  },
  {
   "cell_type": "code",
   "execution_count": 13,
   "id": "865fad4f",
   "metadata": {},
   "outputs": [],
   "source": [
    "# Dropping Date column as it is unnecessary now\n",
    "\n",
    "df=df.drop(['Date'],axis=1)"
   ]
  },
  {
   "cell_type": "code",
   "execution_count": 14,
   "id": "f782387d",
   "metadata": {},
   "outputs": [],
   "source": [
    "# Converting float type columns to numeric type\n",
    "\n",
    "for i in df:\n",
    "    df[i] = df[i].astype(int)"
   ]
  },
  {
   "cell_type": "code",
   "execution_count": 15,
   "id": "59f11606",
   "metadata": {},
   "outputs": [
    {
     "name": "stdout",
     "output_type": "stream",
     "text": [
      "<class 'pandas.core.frame.DataFrame'>\n",
      "Int64Index: 7588 entries, 0 to 7749\n",
      "Data columns (total 27 columns):\n",
      " #   Column            Non-Null Count  Dtype\n",
      "---  ------            --------------  -----\n",
      " 0   station           7588 non-null   int32\n",
      " 1   Present_Tmax      7588 non-null   int32\n",
      " 2   Present_Tmin      7588 non-null   int32\n",
      " 3   LDAPS_RHmin       7588 non-null   int32\n",
      " 4   LDAPS_RHmax       7588 non-null   int32\n",
      " 5   LDAPS_Tmax_lapse  7588 non-null   int32\n",
      " 6   LDAPS_Tmin_lapse  7588 non-null   int32\n",
      " 7   LDAPS_WS          7588 non-null   int32\n",
      " 8   LDAPS_LH          7588 non-null   int32\n",
      " 9   LDAPS_CC1         7588 non-null   int32\n",
      " 10  LDAPS_CC2         7588 non-null   int32\n",
      " 11  LDAPS_CC3         7588 non-null   int32\n",
      " 12  LDAPS_CC4         7588 non-null   int32\n",
      " 13  LDAPS_PPT1        7588 non-null   int32\n",
      " 14  LDAPS_PPT2        7588 non-null   int32\n",
      " 15  LDAPS_PPT3        7588 non-null   int32\n",
      " 16  LDAPS_PPT4        7588 non-null   int32\n",
      " 17  lat               7588 non-null   int32\n",
      " 18  lon               7588 non-null   int32\n",
      " 19  DEM               7588 non-null   int32\n",
      " 20  Slope             7588 non-null   int32\n",
      " 21  Solar radiation   7588 non-null   int32\n",
      " 22  Next_Tmax         7588 non-null   int32\n",
      " 23  Next_Tmin         7588 non-null   int32\n",
      " 24  Day               7588 non-null   int32\n",
      " 25  Month             7588 non-null   int32\n",
      " 26  Year              7588 non-null   int32\n",
      "dtypes: int32(27)\n",
      "memory usage: 859.6 KB\n"
     ]
    }
   ],
   "source": [
    "df.info()"
   ]
  },
  {
   "cell_type": "code",
   "execution_count": 16,
   "id": "fb2556c6",
   "metadata": {},
   "outputs": [],
   "source": [
    "# Now all columns have been converted to integer type"
   ]
  },
  {
   "cell_type": "code",
   "execution_count": 17,
   "id": "3b8ea3fb",
   "metadata": {},
   "outputs": [],
   "source": [
    "\n",
    "X=df.drop(['Next_Tmax','Next_Tmin'],axis=1)\n",
    "y=df.get(['Next_Tmax','Next_Tmin'])"
   ]
  },
  {
   "cell_type": "code",
   "execution_count": 18,
   "id": "f3331d90",
   "metadata": {},
   "outputs": [
    {
     "data": {
      "text/plain": [
       "LDAPS_RHmax        -0.843460\n",
       "LDAPS_Tmin_lapse   -0.570672\n",
       "Solar radiation    -0.524335\n",
       "Present_Tmin       -0.344937\n",
       "Present_Tmax       -0.255961\n",
       "LDAPS_Tmax_lapse   -0.213990\n",
       "Month              -0.174856\n",
       "Day                -0.010718\n",
       "station            -0.004178\n",
       "lat                 0.000000\n",
       "LDAPS_CC3           0.000000\n",
       "LDAPS_CC4           0.000000\n",
       "LDAPS_CC1           0.000000\n",
       "LDAPS_CC2           0.000000\n",
       "Year                0.013575\n",
       "lon                 0.078093\n",
       "LDAPS_RHmin         0.300909\n",
       "LDAPS_LH            0.663223\n",
       "LDAPS_WS            1.513559\n",
       "DEM                 1.720833\n",
       "Slope               1.804018\n",
       "LDAPS_PPT1          5.671074\n",
       "LDAPS_PPT2          6.129018\n",
       "LDAPS_PPT3          6.913513\n",
       "LDAPS_PPT4          7.159558\n",
       "dtype: float64"
      ]
     },
     "execution_count": 18,
     "metadata": {},
     "output_type": "execute_result"
    }
   ],
   "source": [
    "# Checking skewness in features\n",
    "\n",
    "X.skew().sort_values()"
   ]
  },
  {
   "cell_type": "code",
   "execution_count": 19,
   "id": "609ea2e1",
   "metadata": {},
   "outputs": [],
   "source": [
    "# Removing skewness\n",
    "\n",
    "from sklearn.preprocessing import power_transform\n",
    "z = power_transform(X[0:])\n",
    "data_new= pd.DataFrame(z,columns=X.columns)\n",
    "X = data_new\n"
   ]
  },
  {
   "cell_type": "code",
   "execution_count": 20,
   "id": "92eba876",
   "metadata": {},
   "outputs": [
    {
     "data": {
      "text/plain": [
       "Day                -0.217762\n",
       "station            -0.206291\n",
       "Solar radiation    -0.182375\n",
       "LDAPS_RHmax        -0.120487\n",
       "Month              -0.084425\n",
       "Present_Tmax       -0.036564\n",
       "LDAPS_Tmin_lapse   -0.022731\n",
       "LDAPS_RHmin        -0.018459\n",
       "Present_Tmin       -0.014642\n",
       "LDAPS_Tmax_lapse   -0.011812\n",
       "LDAPS_WS           -0.001669\n",
       "lat                 0.000000\n",
       "LDAPS_CC4           0.000000\n",
       "LDAPS_CC2           0.000000\n",
       "LDAPS_CC1           0.000000\n",
       "LDAPS_CC3           0.000000\n",
       "LDAPS_LH            0.019865\n",
       "DEM                 0.038818\n",
       "lon                 0.078093\n",
       "Year                0.409648\n",
       "Slope               0.643425\n",
       "LDAPS_PPT1          2.178040\n",
       "LDAPS_PPT2          2.752291\n",
       "LDAPS_PPT3          3.598170\n",
       "LDAPS_PPT4          3.717460\n",
       "dtype: float64"
      ]
     },
     "execution_count": 20,
     "metadata": {},
     "output_type": "execute_result"
    }
   ],
   "source": [
    "# Checking skewness in features\n",
    "\n",
    "X.skew().sort_values()"
   ]
  },
  {
   "cell_type": "code",
   "execution_count": 21,
   "id": "b3f02fa4",
   "metadata": {},
   "outputs": [],
   "source": [
    "\n",
    "# Scaling the dataset and normalizing feature variables\n",
    "\n",
    "from sklearn.preprocessing import StandardScaler \n",
    "\n",
    "scale = StandardScaler()\n",
    "X_features=X\n",
    "X= scale.fit_transform(X)"
   ]
  },
  {
   "cell_type": "code",
   "execution_count": null,
   "id": "872630cb",
   "metadata": {},
   "outputs": [],
   "source": []
  },
  {
   "cell_type": "code",
   "execution_count": 22,
   "id": "b1e7c022",
   "metadata": {},
   "outputs": [
    {
     "name": "stdout",
     "output_type": "stream",
     "text": [
      "best random_state :  5\n",
      "best r2 score :  0.740314852871004\n"
     ]
    }
   ],
   "source": [
    "# Evaluation of models\n",
    "\n",
    "#Training model with DecisionTreeRegressor and finding the best state,r2_score\n",
    "\n",
    "from sklearn.metrics import mean_squared_error,r2_score\n",
    "from sklearn.model_selection import train_test_split\n",
    "\n",
    "model_dt = DecisionTreeRegressor()\n",
    "\n",
    "score_s=0\n",
    "state=0\n",
    "for i in range(0,25):\n",
    "    X_train, X_test, y_train, y_test = train_test_split(X,y,test_size=0.3, random_state =i)\n",
    "    model_dt.fit(X_train, y_train)\n",
    "    y_pred_dt = model_dt.predict(X_test)\n",
    "    score=r2_score(y_test,y_pred_dt)\n",
    "    if score>score_s:\n",
    "        score_s=score\n",
    "        state=i\n",
    "        \n",
    "print('best random_state : ',state)\n",
    "print('best r2 score : ',score_s)"
   ]
  },
  {
   "cell_type": "code",
   "execution_count": 23,
   "id": "fc5cd5ef",
   "metadata": {},
   "outputs": [
    {
     "data": {
      "text/plain": [
       "1.516488211424233"
      ]
     },
     "execution_count": 23,
     "metadata": {},
     "output_type": "execute_result"
    }
   ],
   "source": [
    "# finding mean_squared_error,rmse  for DecisionTreeRegressor\n",
    "\n",
    "mse=mean_squared_error(y_test,y_pred_dt)\n",
    "rmse=np.sqrt(mse)\n",
    "\n",
    "rmse"
   ]
  },
  {
   "cell_type": "code",
   "execution_count": 24,
   "id": "07562766",
   "metadata": {},
   "outputs": [
    {
     "name": "stdout",
     "output_type": "stream",
     "text": [
      "best random_state :  7\n",
      "best r2 score :  0.7919297125937352\n"
     ]
    }
   ],
   "source": [
    "# Evaluation of models\n",
    "\n",
    "#Training model with LinearRegression and finding the best state,r2_score\n",
    "\n",
    "from sklearn.metrics import mean_squared_error,r2_score\n",
    "from sklearn.model_selection import train_test_split\n",
    "\n",
    "model_lr = LinearRegression()\n",
    "\n",
    "score_s=0\n",
    "state=0\n",
    "for i in range(0,25):\n",
    "    X_train, X_test, y_train, y_test = train_test_split(X,y,test_size=0.3, random_state =i)\n",
    "    model_lr.fit(X_train, y_train)\n",
    "    y_pred_lr = model_lr.predict(X_test)\n",
    "    score=r2_score(y_test,y_pred_lr)\n",
    "    if score>score_s:\n",
    "        score_s=score\n",
    "        state=i\n",
    "        \n",
    "print('best random_state : ',state)\n",
    "print('best r2 score : ',score_s)"
   ]
  },
  {
   "cell_type": "code",
   "execution_count": 25,
   "id": "e4724c5a",
   "metadata": {},
   "outputs": [
    {
     "data": {
      "text/plain": [
       "1.3288962344293433"
      ]
     },
     "execution_count": 25,
     "metadata": {},
     "output_type": "execute_result"
    }
   ],
   "source": [
    "# finding mean_squared_error,rmse  for LinearRegression\n",
    "\n",
    "mse=mean_squared_error(y_test,y_pred_lr)\n",
    "rmse=np.sqrt(mse)\n",
    "\n",
    "rmse"
   ]
  },
  {
   "cell_type": "code",
   "execution_count": 26,
   "id": "0500bc3d",
   "metadata": {},
   "outputs": [
    {
     "name": "stdout",
     "output_type": "stream",
     "text": [
      "best random_state :  7\n",
      "best r2 score :  0.8804863008745256\n"
     ]
    }
   ],
   "source": [
    "# Evaluation of models\n",
    "\n",
    "#Training model with RandomForestRegressor and finding the best state,r2_score\n",
    "\n",
    "from sklearn.metrics import mean_squared_error,r2_score\n",
    "from sklearn.model_selection import train_test_split\n",
    "\n",
    "model_rfr = RandomForestRegressor()\n",
    "\n",
    "score_s=0\n",
    "state=0\n",
    "for i in range(0,10):\n",
    "    X_train, X_test, y_train, y_test = train_test_split(X,y,test_size=0.3, random_state =i)\n",
    "    model_rfr.fit(X_train, y_train)\n",
    "    y_pred_rfr = model_rfr.predict(X_test)\n",
    "    score=r2_score(y_test,y_pred_rfr)\n",
    "    if score>score_s:\n",
    "        score_s=score\n",
    "        state=i\n",
    "        \n",
    "print('best random_state : ',state)\n",
    "print('best r2 score : ',score_s)"
   ]
  },
  {
   "cell_type": "code",
   "execution_count": 27,
   "id": "8b77b8bb",
   "metadata": {},
   "outputs": [
    {
     "data": {
      "text/plain": [
       "1.0115940429270787"
      ]
     },
     "execution_count": 27,
     "metadata": {},
     "output_type": "execute_result"
    }
   ],
   "source": [
    "# finding mean_squared_error,rmse  for RandomForestRegressor\n",
    "\n",
    "mse=mean_squared_error(y_test,y_pred_rfr)\n",
    "rmse=np.sqrt(mse)\n",
    "\n",
    "rmse"
   ]
  },
  {
   "cell_type": "code",
   "execution_count": 28,
   "id": "921dd155",
   "metadata": {},
   "outputs": [
    {
     "name": "stdout",
     "output_type": "stream",
     "text": [
      "best random_state :  24\n",
      "best r2 score :  0.8232887730051577\n"
     ]
    }
   ],
   "source": [
    "# Evaluation of models\n",
    "\n",
    "#Training model with KNeighborsRegressor and finding the best state,r2_score\n",
    "\n",
    "from sklearn.metrics import mean_squared_error,r2_score\n",
    "from sklearn.model_selection import train_test_split\n",
    "\n",
    "model_knr = KNeighborsRegressor()\n",
    "\n",
    "score_s=0\n",
    "state=0\n",
    "for i in range(0,25):\n",
    "    X_train, X_test, y_train, y_test = train_test_split(X,y,test_size=0.3, random_state =i)\n",
    "    model_knr.fit(X_train, y_train)\n",
    "    y_pred_knr = model_knr.predict(X_test)\n",
    "    score=r2_score(y_test,y_pred_knr)\n",
    "    if score>score_s:\n",
    "        score_s=score\n",
    "        state=i\n",
    "        \n",
    "print('best random_state : ',state)\n",
    "print('best r2 score : ',score_s)"
   ]
  },
  {
   "cell_type": "code",
   "execution_count": 29,
   "id": "e643d5a0",
   "metadata": {},
   "outputs": [
    {
     "data": {
      "text/plain": [
       "1.2100806275470604"
      ]
     },
     "execution_count": 29,
     "metadata": {},
     "output_type": "execute_result"
    }
   ],
   "source": [
    "# finding mean_squared_error,rmse  for KNeighborsRegressor\n",
    "\n",
    "mse=mean_squared_error(y_test,y_pred_knr)\n",
    "rmse=np.sqrt(mse)\n",
    "\n",
    "rmse"
   ]
  },
  {
   "cell_type": "code",
   "execution_count": null,
   "id": "b6f861ad",
   "metadata": {},
   "outputs": [],
   "source": [
    "# Clearly RandomForestRegressor model looks good enough to predict primary_fuel and capacity_mw"
   ]
  },
  {
   "cell_type": "code",
   "execution_count": 30,
   "id": "2c7d9047",
   "metadata": {},
   "outputs": [],
   "source": [
    "# HyperParameterTuning with  RandomForestRegressor\n",
    "\n",
    "from sklearn.model_selection import GridSearchCV\n",
    "X_train, X_test, y_train, y_test = train_test_split(X,y,test_size=0.25, random_state =12)\n",
    "\n",
    "estimator = RandomForestRegressor()\n",
    "param_grid = { \n",
    "            \"n_estimators\"      : [10,20,30],\n",
    "            \"max_features\"      : [\"auto\", \"sqrt\", \"log2\"],\n",
    "            \"min_samples_split\" : [2,4,8],\n",
    "            \"bootstrap\": [True, False],\n",
    "            }"
   ]
  },
  {
   "cell_type": "code",
   "execution_count": 31,
   "id": "bf46c31d",
   "metadata": {},
   "outputs": [
    {
     "data": {
      "text/plain": [
       "GridSearchCV(cv=5, estimator=RandomForestRegressor(), n_jobs=-1,\n",
       "             param_grid={'bootstrap': [True, False],\n",
       "                         'max_features': ['auto', 'sqrt', 'log2'],\n",
       "                         'min_samples_split': [2, 4, 8],\n",
       "                         'n_estimators': [10, 20, 30]})"
      ]
     },
     "execution_count": 31,
     "metadata": {},
     "output_type": "execute_result"
    }
   ],
   "source": [
    "grid = GridSearchCV(estimator, param_grid, n_jobs=-1, cv=5)\n",
    "\n",
    "grid.fit(X_train, y_train)"
   ]
  },
  {
   "cell_type": "code",
   "execution_count": 32,
   "id": "a9e31394",
   "metadata": {},
   "outputs": [
    {
     "data": {
      "text/plain": [
       "0.8856904230438755"
      ]
     },
     "execution_count": 32,
     "metadata": {},
     "output_type": "execute_result"
    }
   ],
   "source": [
    "grid.best_score_"
   ]
  },
  {
   "cell_type": "code",
   "execution_count": 33,
   "id": "2d10db7a",
   "metadata": {},
   "outputs": [
    {
     "data": {
      "text/plain": [
       "{'bootstrap': False,\n",
       " 'max_features': 'log2',\n",
       " 'min_samples_split': 2,\n",
       " 'n_estimators': 30}"
      ]
     },
     "execution_count": 33,
     "metadata": {},
     "output_type": "execute_result"
    }
   ],
   "source": [
    "grid.best_params_"
   ]
  },
  {
   "cell_type": "code",
   "execution_count": 34,
   "id": "140a00bf",
   "metadata": {},
   "outputs": [
    {
     "data": {
      "text/plain": [
       "0.890985388534449"
      ]
     },
     "execution_count": 34,
     "metadata": {},
     "output_type": "execute_result"
    }
   ],
   "source": [
    "grid.score(X_test,y_test)"
   ]
  },
  {
   "cell_type": "code",
   "execution_count": null,
   "id": "9bc94bc1",
   "metadata": {},
   "outputs": [],
   "source": [
    "#Clearly Hyperparameter tuning improved model performance."
   ]
  },
  {
   "cell_type": "code",
   "execution_count": 36,
   "id": "6868fa8f",
   "metadata": {},
   "outputs": [
    {
     "data": {
      "text/plain": [
       "array([[31.13333333, 22.43333333],\n",
       "       [33.66666667, 26.2       ],\n",
       "       [34.46666667, 25.46666667],\n",
       "       [26.63333333, 22.        ],\n",
       "       [29.2       , 19.76666667],\n",
       "       [27.8       , 20.43333333],\n",
       "       [31.93333333, 22.13333333],\n",
       "       [28.33333333, 20.7       ],\n",
       "       [29.73333333, 22.2       ],\n",
       "       [30.        , 26.13333333],\n",
       "       [28.06666667, 22.23333333],\n",
       "       [30.03333333, 24.03333333],\n",
       "       [34.13333333, 26.56666667],\n",
       "       [28.66666667, 22.33333333],\n",
       "       [28.06666667, 22.56666667],\n",
       "       [25.53333333, 21.63333333],\n",
       "       [27.5       , 20.73333333],\n",
       "       [30.63333333, 23.83333333],\n",
       "       [28.1       , 19.9       ],\n",
       "       [30.93333333, 23.8       ]])"
      ]
     },
     "execution_count": 36,
     "metadata": {},
     "output_type": "execute_result"
    }
   ],
   "source": [
    "\n",
    "grid.fit(X_train,y_train)\n",
    "y_pred_rfr=grid.predict(X_test)\n",
    "y_pred_rfr[0:20]"
   ]
  },
  {
   "cell_type": "code",
   "execution_count": 37,
   "id": "4d861149",
   "metadata": {},
   "outputs": [
    {
     "data": {
      "text/html": [
       "<div>\n",
       "<style scoped>\n",
       "    .dataframe tbody tr th:only-of-type {\n",
       "        vertical-align: middle;\n",
       "    }\n",
       "\n",
       "    .dataframe tbody tr th {\n",
       "        vertical-align: top;\n",
       "    }\n",
       "\n",
       "    .dataframe thead th {\n",
       "        text-align: right;\n",
       "    }\n",
       "</style>\n",
       "<table border=\"1\" class=\"dataframe\">\n",
       "  <thead>\n",
       "    <tr style=\"text-align: right;\">\n",
       "      <th></th>\n",
       "      <th>Next_Tmax</th>\n",
       "      <th>Next_Tmin</th>\n",
       "    </tr>\n",
       "  </thead>\n",
       "  <tbody>\n",
       "    <tr>\n",
       "      <th>4244</th>\n",
       "      <td>31</td>\n",
       "      <td>23</td>\n",
       "    </tr>\n",
       "    <tr>\n",
       "      <th>7038</th>\n",
       "      <td>33</td>\n",
       "      <td>26</td>\n",
       "    </tr>\n",
       "    <tr>\n",
       "      <th>5821</th>\n",
       "      <td>35</td>\n",
       "      <td>26</td>\n",
       "    </tr>\n",
       "    <tr>\n",
       "      <th>2747</th>\n",
       "      <td>25</td>\n",
       "      <td>23</td>\n",
       "    </tr>\n",
       "    <tr>\n",
       "      <th>2993</th>\n",
       "      <td>28</td>\n",
       "      <td>20</td>\n",
       "    </tr>\n",
       "    <tr>\n",
       "      <th>4681</th>\n",
       "      <td>28</td>\n",
       "      <td>20</td>\n",
       "    </tr>\n",
       "    <tr>\n",
       "      <th>3328</th>\n",
       "      <td>33</td>\n",
       "      <td>22</td>\n",
       "    </tr>\n",
       "    <tr>\n",
       "      <th>1535</th>\n",
       "      <td>29</td>\n",
       "      <td>21</td>\n",
       "    </tr>\n",
       "    <tr>\n",
       "      <th>624</th>\n",
       "      <td>31</td>\n",
       "      <td>23</td>\n",
       "    </tr>\n",
       "    <tr>\n",
       "      <th>5238</th>\n",
       "      <td>30</td>\n",
       "      <td>26</td>\n",
       "    </tr>\n",
       "    <tr>\n",
       "      <th>2375</th>\n",
       "      <td>26</td>\n",
       "      <td>21</td>\n",
       "    </tr>\n",
       "    <tr>\n",
       "      <th>493</th>\n",
       "      <td>30</td>\n",
       "      <td>24</td>\n",
       "    </tr>\n",
       "    <tr>\n",
       "      <th>7049</th>\n",
       "      <td>34</td>\n",
       "      <td>27</td>\n",
       "    </tr>\n",
       "    <tr>\n",
       "      <th>4365</th>\n",
       "      <td>28</td>\n",
       "      <td>22</td>\n",
       "    </tr>\n",
       "    <tr>\n",
       "      <th>2116</th>\n",
       "      <td>27</td>\n",
       "      <td>20</td>\n",
       "    </tr>\n",
       "    <tr>\n",
       "      <th>2848</th>\n",
       "      <td>25</td>\n",
       "      <td>21</td>\n",
       "    </tr>\n",
       "    <tr>\n",
       "      <th>2878</th>\n",
       "      <td>29</td>\n",
       "      <td>23</td>\n",
       "    </tr>\n",
       "    <tr>\n",
       "      <th>3920</th>\n",
       "      <td>29</td>\n",
       "      <td>23</td>\n",
       "    </tr>\n",
       "    <tr>\n",
       "      <th>2679</th>\n",
       "      <td>28</td>\n",
       "      <td>20</td>\n",
       "    </tr>\n",
       "    <tr>\n",
       "      <th>4473</th>\n",
       "      <td>31</td>\n",
       "      <td>25</td>\n",
       "    </tr>\n",
       "  </tbody>\n",
       "</table>\n",
       "</div>"
      ],
      "text/plain": [
       "      Next_Tmax  Next_Tmin\n",
       "4244         31         23\n",
       "7038         33         26\n",
       "5821         35         26\n",
       "2747         25         23\n",
       "2993         28         20\n",
       "4681         28         20\n",
       "3328         33         22\n",
       "1535         29         21\n",
       "624          31         23\n",
       "5238         30         26\n",
       "2375         26         21\n",
       "493          30         24\n",
       "7049         34         27\n",
       "4365         28         22\n",
       "2116         27         20\n",
       "2848         25         21\n",
       "2878         29         23\n",
       "3920         29         23\n",
       "2679         28         20\n",
       "4473         31         25"
      ]
     },
     "execution_count": 37,
     "metadata": {},
     "output_type": "execute_result"
    }
   ],
   "source": [
    "y_test[0:20]"
   ]
  },
  {
   "cell_type": "code",
   "execution_count": 38,
   "id": "cbc8701c",
   "metadata": {},
   "outputs": [
    {
     "data": {
      "text/plain": [
       "0.8882922124045877"
      ]
     },
     "execution_count": 38,
     "metadata": {},
     "output_type": "execute_result"
    }
   ],
   "source": [
    "score=r2_score(y_test,y_pred_rfr)\n",
    "score"
   ]
  },
  {
   "cell_type": "code",
   "execution_count": null,
   "id": "9c299c78",
   "metadata": {},
   "outputs": [],
   "source": [
    "# Exporting the model through pickle\n",
    "\n",
    "import pickle\n",
    "filename='TempForecastPred.pkl'\n",
    "pickle.dump(grid,open(filename,'wb'))"
   ]
  },
  {
   "cell_type": "code",
   "execution_count": null,
   "id": "5af1a4bb",
   "metadata": {},
   "outputs": [],
   "source": [
    "# Conclusion \n",
    "\n",
    "# Clearly we can see that the actual value and predicted values are very close to each other,Hence RandomForestRegressor is\n",
    "# a good choice for predicting temperature forecast"
   ]
  },
  {
   "cell_type": "code",
   "execution_count": null,
   "id": "ec7435b3",
   "metadata": {},
   "outputs": [],
   "source": []
  }
 ],
 "metadata": {
  "kernelspec": {
   "display_name": "Python 3",
   "language": "python",
   "name": "python3"
  },
  "language_info": {
   "codemirror_mode": {
    "name": "ipython",
    "version": 3
   },
   "file_extension": ".py",
   "mimetype": "text/x-python",
   "name": "python",
   "nbconvert_exporter": "python",
   "pygments_lexer": "ipython3",
   "version": "3.8.8"
  }
 },
 "nbformat": 4,
 "nbformat_minor": 5
}
