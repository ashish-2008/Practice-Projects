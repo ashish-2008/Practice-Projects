{
 "cells": [
  {
   "cell_type": "code",
   "execution_count": 82,
   "id": "fc2262cd",
   "metadata": {},
   "outputs": [
    {
     "data": {
      "text/html": [
       "<div>\n",
       "<style scoped>\n",
       "    .dataframe tbody tr th:only-of-type {\n",
       "        vertical-align: middle;\n",
       "    }\n",
       "\n",
       "    .dataframe tbody tr th {\n",
       "        vertical-align: top;\n",
       "    }\n",
       "\n",
       "    .dataframe thead th {\n",
       "        text-align: right;\n",
       "    }\n",
       "</style>\n",
       "<table border=\"1\" class=\"dataframe\">\n",
       "  <thead>\n",
       "    <tr style=\"text-align: right;\">\n",
       "      <th></th>\n",
       "      <th>Airline</th>\n",
       "      <th>Date_of_Journey</th>\n",
       "      <th>Source</th>\n",
       "      <th>Destination</th>\n",
       "      <th>Route</th>\n",
       "      <th>Dep_Time</th>\n",
       "      <th>Arrival_Time</th>\n",
       "      <th>Duration</th>\n",
       "      <th>Total_Stops</th>\n",
       "      <th>Additional_Info</th>\n",
       "      <th>Price</th>\n",
       "    </tr>\n",
       "  </thead>\n",
       "  <tbody>\n",
       "    <tr>\n",
       "      <th>0</th>\n",
       "      <td>IndiGo</td>\n",
       "      <td>24/03/2019</td>\n",
       "      <td>Banglore</td>\n",
       "      <td>New Delhi</td>\n",
       "      <td>BLR ? DEL</td>\n",
       "      <td>22:20</td>\n",
       "      <td>01:10 22 Mar</td>\n",
       "      <td>2h 50m</td>\n",
       "      <td>non-stop</td>\n",
       "      <td>No info</td>\n",
       "      <td>3897</td>\n",
       "    </tr>\n",
       "    <tr>\n",
       "      <th>1</th>\n",
       "      <td>Air India</td>\n",
       "      <td>1/05/2019</td>\n",
       "      <td>Kolkata</td>\n",
       "      <td>Banglore</td>\n",
       "      <td>CCU ? IXR ? BBI ? BLR</td>\n",
       "      <td>05:50</td>\n",
       "      <td>13:15</td>\n",
       "      <td>7h 25m</td>\n",
       "      <td>2 stops</td>\n",
       "      <td>No info</td>\n",
       "      <td>7662</td>\n",
       "    </tr>\n",
       "    <tr>\n",
       "      <th>2</th>\n",
       "      <td>Jet Airways</td>\n",
       "      <td>9/06/2019</td>\n",
       "      <td>Delhi</td>\n",
       "      <td>Cochin</td>\n",
       "      <td>DEL ? LKO ? BOM ? COK</td>\n",
       "      <td>09:25</td>\n",
       "      <td>04:25 10 Jun</td>\n",
       "      <td>19h</td>\n",
       "      <td>2 stops</td>\n",
       "      <td>No info</td>\n",
       "      <td>13882</td>\n",
       "    </tr>\n",
       "    <tr>\n",
       "      <th>3</th>\n",
       "      <td>IndiGo</td>\n",
       "      <td>12/05/2019</td>\n",
       "      <td>Kolkata</td>\n",
       "      <td>Banglore</td>\n",
       "      <td>CCU ? NAG ? BLR</td>\n",
       "      <td>18:05</td>\n",
       "      <td>23:30</td>\n",
       "      <td>5h 25m</td>\n",
       "      <td>1 stop</td>\n",
       "      <td>No info</td>\n",
       "      <td>6218</td>\n",
       "    </tr>\n",
       "    <tr>\n",
       "      <th>4</th>\n",
       "      <td>IndiGo</td>\n",
       "      <td>01/03/2019</td>\n",
       "      <td>Banglore</td>\n",
       "      <td>New Delhi</td>\n",
       "      <td>BLR ? NAG ? DEL</td>\n",
       "      <td>16:50</td>\n",
       "      <td>21:35</td>\n",
       "      <td>4h 45m</td>\n",
       "      <td>1 stop</td>\n",
       "      <td>No info</td>\n",
       "      <td>13302</td>\n",
       "    </tr>\n",
       "  </tbody>\n",
       "</table>\n",
       "</div>"
      ],
      "text/plain": [
       "       Airline Date_of_Journey    Source Destination                  Route  \\\n",
       "0       IndiGo      24/03/2019  Banglore   New Delhi              BLR ? DEL   \n",
       "1    Air India       1/05/2019   Kolkata    Banglore  CCU ? IXR ? BBI ? BLR   \n",
       "2  Jet Airways       9/06/2019     Delhi      Cochin  DEL ? LKO ? BOM ? COK   \n",
       "3       IndiGo      12/05/2019   Kolkata    Banglore        CCU ? NAG ? BLR   \n",
       "4       IndiGo      01/03/2019  Banglore   New Delhi        BLR ? NAG ? DEL   \n",
       "\n",
       "  Dep_Time  Arrival_Time Duration Total_Stops Additional_Info  Price  \n",
       "0    22:20  01:10 22 Mar   2h 50m    non-stop         No info   3897  \n",
       "1    05:50         13:15   7h 25m     2 stops         No info   7662  \n",
       "2    09:25  04:25 10 Jun      19h     2 stops         No info  13882  \n",
       "3    18:05         23:30   5h 25m      1 stop         No info   6218  \n",
       "4    16:50         21:35   4h 45m      1 stop         No info  13302  "
      ]
     },
     "execution_count": 82,
     "metadata": {},
     "output_type": "execute_result"
    }
   ],
   "source": [
    "# FlightPricePrediction\n",
    "\n",
    "\n",
    "import pandas as pd\n",
    "import numpy as np\n",
    "from sklearn.preprocessing import LabelEncoder\n",
    "import matplotlib.pyplot as plt\n",
    "import seaborn as sns\n",
    "from sklearn.metrics import mean_squared_error as mse\n",
    "from sklearn.metrics import r2_score\n",
    "\n",
    "from sklearn.linear_model import Ridge\n",
    "from sklearn.linear_model import Lasso\n",
    "from sklearn.linear_model import LinearRegression\n",
    "from sklearn.tree import DecisionTreeRegressor\n",
    "from sklearn.ensemble import RandomForestRegressor\n",
    "from sklearn.ensemble import GradientBoostingRegressor\n",
    "from sklearn.neighbors import KNeighborsRegressor\n",
    "\n",
    "from sklearn.model_selection import cross_val_score,GridSearchCV\n",
    "%matplotlib inline\n",
    "\n",
    "\n",
    "import warnings\n",
    "warnings.filterwarnings('ignore')\n",
    "\n",
    "\n",
    "df_train=pd.read_csv(r'C:\\ProgramData\\FlightPricePred_Train.csv')\n",
    "df_test=pd.read_csv(r'C:\\ProgramData\\FlightPricePred_Test.csv')\n",
    "df_train.head()"
   ]
  },
  {
   "cell_type": "code",
   "execution_count": 2,
   "id": "0556fd18",
   "metadata": {},
   "outputs": [
    {
     "data": {
      "text/html": [
       "<div>\n",
       "<style scoped>\n",
       "    .dataframe tbody tr th:only-of-type {\n",
       "        vertical-align: middle;\n",
       "    }\n",
       "\n",
       "    .dataframe tbody tr th {\n",
       "        vertical-align: top;\n",
       "    }\n",
       "\n",
       "    .dataframe thead th {\n",
       "        text-align: right;\n",
       "    }\n",
       "</style>\n",
       "<table border=\"1\" class=\"dataframe\">\n",
       "  <thead>\n",
       "    <tr style=\"text-align: right;\">\n",
       "      <th></th>\n",
       "      <th>Airline</th>\n",
       "      <th>Date_of_Journey</th>\n",
       "      <th>Source</th>\n",
       "      <th>Destination</th>\n",
       "      <th>Route</th>\n",
       "      <th>Dep_Time</th>\n",
       "      <th>Arrival_Time</th>\n",
       "      <th>Duration</th>\n",
       "      <th>Total_Stops</th>\n",
       "      <th>Additional_Info</th>\n",
       "    </tr>\n",
       "  </thead>\n",
       "  <tbody>\n",
       "    <tr>\n",
       "      <th>0</th>\n",
       "      <td>Jet Airways</td>\n",
       "      <td>6/06/2019</td>\n",
       "      <td>Delhi</td>\n",
       "      <td>Cochin</td>\n",
       "      <td>DEL ? BOM ? COK</td>\n",
       "      <td>17:30</td>\n",
       "      <td>04:25 07 Jun</td>\n",
       "      <td>10h 55m</td>\n",
       "      <td>1 stop</td>\n",
       "      <td>No info</td>\n",
       "    </tr>\n",
       "    <tr>\n",
       "      <th>1</th>\n",
       "      <td>IndiGo</td>\n",
       "      <td>12/05/2019</td>\n",
       "      <td>Kolkata</td>\n",
       "      <td>Banglore</td>\n",
       "      <td>CCU ? MAA ? BLR</td>\n",
       "      <td>06:20</td>\n",
       "      <td>10:20</td>\n",
       "      <td>4h</td>\n",
       "      <td>1 stop</td>\n",
       "      <td>No info</td>\n",
       "    </tr>\n",
       "    <tr>\n",
       "      <th>2</th>\n",
       "      <td>Jet Airways</td>\n",
       "      <td>21/05/2019</td>\n",
       "      <td>Delhi</td>\n",
       "      <td>Cochin</td>\n",
       "      <td>DEL ? BOM ? COK</td>\n",
       "      <td>19:15</td>\n",
       "      <td>19:00 22 May</td>\n",
       "      <td>23h 45m</td>\n",
       "      <td>1 stop</td>\n",
       "      <td>In-flight meal not included</td>\n",
       "    </tr>\n",
       "    <tr>\n",
       "      <th>3</th>\n",
       "      <td>Multiple carriers</td>\n",
       "      <td>21/05/2019</td>\n",
       "      <td>Delhi</td>\n",
       "      <td>Cochin</td>\n",
       "      <td>DEL ? BOM ? COK</td>\n",
       "      <td>08:00</td>\n",
       "      <td>21:00</td>\n",
       "      <td>13h</td>\n",
       "      <td>1 stop</td>\n",
       "      <td>No info</td>\n",
       "    </tr>\n",
       "    <tr>\n",
       "      <th>4</th>\n",
       "      <td>Air Asia</td>\n",
       "      <td>24/06/2019</td>\n",
       "      <td>Banglore</td>\n",
       "      <td>Delhi</td>\n",
       "      <td>BLR ? DEL</td>\n",
       "      <td>23:55</td>\n",
       "      <td>02:45 25 Jun</td>\n",
       "      <td>2h 50m</td>\n",
       "      <td>non-stop</td>\n",
       "      <td>No info</td>\n",
       "    </tr>\n",
       "  </tbody>\n",
       "</table>\n",
       "</div>"
      ],
      "text/plain": [
       "             Airline Date_of_Journey    Source Destination            Route  \\\n",
       "0        Jet Airways       6/06/2019     Delhi      Cochin  DEL ? BOM ? COK   \n",
       "1             IndiGo      12/05/2019   Kolkata    Banglore  CCU ? MAA ? BLR   \n",
       "2        Jet Airways      21/05/2019     Delhi      Cochin  DEL ? BOM ? COK   \n",
       "3  Multiple carriers      21/05/2019     Delhi      Cochin  DEL ? BOM ? COK   \n",
       "4           Air Asia      24/06/2019  Banglore       Delhi        BLR ? DEL   \n",
       "\n",
       "  Dep_Time  Arrival_Time Duration Total_Stops              Additional_Info  \n",
       "0    17:30  04:25 07 Jun  10h 55m      1 stop                      No info  \n",
       "1    06:20         10:20       4h      1 stop                      No info  \n",
       "2    19:15  19:00 22 May  23h 45m      1 stop  In-flight meal not included  \n",
       "3    08:00         21:00      13h      1 stop                      No info  \n",
       "4    23:55  02:45 25 Jun   2h 50m    non-stop                      No info  "
      ]
     },
     "execution_count": 2,
     "metadata": {},
     "output_type": "execute_result"
    }
   ],
   "source": [
    "df_test.head()"
   ]
  },
  {
   "cell_type": "code",
   "execution_count": 3,
   "id": "83fde709",
   "metadata": {},
   "outputs": [
    {
     "data": {
      "text/plain": [
       "(10683, 11)"
      ]
     },
     "execution_count": 3,
     "metadata": {},
     "output_type": "execute_result"
    }
   ],
   "source": [
    "df_train.shape"
   ]
  },
  {
   "cell_type": "code",
   "execution_count": 4,
   "id": "1603ba6f",
   "metadata": {},
   "outputs": [
    {
     "data": {
      "text/plain": [
       "(2671, 10)"
      ]
     },
     "execution_count": 4,
     "metadata": {},
     "output_type": "execute_result"
    }
   ],
   "source": [
    "df_test.shape"
   ]
  },
  {
   "cell_type": "code",
   "execution_count": 5,
   "id": "53cfb5d7",
   "metadata": {},
   "outputs": [],
   "source": [
    "# Exploratory Data Analysis\n",
    "# Important Observations :\n",
    "# The dataset comprises of 10683 rows and 11 columns in training dataset and 2671 rows and 10 columns in test dataset\n",
    "# Description of features :\n",
    "\n",
    "#Airline: Airlines like Indigo, Jet Airways, Air India etc\n",
    "#Date_of_Journey:Date on which the passenger will travel\n",
    "#Source: Place where passenger will board\n",
    "#Destination: Place where passenger will stop\n",
    "#Route: route through which passengers will travel from his/her source to their destination.\n",
    "#Arrival_Time: Time at which passenger will reach destination\n",
    "#Duration: Total time a flight will take to complete its journey from source to destination.\n",
    "#Total_Stops: Number of places flights will stop in the whole journey.\n",
    "#Additional_Info: Information about food and other facilities\n",
    "#Price: Price of the flight for a complete journey "
   ]
  },
  {
   "cell_type": "code",
   "execution_count": 6,
   "id": "dd738b62",
   "metadata": {},
   "outputs": [
    {
     "name": "stdout",
     "output_type": "stream",
     "text": [
      "<class 'pandas.core.frame.DataFrame'>\n",
      "RangeIndex: 10683 entries, 0 to 10682\n",
      "Data columns (total 11 columns):\n",
      " #   Column           Non-Null Count  Dtype \n",
      "---  ------           --------------  ----- \n",
      " 0   Airline          10683 non-null  object\n",
      " 1   Date_of_Journey  10683 non-null  object\n",
      " 2   Source           10683 non-null  object\n",
      " 3   Destination      10683 non-null  object\n",
      " 4   Route            10682 non-null  object\n",
      " 5   Dep_Time         10683 non-null  object\n",
      " 6   Arrival_Time     10683 non-null  object\n",
      " 7   Duration         10683 non-null  object\n",
      " 8   Total_Stops      10682 non-null  object\n",
      " 9   Additional_Info  10683 non-null  object\n",
      " 10  Price            10683 non-null  int64 \n",
      "dtypes: int64(1), object(10)\n",
      "memory usage: 918.2+ KB\n"
     ]
    }
   ],
   "source": [
    "df_train.info()"
   ]
  },
  {
   "cell_type": "code",
   "execution_count": 7,
   "id": "dcd77768",
   "metadata": {},
   "outputs": [],
   "source": [
    "# Above data shows that there are few missing values.Lets check for null values"
   ]
  },
  {
   "cell_type": "code",
   "execution_count": 8,
   "id": "e1cd5172",
   "metadata": {},
   "outputs": [
    {
     "data": {
      "text/plain": [
       "Airline            0\n",
       "Date_of_Journey    0\n",
       "Source             0\n",
       "Destination        0\n",
       "Route              1\n",
       "Dep_Time           0\n",
       "Arrival_Time       0\n",
       "Duration           0\n",
       "Total_Stops        1\n",
       "Additional_Info    0\n",
       "Price              0\n",
       "dtype: int64"
      ]
     },
     "execution_count": 8,
     "metadata": {},
     "output_type": "execute_result"
    }
   ],
   "source": [
    "# Checking for null values\n",
    "\n",
    "df_train.isnull().sum()"
   ]
  },
  {
   "cell_type": "code",
   "execution_count": 9,
   "id": "55609be5",
   "metadata": {},
   "outputs": [
    {
     "data": {
      "text/plain": [
       "Airline            0\n",
       "Date_of_Journey    0\n",
       "Source             0\n",
       "Destination        0\n",
       "Route              0\n",
       "Dep_Time           0\n",
       "Arrival_Time       0\n",
       "Duration           0\n",
       "Total_Stops        0\n",
       "Additional_Info    0\n",
       "dtype: int64"
      ]
     },
     "execution_count": 9,
     "metadata": {},
     "output_type": "execute_result"
    }
   ],
   "source": [
    "df_test.isnull().sum()"
   ]
  },
  {
   "cell_type": "code",
   "execution_count": 10,
   "id": "644501ac",
   "metadata": {},
   "outputs": [],
   "source": [
    "# Clealry few null values could be found in training dataset.We will drop them"
   ]
  },
  {
   "cell_type": "code",
   "execution_count": 11,
   "id": "e02d7372",
   "metadata": {},
   "outputs": [],
   "source": [
    "# Dropping the null values\n",
    "\n",
    "df_train.dropna(inplace=True)"
   ]
  },
  {
   "cell_type": "code",
   "execution_count": 12,
   "id": "212e592d",
   "metadata": {},
   "outputs": [
    {
     "data": {
      "text/plain": [
       "Airline            0\n",
       "Date_of_Journey    0\n",
       "Source             0\n",
       "Destination        0\n",
       "Route              0\n",
       "Dep_Time           0\n",
       "Arrival_Time       0\n",
       "Duration           0\n",
       "Total_Stops        0\n",
       "Additional_Info    0\n",
       "Price              0\n",
       "dtype: int64"
      ]
     },
     "execution_count": 12,
     "metadata": {},
     "output_type": "execute_result"
    }
   ],
   "source": [
    "# Null values are dropped succesfully\n",
    "\n",
    "df_train.isnull().sum()"
   ]
  },
  {
   "cell_type": "code",
   "execution_count": 13,
   "id": "a6199a71",
   "metadata": {},
   "outputs": [
    {
     "data": {
      "text/html": [
       "<div>\n",
       "<style scoped>\n",
       "    .dataframe tbody tr th:only-of-type {\n",
       "        vertical-align: middle;\n",
       "    }\n",
       "\n",
       "    .dataframe tbody tr th {\n",
       "        vertical-align: top;\n",
       "    }\n",
       "\n",
       "    .dataframe thead th {\n",
       "        text-align: right;\n",
       "    }\n",
       "</style>\n",
       "<table border=\"1\" class=\"dataframe\">\n",
       "  <thead>\n",
       "    <tr style=\"text-align: right;\">\n",
       "      <th></th>\n",
       "      <th>Price</th>\n",
       "    </tr>\n",
       "  </thead>\n",
       "  <tbody>\n",
       "    <tr>\n",
       "      <th>count</th>\n",
       "      <td>10682.000000</td>\n",
       "    </tr>\n",
       "    <tr>\n",
       "      <th>mean</th>\n",
       "      <td>9087.214567</td>\n",
       "    </tr>\n",
       "    <tr>\n",
       "      <th>std</th>\n",
       "      <td>4611.548810</td>\n",
       "    </tr>\n",
       "    <tr>\n",
       "      <th>min</th>\n",
       "      <td>1759.000000</td>\n",
       "    </tr>\n",
       "    <tr>\n",
       "      <th>25%</th>\n",
       "      <td>5277.000000</td>\n",
       "    </tr>\n",
       "    <tr>\n",
       "      <th>50%</th>\n",
       "      <td>8372.000000</td>\n",
       "    </tr>\n",
       "    <tr>\n",
       "      <th>75%</th>\n",
       "      <td>12373.000000</td>\n",
       "    </tr>\n",
       "    <tr>\n",
       "      <th>max</th>\n",
       "      <td>79512.000000</td>\n",
       "    </tr>\n",
       "  </tbody>\n",
       "</table>\n",
       "</div>"
      ],
      "text/plain": [
       "              Price\n",
       "count  10682.000000\n",
       "mean    9087.214567\n",
       "std     4611.548810\n",
       "min     1759.000000\n",
       "25%     5277.000000\n",
       "50%     8372.000000\n",
       "75%    12373.000000\n",
       "max    79512.000000"
      ]
     },
     "execution_count": 13,
     "metadata": {},
     "output_type": "execute_result"
    }
   ],
   "source": [
    "# Statistical summary\n",
    "\n",
    "df_train.describe()"
   ]
  },
  {
   "cell_type": "code",
   "execution_count": 14,
   "id": "e1b98dbe",
   "metadata": {},
   "outputs": [
    {
     "data": {
      "text/html": [
       "<div>\n",
       "<style scoped>\n",
       "    .dataframe tbody tr th:only-of-type {\n",
       "        vertical-align: middle;\n",
       "    }\n",
       "\n",
       "    .dataframe tbody tr th {\n",
       "        vertical-align: top;\n",
       "    }\n",
       "\n",
       "    .dataframe thead th {\n",
       "        text-align: right;\n",
       "    }\n",
       "</style>\n",
       "<table border=\"1\" class=\"dataframe\">\n",
       "  <thead>\n",
       "    <tr style=\"text-align: right;\">\n",
       "      <th></th>\n",
       "      <th>Airline</th>\n",
       "      <th>Date_of_Journey</th>\n",
       "      <th>Source</th>\n",
       "      <th>Destination</th>\n",
       "      <th>Route</th>\n",
       "      <th>Dep_Time</th>\n",
       "      <th>Arrival_Time</th>\n",
       "      <th>Duration</th>\n",
       "      <th>Total_Stops</th>\n",
       "      <th>Additional_Info</th>\n",
       "      <th>Price</th>\n",
       "    </tr>\n",
       "  </thead>\n",
       "  <tbody>\n",
       "    <tr>\n",
       "      <th>683</th>\n",
       "      <td>Jet Airways</td>\n",
       "      <td>1/06/2019</td>\n",
       "      <td>Delhi</td>\n",
       "      <td>Cochin</td>\n",
       "      <td>DEL ? NAG ? BOM ? COK</td>\n",
       "      <td>14:35</td>\n",
       "      <td>04:25 02 Jun</td>\n",
       "      <td>13h 50m</td>\n",
       "      <td>2 stops</td>\n",
       "      <td>No info</td>\n",
       "      <td>13376</td>\n",
       "    </tr>\n",
       "    <tr>\n",
       "      <th>1061</th>\n",
       "      <td>Air India</td>\n",
       "      <td>21/05/2019</td>\n",
       "      <td>Delhi</td>\n",
       "      <td>Cochin</td>\n",
       "      <td>DEL ? GOI ? BOM ? COK</td>\n",
       "      <td>22:00</td>\n",
       "      <td>19:15 22 May</td>\n",
       "      <td>21h 15m</td>\n",
       "      <td>2 stops</td>\n",
       "      <td>No info</td>\n",
       "      <td>10231</td>\n",
       "    </tr>\n",
       "    <tr>\n",
       "      <th>1348</th>\n",
       "      <td>Air India</td>\n",
       "      <td>18/05/2019</td>\n",
       "      <td>Delhi</td>\n",
       "      <td>Cochin</td>\n",
       "      <td>DEL ? HYD ? BOM ? COK</td>\n",
       "      <td>17:15</td>\n",
       "      <td>19:15 19 May</td>\n",
       "      <td>26h</td>\n",
       "      <td>2 stops</td>\n",
       "      <td>No info</td>\n",
       "      <td>12392</td>\n",
       "    </tr>\n",
       "    <tr>\n",
       "      <th>1418</th>\n",
       "      <td>Jet Airways</td>\n",
       "      <td>6/06/2019</td>\n",
       "      <td>Delhi</td>\n",
       "      <td>Cochin</td>\n",
       "      <td>DEL ? JAI ? BOM ? COK</td>\n",
       "      <td>05:30</td>\n",
       "      <td>04:25 07 Jun</td>\n",
       "      <td>22h 55m</td>\n",
       "      <td>2 stops</td>\n",
       "      <td>In-flight meal not included</td>\n",
       "      <td>10368</td>\n",
       "    </tr>\n",
       "    <tr>\n",
       "      <th>1674</th>\n",
       "      <td>IndiGo</td>\n",
       "      <td>24/03/2019</td>\n",
       "      <td>Banglore</td>\n",
       "      <td>New Delhi</td>\n",
       "      <td>BLR ? DEL</td>\n",
       "      <td>18:25</td>\n",
       "      <td>21:20</td>\n",
       "      <td>2h 55m</td>\n",
       "      <td>non-stop</td>\n",
       "      <td>No info</td>\n",
       "      <td>7303</td>\n",
       "    </tr>\n",
       "  </tbody>\n",
       "</table>\n",
       "</div>"
      ],
      "text/plain": [
       "          Airline Date_of_Journey    Source Destination  \\\n",
       "683   Jet Airways       1/06/2019     Delhi      Cochin   \n",
       "1061    Air India      21/05/2019     Delhi      Cochin   \n",
       "1348    Air India      18/05/2019     Delhi      Cochin   \n",
       "1418  Jet Airways       6/06/2019     Delhi      Cochin   \n",
       "1674       IndiGo      24/03/2019  Banglore   New Delhi   \n",
       "\n",
       "                      Route Dep_Time  Arrival_Time Duration Total_Stops  \\\n",
       "683   DEL ? NAG ? BOM ? COK    14:35  04:25 02 Jun  13h 50m     2 stops   \n",
       "1061  DEL ? GOI ? BOM ? COK    22:00  19:15 22 May  21h 15m     2 stops   \n",
       "1348  DEL ? HYD ? BOM ? COK    17:15  19:15 19 May      26h     2 stops   \n",
       "1418  DEL ? JAI ? BOM ? COK    05:30  04:25 07 Jun  22h 55m     2 stops   \n",
       "1674              BLR ? DEL    18:25         21:20   2h 55m    non-stop   \n",
       "\n",
       "                  Additional_Info  Price  \n",
       "683                       No info  13376  \n",
       "1061                      No info  10231  \n",
       "1348                      No info  12392  \n",
       "1418  In-flight meal not included  10368  \n",
       "1674                      No info   7303  "
      ]
     },
     "execution_count": 14,
     "metadata": {},
     "output_type": "execute_result"
    }
   ],
   "source": [
    "# Checking for dulicate values\n",
    "\n",
    "df_train[df_train.duplicated()].head()"
   ]
  },
  {
   "cell_type": "code",
   "execution_count": 15,
   "id": "9516913f",
   "metadata": {},
   "outputs": [
    {
     "data": {
      "text/html": [
       "<div>\n",
       "<style scoped>\n",
       "    .dataframe tbody tr th:only-of-type {\n",
       "        vertical-align: middle;\n",
       "    }\n",
       "\n",
       "    .dataframe tbody tr th {\n",
       "        vertical-align: top;\n",
       "    }\n",
       "\n",
       "    .dataframe thead th {\n",
       "        text-align: right;\n",
       "    }\n",
       "</style>\n",
       "<table border=\"1\" class=\"dataframe\">\n",
       "  <thead>\n",
       "    <tr style=\"text-align: right;\">\n",
       "      <th></th>\n",
       "      <th>Airline</th>\n",
       "      <th>Date_of_Journey</th>\n",
       "      <th>Source</th>\n",
       "      <th>Destination</th>\n",
       "      <th>Route</th>\n",
       "      <th>Dep_Time</th>\n",
       "      <th>Arrival_Time</th>\n",
       "      <th>Duration</th>\n",
       "      <th>Total_Stops</th>\n",
       "      <th>Additional_Info</th>\n",
       "      <th>Price</th>\n",
       "    </tr>\n",
       "  </thead>\n",
       "  <tbody>\n",
       "    <tr>\n",
       "      <th>0</th>\n",
       "      <td>IndiGo</td>\n",
       "      <td>24/03/2019</td>\n",
       "      <td>Banglore</td>\n",
       "      <td>New Delhi</td>\n",
       "      <td>BLR ? DEL</td>\n",
       "      <td>22:20</td>\n",
       "      <td>01:10 22 Mar</td>\n",
       "      <td>2h 50m</td>\n",
       "      <td>non-stop</td>\n",
       "      <td>No info</td>\n",
       "      <td>3897</td>\n",
       "    </tr>\n",
       "    <tr>\n",
       "      <th>1</th>\n",
       "      <td>Air India</td>\n",
       "      <td>1/05/2019</td>\n",
       "      <td>Kolkata</td>\n",
       "      <td>Banglore</td>\n",
       "      <td>CCU ? IXR ? BBI ? BLR</td>\n",
       "      <td>05:50</td>\n",
       "      <td>13:15</td>\n",
       "      <td>7h 25m</td>\n",
       "      <td>2 stops</td>\n",
       "      <td>No info</td>\n",
       "      <td>7662</td>\n",
       "    </tr>\n",
       "    <tr>\n",
       "      <th>2</th>\n",
       "      <td>Jet Airways</td>\n",
       "      <td>9/06/2019</td>\n",
       "      <td>Delhi</td>\n",
       "      <td>Cochin</td>\n",
       "      <td>DEL ? LKO ? BOM ? COK</td>\n",
       "      <td>09:25</td>\n",
       "      <td>04:25 10 Jun</td>\n",
       "      <td>19h</td>\n",
       "      <td>2 stops</td>\n",
       "      <td>No info</td>\n",
       "      <td>13882</td>\n",
       "    </tr>\n",
       "    <tr>\n",
       "      <th>3</th>\n",
       "      <td>IndiGo</td>\n",
       "      <td>12/05/2019</td>\n",
       "      <td>Kolkata</td>\n",
       "      <td>Banglore</td>\n",
       "      <td>CCU ? NAG ? BLR</td>\n",
       "      <td>18:05</td>\n",
       "      <td>23:30</td>\n",
       "      <td>5h 25m</td>\n",
       "      <td>1 stop</td>\n",
       "      <td>No info</td>\n",
       "      <td>6218</td>\n",
       "    </tr>\n",
       "    <tr>\n",
       "      <th>4</th>\n",
       "      <td>IndiGo</td>\n",
       "      <td>01/03/2019</td>\n",
       "      <td>Banglore</td>\n",
       "      <td>New Delhi</td>\n",
       "      <td>BLR ? NAG ? DEL</td>\n",
       "      <td>16:50</td>\n",
       "      <td>21:35</td>\n",
       "      <td>4h 45m</td>\n",
       "      <td>1 stop</td>\n",
       "      <td>No info</td>\n",
       "      <td>13302</td>\n",
       "    </tr>\n",
       "  </tbody>\n",
       "</table>\n",
       "</div>"
      ],
      "text/plain": [
       "       Airline Date_of_Journey    Source Destination                  Route  \\\n",
       "0       IndiGo      24/03/2019  Banglore   New Delhi              BLR ? DEL   \n",
       "1    Air India       1/05/2019   Kolkata    Banglore  CCU ? IXR ? BBI ? BLR   \n",
       "2  Jet Airways       9/06/2019     Delhi      Cochin  DEL ? LKO ? BOM ? COK   \n",
       "3       IndiGo      12/05/2019   Kolkata    Banglore        CCU ? NAG ? BLR   \n",
       "4       IndiGo      01/03/2019  Banglore   New Delhi        BLR ? NAG ? DEL   \n",
       "\n",
       "  Dep_Time  Arrival_Time Duration Total_Stops Additional_Info  Price  \n",
       "0    22:20  01:10 22 Mar   2h 50m    non-stop         No info   3897  \n",
       "1    05:50         13:15   7h 25m     2 stops         No info   7662  \n",
       "2    09:25  04:25 10 Jun      19h     2 stops         No info  13882  \n",
       "3    18:05         23:30   5h 25m      1 stop         No info   6218  \n",
       "4    16:50         21:35   4h 45m      1 stop         No info  13302  "
      ]
     },
     "execution_count": 15,
     "metadata": {},
     "output_type": "execute_result"
    }
   ],
   "source": [
    "# Dropping duplicate values ,rows\n",
    "\n",
    "df_train.drop_duplicates(keep='first',inplace=True)\n",
    "df_train.head()"
   ]
  },
  {
   "cell_type": "code",
   "execution_count": 16,
   "id": "5b0c05f1",
   "metadata": {},
   "outputs": [
    {
     "data": {
      "text/plain": [
       "0        [24, 03, 2019]\n",
       "1         [1, 05, 2019]\n",
       "2         [9, 06, 2019]\n",
       "3        [12, 05, 2019]\n",
       "4        [01, 03, 2019]\n",
       "              ...      \n",
       "10678     [9, 04, 2019]\n",
       "10679    [27, 04, 2019]\n",
       "10680    [27, 04, 2019]\n",
       "10681    [01, 03, 2019]\n",
       "10682     [9, 05, 2019]\n",
       "Name: Date_of_Journey, Length: 10462, dtype: object"
      ]
     },
     "execution_count": 16,
     "metadata": {},
     "output_type": "execute_result"
    }
   ],
   "source": [
    "# Splitting the Date_of_Journey column to extract the ‘Date’, ‘Month’ and ‘Year’ values, and \n",
    "# store them in new columns in our dataframe\n",
    "\n",
    "df_train['Date_of_Journey']=df_train['Date_of_Journey'].str.split('/')\n",
    "df_train['Date_of_Journey']"
   ]
  },
  {
   "cell_type": "code",
   "execution_count": 17,
   "id": "35747c67",
   "metadata": {},
   "outputs": [],
   "source": [
    "df_train['Date']=df_train['Date_of_Journey'].str[0]\n",
    "df_train['Month']=df_train['Date_of_Journey'].str[1]\n",
    "df_train['Year']=df_train['Date_of_Journey'].str[2]"
   ]
  },
  {
   "cell_type": "code",
   "execution_count": 18,
   "id": "50ce8111",
   "metadata": {},
   "outputs": [
    {
     "data": {
      "text/plain": [
       "0                      [BLR ,  DEL]\n",
       "1        [CCU ,  IXR ,  BBI ,  BLR]\n",
       "2        [DEL ,  LKO ,  BOM ,  COK]\n",
       "3               [CCU ,  NAG ,  BLR]\n",
       "4               [BLR ,  NAG ,  DEL]\n",
       "                    ...            \n",
       "10678                  [CCU ,  BLR]\n",
       "10679                  [CCU ,  BLR]\n",
       "10680                  [BLR ,  DEL]\n",
       "10681                  [BLR ,  DEL]\n",
       "10682    [DEL ,  GOI ,  BOM ,  COK]\n",
       "Name: Route, Length: 10462, dtype: object"
      ]
     },
     "execution_count": 18,
     "metadata": {},
     "output_type": "execute_result"
    }
   ],
   "source": [
    "# Splitting the route column and storing extracted city names in different columns\n",
    "\n",
    "df_train['Route']=df_train['Route'].str.split('?')\n",
    "df_train['Route']"
   ]
  },
  {
   "cell_type": "code",
   "execution_count": 19,
   "id": "d33ac929",
   "metadata": {},
   "outputs": [],
   "source": [
    "df_train['City_1']=df_train['Route'].str[0]\n",
    "df_train['City_2']=df_train['Route'].str[1]\n",
    "df_train['City_3']=df_train['Route'].str[2]\n",
    "df_train['City_4']=df_train['Route'].str[3]"
   ]
  },
  {
   "cell_type": "code",
   "execution_count": 20,
   "id": "d388e0cd",
   "metadata": {},
   "outputs": [
    {
     "data": {
      "text/html": [
       "<div>\n",
       "<style scoped>\n",
       "    .dataframe tbody tr th:only-of-type {\n",
       "        vertical-align: middle;\n",
       "    }\n",
       "\n",
       "    .dataframe tbody tr th {\n",
       "        vertical-align: top;\n",
       "    }\n",
       "\n",
       "    .dataframe thead th {\n",
       "        text-align: right;\n",
       "    }\n",
       "</style>\n",
       "<table border=\"1\" class=\"dataframe\">\n",
       "  <thead>\n",
       "    <tr style=\"text-align: right;\">\n",
       "      <th></th>\n",
       "      <th>Airline</th>\n",
       "      <th>Date_of_Journey</th>\n",
       "      <th>Source</th>\n",
       "      <th>Destination</th>\n",
       "      <th>Route</th>\n",
       "      <th>Dep_Time</th>\n",
       "      <th>Arrival_Time</th>\n",
       "      <th>Duration</th>\n",
       "      <th>Total_Stops</th>\n",
       "      <th>Additional_Info</th>\n",
       "      <th>Price</th>\n",
       "      <th>Date</th>\n",
       "      <th>Month</th>\n",
       "      <th>Year</th>\n",
       "      <th>City_1</th>\n",
       "      <th>City_2</th>\n",
       "      <th>City_3</th>\n",
       "      <th>City_4</th>\n",
       "    </tr>\n",
       "  </thead>\n",
       "  <tbody>\n",
       "    <tr>\n",
       "      <th>0</th>\n",
       "      <td>IndiGo</td>\n",
       "      <td>[24, 03, 2019]</td>\n",
       "      <td>Banglore</td>\n",
       "      <td>New Delhi</td>\n",
       "      <td>[BLR ,  DEL]</td>\n",
       "      <td>22:20</td>\n",
       "      <td>01:10 22 Mar</td>\n",
       "      <td>2h 50m</td>\n",
       "      <td>non-stop</td>\n",
       "      <td>No info</td>\n",
       "      <td>3897</td>\n",
       "      <td>24</td>\n",
       "      <td>03</td>\n",
       "      <td>2019</td>\n",
       "      <td>BLR</td>\n",
       "      <td>DEL</td>\n",
       "      <td>NaN</td>\n",
       "      <td>NaN</td>\n",
       "    </tr>\n",
       "    <tr>\n",
       "      <th>1</th>\n",
       "      <td>Air India</td>\n",
       "      <td>[1, 05, 2019]</td>\n",
       "      <td>Kolkata</td>\n",
       "      <td>Banglore</td>\n",
       "      <td>[CCU ,  IXR ,  BBI ,  BLR]</td>\n",
       "      <td>05:50</td>\n",
       "      <td>13:15</td>\n",
       "      <td>7h 25m</td>\n",
       "      <td>2 stops</td>\n",
       "      <td>No info</td>\n",
       "      <td>7662</td>\n",
       "      <td>1</td>\n",
       "      <td>05</td>\n",
       "      <td>2019</td>\n",
       "      <td>CCU</td>\n",
       "      <td>IXR</td>\n",
       "      <td>BBI</td>\n",
       "      <td>BLR</td>\n",
       "    </tr>\n",
       "    <tr>\n",
       "      <th>2</th>\n",
       "      <td>Jet Airways</td>\n",
       "      <td>[9, 06, 2019]</td>\n",
       "      <td>Delhi</td>\n",
       "      <td>Cochin</td>\n",
       "      <td>[DEL ,  LKO ,  BOM ,  COK]</td>\n",
       "      <td>09:25</td>\n",
       "      <td>04:25 10 Jun</td>\n",
       "      <td>19h</td>\n",
       "      <td>2 stops</td>\n",
       "      <td>No info</td>\n",
       "      <td>13882</td>\n",
       "      <td>9</td>\n",
       "      <td>06</td>\n",
       "      <td>2019</td>\n",
       "      <td>DEL</td>\n",
       "      <td>LKO</td>\n",
       "      <td>BOM</td>\n",
       "      <td>COK</td>\n",
       "    </tr>\n",
       "    <tr>\n",
       "      <th>3</th>\n",
       "      <td>IndiGo</td>\n",
       "      <td>[12, 05, 2019]</td>\n",
       "      <td>Kolkata</td>\n",
       "      <td>Banglore</td>\n",
       "      <td>[CCU ,  NAG ,  BLR]</td>\n",
       "      <td>18:05</td>\n",
       "      <td>23:30</td>\n",
       "      <td>5h 25m</td>\n",
       "      <td>1 stop</td>\n",
       "      <td>No info</td>\n",
       "      <td>6218</td>\n",
       "      <td>12</td>\n",
       "      <td>05</td>\n",
       "      <td>2019</td>\n",
       "      <td>CCU</td>\n",
       "      <td>NAG</td>\n",
       "      <td>BLR</td>\n",
       "      <td>NaN</td>\n",
       "    </tr>\n",
       "    <tr>\n",
       "      <th>4</th>\n",
       "      <td>IndiGo</td>\n",
       "      <td>[01, 03, 2019]</td>\n",
       "      <td>Banglore</td>\n",
       "      <td>New Delhi</td>\n",
       "      <td>[BLR ,  NAG ,  DEL]</td>\n",
       "      <td>16:50</td>\n",
       "      <td>21:35</td>\n",
       "      <td>4h 45m</td>\n",
       "      <td>1 stop</td>\n",
       "      <td>No info</td>\n",
       "      <td>13302</td>\n",
       "      <td>01</td>\n",
       "      <td>03</td>\n",
       "      <td>2019</td>\n",
       "      <td>BLR</td>\n",
       "      <td>NAG</td>\n",
       "      <td>DEL</td>\n",
       "      <td>NaN</td>\n",
       "    </tr>\n",
       "  </tbody>\n",
       "</table>\n",
       "</div>"
      ],
      "text/plain": [
       "       Airline Date_of_Journey    Source Destination  \\\n",
       "0       IndiGo  [24, 03, 2019]  Banglore   New Delhi   \n",
       "1    Air India   [1, 05, 2019]   Kolkata    Banglore   \n",
       "2  Jet Airways   [9, 06, 2019]     Delhi      Cochin   \n",
       "3       IndiGo  [12, 05, 2019]   Kolkata    Banglore   \n",
       "4       IndiGo  [01, 03, 2019]  Banglore   New Delhi   \n",
       "\n",
       "                        Route Dep_Time  Arrival_Time Duration Total_Stops  \\\n",
       "0                [BLR ,  DEL]    22:20  01:10 22 Mar   2h 50m    non-stop   \n",
       "1  [CCU ,  IXR ,  BBI ,  BLR]    05:50         13:15   7h 25m     2 stops   \n",
       "2  [DEL ,  LKO ,  BOM ,  COK]    09:25  04:25 10 Jun      19h     2 stops   \n",
       "3         [CCU ,  NAG ,  BLR]    18:05         23:30   5h 25m      1 stop   \n",
       "4         [BLR ,  NAG ,  DEL]    16:50         21:35   4h 45m      1 stop   \n",
       "\n",
       "  Additional_Info  Price Date Month  Year City_1 City_2 City_3 City_4  \n",
       "0         No info   3897   24    03  2019   BLR     DEL    NaN    NaN  \n",
       "1         No info   7662    1    05  2019   CCU    IXR    BBI     BLR  \n",
       "2         No info  13882    9    06  2019   DEL    LKO    BOM     COK  \n",
       "3         No info   6218   12    05  2019   CCU    NAG     BLR    NaN  \n",
       "4         No info  13302   01    03  2019   BLR    NAG     DEL    NaN  "
      ]
     },
     "execution_count": 20,
     "metadata": {},
     "output_type": "execute_result"
    }
   ],
   "source": [
    "df_train.head()"
   ]
  },
  {
   "cell_type": "code",
   "execution_count": 21,
   "id": "5bfd027c",
   "metadata": {
    "scrolled": true
   },
   "outputs": [
    {
     "data": {
      "text/plain": [
       "0        [22, 20]\n",
       "1        [05, 50]\n",
       "2        [09, 25]\n",
       "3        [18, 05]\n",
       "4        [16, 50]\n",
       "           ...   \n",
       "10678    [19, 55]\n",
       "10679    [20, 45]\n",
       "10680    [08, 20]\n",
       "10681    [11, 30]\n",
       "10682    [10, 55]\n",
       "Name: Dep_Time, Length: 10462, dtype: object"
      ]
     },
     "execution_count": 21,
     "metadata": {},
     "output_type": "execute_result"
    }
   ],
   "source": [
    "# Splitting Departure Time in hours and minutes\n",
    "\n",
    "df_train['Dep_Time']=df_train['Dep_Time'].str.split(':')\n",
    "df_train['Dep_Time']"
   ]
  },
  {
   "cell_type": "code",
   "execution_count": 22,
   "id": "09938ed5",
   "metadata": {},
   "outputs": [],
   "source": [
    "df_train['Dep_Time_Hour']=df_train['Dep_Time'].str[0]\n",
    "df_train['Dep_Time_Min']=df_train['Dep_Time'].str[1]"
   ]
  },
  {
   "cell_type": "code",
   "execution_count": 23,
   "id": "64f36a1d",
   "metadata": {},
   "outputs": [],
   "source": [
    "# Splitting Arrival Time variable\n",
    "\n",
    "df_train['Arrival_Time']=df_train['Arrival_Time'].str.split(' ')\n",
    "df_train['Arrival_Dt']=df_train['Arrival_Time'].str[1]"
   ]
  },
  {
   "cell_type": "code",
   "execution_count": 24,
   "id": "266b6c9b",
   "metadata": {},
   "outputs": [],
   "source": [
    "df_train['Time_of_Arrival']=df_train['Arrival_Time'].str[0]\n",
    "df_train['Time_of_Arrival']=df_train['Time_of_Arrival'].str.split(':')\n",
    "df_train['Arrival_Time_Hours']=df_train['Time_of_Arrival'].str[0]\n",
    "df_train['Arrival_Time_Min']=df_train['Time_of_Arrival'].str[1]"
   ]
  },
  {
   "cell_type": "code",
   "execution_count": 25,
   "id": "909b02e6",
   "metadata": {},
   "outputs": [],
   "source": [
    "# Splitting Duration variable\n",
    "\n",
    "df_train['Duration']=df_train['Duration'].str.split(' ')\n",
    "df_train['Duration_hours']=df_train['Duration'].str[0] # extracting hours from duration\n",
    "df_train['Duration_hours']=df_train['Duration_hours'].str.split('h')\n",
    "df_train['Duration_hours']=df_train['Duration_hours'].str[0]"
   ]
  },
  {
   "cell_type": "code",
   "execution_count": 26,
   "id": "2be4e19a",
   "metadata": {},
   "outputs": [],
   "source": [
    "df_train['Duration_min']=df_train['Duration'].str[1] # extracting minutes from duration\n",
    "df_train['Duration_min']=df_train['Duration_min'].str.split('m')\n",
    "df_train['Duration_min']=df_train['Duration_min'].str[0]"
   ]
  },
  {
   "cell_type": "code",
   "execution_count": 27,
   "id": "b103a499",
   "metadata": {},
   "outputs": [],
   "source": [
    "# Exploring Total_Stops column \n",
    "\n",
    "df_train['Total_Stops'].replace('non-stop','0',inplace=True) # replacing non-stop flights with 0 value\n",
    "df_train['Total_Stops']=df_train['Total_Stops'].str.split(' ') # splitting Total_Stops \n",
    "df_train['Total_Stops']=df_train['Total_Stops'].str[0] # extracting the integer part of the ‘Total_Stops’ column"
   ]
  },
  {
   "cell_type": "code",
   "execution_count": 28,
   "id": "de3c219d",
   "metadata": {},
   "outputs": [
    {
     "data": {
      "text/plain": [
       "array(['No info', 'In-flight meal not included',\n",
       "       'No check-in baggage included', '1 Short layover', 'No Info',\n",
       "       '1 Long layover', 'Change airports', 'Business class',\n",
       "       'Red-eye flight', '2 Long layover'], dtype=object)"
      ]
     },
     "execution_count": 28,
     "metadata": {},
     "output_type": "execute_result"
    }
   ],
   "source": [
    "# Exploring Additional_Info column \n",
    "\n",
    "df_train['Additional_Info'].unique()"
   ]
  },
  {
   "cell_type": "code",
   "execution_count": 29,
   "id": "0d27a00f",
   "metadata": {},
   "outputs": [],
   "source": [
    "df_train['Additional_Info'].replace('No Info','No info',inplace=True)"
   ]
  },
  {
   "cell_type": "code",
   "execution_count": 30,
   "id": "4233c33c",
   "metadata": {},
   "outputs": [],
   "source": [
    "# Dropping unnecessary columns\n",
    "\n",
    "col=['Date_of_Journey','Route','Dep_Time','Arrival_Time','Duration','Time_of_Arrival']\n",
    "df_train.drop(col,axis=1,inplace=True)"
   ]
  },
  {
   "cell_type": "code",
   "execution_count": 31,
   "id": "7b5eec53",
   "metadata": {},
   "outputs": [
    {
     "data": {
      "text/html": [
       "<div>\n",
       "<style scoped>\n",
       "    .dataframe tbody tr th:only-of-type {\n",
       "        vertical-align: middle;\n",
       "    }\n",
       "\n",
       "    .dataframe tbody tr th {\n",
       "        vertical-align: top;\n",
       "    }\n",
       "\n",
       "    .dataframe thead th {\n",
       "        text-align: right;\n",
       "    }\n",
       "</style>\n",
       "<table border=\"1\" class=\"dataframe\">\n",
       "  <thead>\n",
       "    <tr style=\"text-align: right;\">\n",
       "      <th></th>\n",
       "      <th>Airline</th>\n",
       "      <th>Source</th>\n",
       "      <th>Destination</th>\n",
       "      <th>Total_Stops</th>\n",
       "      <th>Additional_Info</th>\n",
       "      <th>Price</th>\n",
       "      <th>Date</th>\n",
       "      <th>Month</th>\n",
       "      <th>Year</th>\n",
       "      <th>City_1</th>\n",
       "      <th>City_2</th>\n",
       "      <th>City_3</th>\n",
       "      <th>City_4</th>\n",
       "      <th>Dep_Time_Hour</th>\n",
       "      <th>Dep_Time_Min</th>\n",
       "      <th>Arrival_Dt</th>\n",
       "      <th>Arrival_Time_Hours</th>\n",
       "      <th>Arrival_Time_Min</th>\n",
       "      <th>Duration_hours</th>\n",
       "      <th>Duration_min</th>\n",
       "    </tr>\n",
       "  </thead>\n",
       "  <tbody>\n",
       "    <tr>\n",
       "      <th>0</th>\n",
       "      <td>IndiGo</td>\n",
       "      <td>Banglore</td>\n",
       "      <td>New Delhi</td>\n",
       "      <td>0</td>\n",
       "      <td>No info</td>\n",
       "      <td>3897</td>\n",
       "      <td>24</td>\n",
       "      <td>03</td>\n",
       "      <td>2019</td>\n",
       "      <td>BLR</td>\n",
       "      <td>DEL</td>\n",
       "      <td>NaN</td>\n",
       "      <td>NaN</td>\n",
       "      <td>22</td>\n",
       "      <td>20</td>\n",
       "      <td>22</td>\n",
       "      <td>01</td>\n",
       "      <td>10</td>\n",
       "      <td>2</td>\n",
       "      <td>50</td>\n",
       "    </tr>\n",
       "    <tr>\n",
       "      <th>1</th>\n",
       "      <td>Air India</td>\n",
       "      <td>Kolkata</td>\n",
       "      <td>Banglore</td>\n",
       "      <td>2</td>\n",
       "      <td>No info</td>\n",
       "      <td>7662</td>\n",
       "      <td>1</td>\n",
       "      <td>05</td>\n",
       "      <td>2019</td>\n",
       "      <td>CCU</td>\n",
       "      <td>IXR</td>\n",
       "      <td>BBI</td>\n",
       "      <td>BLR</td>\n",
       "      <td>05</td>\n",
       "      <td>50</td>\n",
       "      <td>NaN</td>\n",
       "      <td>13</td>\n",
       "      <td>15</td>\n",
       "      <td>7</td>\n",
       "      <td>25</td>\n",
       "    </tr>\n",
       "    <tr>\n",
       "      <th>2</th>\n",
       "      <td>Jet Airways</td>\n",
       "      <td>Delhi</td>\n",
       "      <td>Cochin</td>\n",
       "      <td>2</td>\n",
       "      <td>No info</td>\n",
       "      <td>13882</td>\n",
       "      <td>9</td>\n",
       "      <td>06</td>\n",
       "      <td>2019</td>\n",
       "      <td>DEL</td>\n",
       "      <td>LKO</td>\n",
       "      <td>BOM</td>\n",
       "      <td>COK</td>\n",
       "      <td>09</td>\n",
       "      <td>25</td>\n",
       "      <td>10</td>\n",
       "      <td>04</td>\n",
       "      <td>25</td>\n",
       "      <td>19</td>\n",
       "      <td>NaN</td>\n",
       "    </tr>\n",
       "    <tr>\n",
       "      <th>3</th>\n",
       "      <td>IndiGo</td>\n",
       "      <td>Kolkata</td>\n",
       "      <td>Banglore</td>\n",
       "      <td>1</td>\n",
       "      <td>No info</td>\n",
       "      <td>6218</td>\n",
       "      <td>12</td>\n",
       "      <td>05</td>\n",
       "      <td>2019</td>\n",
       "      <td>CCU</td>\n",
       "      <td>NAG</td>\n",
       "      <td>BLR</td>\n",
       "      <td>NaN</td>\n",
       "      <td>18</td>\n",
       "      <td>05</td>\n",
       "      <td>NaN</td>\n",
       "      <td>23</td>\n",
       "      <td>30</td>\n",
       "      <td>5</td>\n",
       "      <td>25</td>\n",
       "    </tr>\n",
       "    <tr>\n",
       "      <th>4</th>\n",
       "      <td>IndiGo</td>\n",
       "      <td>Banglore</td>\n",
       "      <td>New Delhi</td>\n",
       "      <td>1</td>\n",
       "      <td>No info</td>\n",
       "      <td>13302</td>\n",
       "      <td>01</td>\n",
       "      <td>03</td>\n",
       "      <td>2019</td>\n",
       "      <td>BLR</td>\n",
       "      <td>NAG</td>\n",
       "      <td>DEL</td>\n",
       "      <td>NaN</td>\n",
       "      <td>16</td>\n",
       "      <td>50</td>\n",
       "      <td>NaN</td>\n",
       "      <td>21</td>\n",
       "      <td>35</td>\n",
       "      <td>4</td>\n",
       "      <td>45</td>\n",
       "    </tr>\n",
       "  </tbody>\n",
       "</table>\n",
       "</div>"
      ],
      "text/plain": [
       "       Airline    Source Destination Total_Stops Additional_Info  Price Date  \\\n",
       "0       IndiGo  Banglore   New Delhi           0         No info   3897   24   \n",
       "1    Air India   Kolkata    Banglore           2         No info   7662    1   \n",
       "2  Jet Airways     Delhi      Cochin           2         No info  13882    9   \n",
       "3       IndiGo   Kolkata    Banglore           1         No info   6218   12   \n",
       "4       IndiGo  Banglore   New Delhi           1         No info  13302   01   \n",
       "\n",
       "  Month  Year City_1 City_2 City_3 City_4 Dep_Time_Hour Dep_Time_Min  \\\n",
       "0    03  2019   BLR     DEL    NaN    NaN            22           20   \n",
       "1    05  2019   CCU    IXR    BBI     BLR            05           50   \n",
       "2    06  2019   DEL    LKO    BOM     COK            09           25   \n",
       "3    05  2019   CCU    NAG     BLR    NaN            18           05   \n",
       "4    03  2019   BLR    NAG     DEL    NaN            16           50   \n",
       "\n",
       "  Arrival_Dt Arrival_Time_Hours Arrival_Time_Min Duration_hours Duration_min  \n",
       "0         22                 01               10              2           50  \n",
       "1        NaN                 13               15              7           25  \n",
       "2         10                 04               25             19          NaN  \n",
       "3        NaN                 23               30              5           25  \n",
       "4        NaN                 21               35              4           45  "
      ]
     },
     "execution_count": 31,
     "metadata": {},
     "output_type": "execute_result"
    }
   ],
   "source": [
    "df_train.head()"
   ]
  },
  {
   "cell_type": "code",
   "execution_count": 32,
   "id": "1c60828f",
   "metadata": {},
   "outputs": [
    {
     "data": {
      "text/plain": [
       "Airline                  0\n",
       "Source                   0\n",
       "Destination              0\n",
       "Total_Stops              0\n",
       "Additional_Info          0\n",
       "Price                    0\n",
       "Date                     0\n",
       "Month                    0\n",
       "Year                     0\n",
       "City_1                   0\n",
       "City_2                   0\n",
       "City_3                3475\n",
       "City_4                9100\n",
       "Dep_Time_Hour            0\n",
       "Dep_Time_Min             0\n",
       "Arrival_Dt            6320\n",
       "Arrival_Time_Hours       0\n",
       "Arrival_Time_Min         0\n",
       "Duration_hours           0\n",
       "Duration_min          1006\n",
       "dtype: int64"
      ]
     },
     "execution_count": 32,
     "metadata": {},
     "output_type": "execute_result"
    }
   ],
   "source": [
    "df_train.isnull().sum()"
   ]
  },
  {
   "cell_type": "code",
   "execution_count": 33,
   "id": "ed0085a1",
   "metadata": {},
   "outputs": [],
   "source": [
    "# Filling the missing values\n",
    "\n",
    "# Clearly from above City_4 has maximum null values(9100 out of 10683),so we will be dropping City_4\n",
    "\n",
    "df_train.drop('City_4',inplace=True,axis=1)"
   ]
  },
  {
   "cell_type": "code",
   "execution_count": 34,
   "id": "efbd93c3",
   "metadata": {},
   "outputs": [],
   "source": [
    "# We need to  replace ‘NaN’ values in ‘City_3’ with ‘None’, \n",
    "#since rows where ‘City3’ is missing did not have any stop, just the source and the destination.\n",
    "\n",
    "df_train['City_3'].fillna('None',inplace=True)"
   ]
  },
  {
   "cell_type": "code",
   "execution_count": 35,
   "id": "f379a9bd",
   "metadata": {},
   "outputs": [],
   "source": [
    "# Replacing missing values in ‘Arrival_date’ column with values in ‘Date’ column\n",
    "\n",
    "df_train['Arrival_Dt'].fillna(df_train['Date'],inplace=True)"
   ]
  },
  {
   "cell_type": "code",
   "execution_count": 36,
   "id": "bf87c700",
   "metadata": {},
   "outputs": [],
   "source": [
    "# Replacing missing values in ‘Duration_min’ as 0, since the missing values is the duration time in hours not in min.\n",
    "\n",
    "df_train['Duration_min'].fillna(0,inplace=True)"
   ]
  },
  {
   "cell_type": "code",
   "execution_count": 37,
   "id": "8ddaf71b",
   "metadata": {},
   "outputs": [
    {
     "name": "stdout",
     "output_type": "stream",
     "text": [
      "<class 'pandas.core.frame.DataFrame'>\n",
      "Int64Index: 10462 entries, 0 to 10682\n",
      "Data columns (total 19 columns):\n",
      " #   Column              Non-Null Count  Dtype \n",
      "---  ------              --------------  ----- \n",
      " 0   Airline             10462 non-null  object\n",
      " 1   Source              10462 non-null  object\n",
      " 2   Destination         10462 non-null  object\n",
      " 3   Total_Stops         10462 non-null  object\n",
      " 4   Additional_Info     10462 non-null  object\n",
      " 5   Price               10462 non-null  int64 \n",
      " 6   Date                10462 non-null  object\n",
      " 7   Month               10462 non-null  object\n",
      " 8   Year                10462 non-null  object\n",
      " 9   City_1              10462 non-null  object\n",
      " 10  City_2              10462 non-null  object\n",
      " 11  City_3              10462 non-null  object\n",
      " 12  Dep_Time_Hour       10462 non-null  object\n",
      " 13  Dep_Time_Min        10462 non-null  object\n",
      " 14  Arrival_Dt          10462 non-null  object\n",
      " 15  Arrival_Time_Hours  10462 non-null  object\n",
      " 16  Arrival_Time_Min    10462 non-null  object\n",
      " 17  Duration_hours      10462 non-null  object\n",
      " 18  Duration_min        10462 non-null  object\n",
      "dtypes: int64(1), object(18)\n",
      "memory usage: 1.6+ MB\n"
     ]
    }
   ],
   "source": [
    "# Checking datatypes in dataset,as many columns are of 'object' type which should be of 'int' type\n",
    "\n",
    "df_train.info()"
   ]
  },
  {
   "cell_type": "code",
   "execution_count": 38,
   "id": "0e57ee2d",
   "metadata": {},
   "outputs": [],
   "source": [
    "# Changing datatype of numerical columns from object to int datatype\n",
    "\n",
    "df_train['Date']=df_train['Date'].astype('int64')\n",
    "df_train['Month']=df_train['Month'].astype('int64')\n",
    "df_train['Year']=df_train['Year'].astype('int64')\n",
    "df_train['Total_Stops']=df_train['Total_Stops'].astype('int64')\n",
    "df_train['Dep_Time_Hour']=df_train['Dep_Time_Hour'].astype('int64')\n",
    "df_train['Dep_Time_Min']=df_train['Dep_Time_Min'].astype('int64')\n",
    "df_train['Arrival_Dt']=df_train['Arrival_Dt'].astype('int64')\n",
    "df_train['Arrival_Time_Hours']=df_train['Arrival_Time_Hours'].astype('int64')\n",
    "df_train['Arrival_Time_Min']=df_train['Arrival_Time_Min'].astype('int64')\n",
    "df_train['Duration_min']=df_train['Duration_min'].astype('int64')\n"
   ]
  },
  {
   "cell_type": "code",
   "execution_count": 39,
   "id": "2f89ce20",
   "metadata": {},
   "outputs": [
    {
     "data": {
      "text/html": [
       "<div>\n",
       "<style scoped>\n",
       "    .dataframe tbody tr th:only-of-type {\n",
       "        vertical-align: middle;\n",
       "    }\n",
       "\n",
       "    .dataframe tbody tr th {\n",
       "        vertical-align: top;\n",
       "    }\n",
       "\n",
       "    .dataframe thead th {\n",
       "        text-align: right;\n",
       "    }\n",
       "</style>\n",
       "<table border=\"1\" class=\"dataframe\">\n",
       "  <thead>\n",
       "    <tr style=\"text-align: right;\">\n",
       "      <th></th>\n",
       "      <th>Airline</th>\n",
       "      <th>Source</th>\n",
       "      <th>Destination</th>\n",
       "      <th>Total_Stops</th>\n",
       "      <th>Additional_Info</th>\n",
       "      <th>Price</th>\n",
       "      <th>Date</th>\n",
       "      <th>Month</th>\n",
       "      <th>Year</th>\n",
       "      <th>City_1</th>\n",
       "      <th>City_2</th>\n",
       "      <th>City_3</th>\n",
       "      <th>Dep_Time_Hour</th>\n",
       "      <th>Dep_Time_Min</th>\n",
       "      <th>Arrival_Dt</th>\n",
       "      <th>Arrival_Time_Hours</th>\n",
       "      <th>Arrival_Time_Min</th>\n",
       "      <th>Duration_hours</th>\n",
       "      <th>Duration_min</th>\n",
       "    </tr>\n",
       "  </thead>\n",
       "  <tbody>\n",
       "    <tr>\n",
       "      <th>6474</th>\n",
       "      <td>Air India</td>\n",
       "      <td>Mumbai</td>\n",
       "      <td>Hyderabad</td>\n",
       "      <td>2</td>\n",
       "      <td>No info</td>\n",
       "      <td>17327</td>\n",
       "      <td>6</td>\n",
       "      <td>3</td>\n",
       "      <td>2019</td>\n",
       "      <td>BOM</td>\n",
       "      <td>GOI</td>\n",
       "      <td>PNQ</td>\n",
       "      <td>16</td>\n",
       "      <td>50</td>\n",
       "      <td>6</td>\n",
       "      <td>16</td>\n",
       "      <td>55</td>\n",
       "      <td>5m</td>\n",
       "      <td>0</td>\n",
       "    </tr>\n",
       "  </tbody>\n",
       "</table>\n",
       "</div>"
      ],
      "text/plain": [
       "        Airline  Source Destination  Total_Stops Additional_Info  Price  Date  \\\n",
       "6474  Air India  Mumbai   Hyderabad            2         No info  17327     6   \n",
       "\n",
       "      Month  Year City_1 City_2 City_3  Dep_Time_Hour  Dep_Time_Min  \\\n",
       "6474      3  2019   BOM    GOI    PNQ              16            50   \n",
       "\n",
       "      Arrival_Dt  Arrival_Time_Hours  Arrival_Time_Min Duration_hours  \\\n",
       "6474           6                  16                55             5m   \n",
       "\n",
       "      Duration_min  \n",
       "6474             0  "
      ]
     },
     "execution_count": 39,
     "metadata": {},
     "output_type": "execute_result"
    }
   ],
   "source": [
    "# Finding the row having Duration_hours as 5m,as journey cannot be of 5m.So we need to drop the row\n",
    "\n",
    "df_train[df_train['Duration_hours']=='5m']"
   ]
  },
  {
   "cell_type": "code",
   "execution_count": 40,
   "id": "679a0de6",
   "metadata": {},
   "outputs": [],
   "source": [
    "# Dropping the row with index 6474 from dataset\n",
    "\n",
    "df_train.drop(index=6474,inplace=True,axis=0)"
   ]
  },
  {
   "cell_type": "code",
   "execution_count": 41,
   "id": "47c6fa5c",
   "metadata": {},
   "outputs": [],
   "source": [
    "# Changing datatype of Duration_hours column from object to int datatype\n",
    "\n",
    "df_train['Duration_hours']=df_train['Duration_hours'].astype('int64')"
   ]
  },
  {
   "cell_type": "code",
   "execution_count": 42,
   "id": "993cee65",
   "metadata": {},
   "outputs": [],
   "source": [
    "# Separating categorical and numerical columns for proper data visualization\n",
    "\n",
    "cat=['Airline','Source','Destination','City_1','City_2','City_3','Additional_Info']\n",
    "num=['Date','Month','Year','Dep_Time_Hour','Dep_Time_Min','Arrival_Dt','Arrival_Time_Hours','Arrival_Time_Min','Duration_hours','Duration_min','Price']"
   ]
  },
  {
   "cell_type": "code",
   "execution_count": 43,
   "id": "33a978bd",
   "metadata": {},
   "outputs": [
    {
     "data": {
      "image/png": "[encoded data removed]",
      "text/plain": [
       "<Figure size 1440x3240 with 7 Axes>"
      ]
     },
     "metadata": {
      "needs_background": "light"
     },
     "output_type": "display_data"
    }
   ],
   "source": [
    "# Visualizing categorical features through countplot\n",
    "\n",
    "a=1\n",
    "plt.figure(figsize=(20,45))\n",
    "\n",
    "for i in cat:\n",
    "    plt.subplot(6,3,a)\n",
    "    sns.countplot(df_train[i])\n",
    "    plt.xticks(rotation=90)\n",
    "    a=a+1\n",
    "\n",
    "plt.show()"
   ]
  },
  {
   "cell_type": "code",
   "execution_count": 44,
   "id": "5645c9c3",
   "metadata": {},
   "outputs": [],
   "source": [
    "# Important observation from above plots:\n",
    "\n",
    "# 1) Jet Airways is the most preferred airline with the highest row count, followed by Indigo and AirIndia\n",
    "# 2) Maximum flights take off from Delhi,least from Chennai\n",
    "# 3) Maximum flights land in Cochin,least in Kolkatta\n",
    "# 4) Majority of the flights have a stop in Bombay.\n"
   ]
  },
  {
   "cell_type": "code",
   "execution_count": 45,
   "id": "9235e2e6",
   "metadata": {},
   "outputs": [
    {
     "data": {
      "image/png": "[encoded data removed]",
      "text/plain": [
       "<Figure size 1440x3240 with 11 Axes>"
      ]
     },
     "metadata": {
      "needs_background": "light"
     },
     "output_type": "display_data"
    }
   ],
   "source": [
    "# Distibution plots of numerical columns:\n",
    "\n",
    "a=1\n",
    "plt.figure(figsize=(20,45))\n",
    "\n",
    "for i in num:\n",
    "    plt.subplot(6,3,a)\n",
    "    sns.distplot(df_train[i])\n",
    "    plt.xticks(rotation=90)\n",
    "    a=a+1\n",
    "\n",
    "plt.show()"
   ]
  },
  {
   "cell_type": "code",
   "execution_count": 46,
   "id": "343012ac",
   "metadata": {},
   "outputs": [],
   "source": [
    "# Important observations from above plots :\n",
    "\n",
    "# 1) Maximum flights have stops as 1, flights with 3 and 4 stops are quite low\n",
    "# 2) Majority of the flights  fly in the early morning time\n",
    "# 3) Majority of the flights take off and land on the same day\n",
    "# 4) Price column is rightly skewed and maximum flights are under 20000 price"
   ]
  },
  {
   "cell_type": "code",
   "execution_count": 47,
   "id": "523ae3cd",
   "metadata": {},
   "outputs": [
    {
     "data": {
      "text/plain": [
       "<function matplotlib.pyplot.show(close=None, block=None)>"
      ]
     },
     "execution_count": 47,
     "metadata": {},
     "output_type": "execute_result"
    },
    {
     "data": {
      "image/png": "[encoded data removed]",
      "text/plain": [
       "<Figure size 1440x1800 with 18 Axes>"
      ]
     },
     "metadata": {
      "needs_background": "light"
     },
     "output_type": "display_data"
    }
   ],
   "source": [
    "# plotting boxplot to check outliers\n",
    "\n",
    "df_train.plot(kind='box', subplots=True, layout=(3,6), figsize=(20,25), grid=True)\n",
    "plt.show"
   ]
  },
  {
   "cell_type": "code",
   "execution_count": 48,
   "id": "35018e12",
   "metadata": {},
   "outputs": [],
   "source": [
    "# Clearly outliers could be seen in Price,Duration_hours and Total_Stops columns\n",
    "# Making changes in Duration_hours and Total_Stops column would affect Price ,so we will not remove outliers"
   ]
  },
  {
   "cell_type": "code",
   "execution_count": 49,
   "id": "86540859",
   "metadata": {},
   "outputs": [
    {
     "data": {
      "text/plain": [
       "Arrival_Time_Hours   -0.378863\n",
       "Month                -0.377753\n",
       "Duration_min         -0.086035\n",
       "Year                  0.000000\n",
       "Dep_Time_Hour         0.108461\n",
       "Arrival_Time_Min      0.110791\n",
       "Date                  0.124448\n",
       "Arrival_Dt            0.125494\n",
       "Dep_Time_Min          0.171488\n",
       "Total_Stops           0.332400\n",
       "Duration_hours        0.892611\n",
       "Price                 1.858221\n",
       "dtype: float64"
      ]
     },
     "execution_count": 49,
     "metadata": {},
     "output_type": "execute_result"
    }
   ],
   "source": [
    "# checking skewness in dataset\n",
    "\n",
    "df_train.skew().sort_values()"
   ]
  },
  {
   "cell_type": "code",
   "execution_count": 50,
   "id": "13b934a8",
   "metadata": {},
   "outputs": [],
   "source": [
    "# Removing skewness from Duration_hours\n",
    "\n",
    "df_train['Duration_hours']=np.log(df_train['Duration_hours'])"
   ]
  },
  {
   "cell_type": "code",
   "execution_count": 51,
   "id": "7970479c",
   "metadata": {},
   "outputs": [
    {
     "data": {
      "text/plain": [
       "-0.24502896907534769"
      ]
     },
     "execution_count": 51,
     "metadata": {},
     "output_type": "execute_result"
    }
   ],
   "source": [
    "df_train['Duration_hours'].skew()"
   ]
  },
  {
   "cell_type": "code",
   "execution_count": 52,
   "id": "3e4a7912",
   "metadata": {},
   "outputs": [
    {
     "name": "stdout",
     "output_type": "stream",
     "text": [
      "<class 'pandas.core.frame.DataFrame'>\n",
      "Int64Index: 10461 entries, 0 to 10682\n",
      "Data columns (total 19 columns):\n",
      " #   Column              Non-Null Count  Dtype  \n",
      "---  ------              --------------  -----  \n",
      " 0   Airline             10461 non-null  object \n",
      " 1   Source              10461 non-null  object \n",
      " 2   Destination         10461 non-null  object \n",
      " 3   Total_Stops         10461 non-null  int64  \n",
      " 4   Additional_Info     10461 non-null  object \n",
      " 5   Price               10461 non-null  int64  \n",
      " 6   Date                10461 non-null  int64  \n",
      " 7   Month               10461 non-null  int64  \n",
      " 8   Year                10461 non-null  int64  \n",
      " 9   City_1              10461 non-null  object \n",
      " 10  City_2              10461 non-null  object \n",
      " 11  City_3              10461 non-null  object \n",
      " 12  Dep_Time_Hour       10461 non-null  int64  \n",
      " 13  Dep_Time_Min        10461 non-null  int64  \n",
      " 14  Arrival_Dt          10461 non-null  int64  \n",
      " 15  Arrival_Time_Hours  10461 non-null  int64  \n",
      " 16  Arrival_Time_Min    10461 non-null  int64  \n",
      " 17  Duration_hours      10461 non-null  float64\n",
      " 18  Duration_min        10461 non-null  int64  \n",
      "dtypes: float64(1), int64(11), object(7)\n",
      "memory usage: 1.8+ MB\n"
     ]
    }
   ],
   "source": [
    "df_train.info()"
   ]
  },
  {
   "cell_type": "code",
   "execution_count": 53,
   "id": "16899d85",
   "metadata": {},
   "outputs": [],
   "source": [
    "# Changing datatype of Duration_hours column from float to int datatype\n",
    "\n",
    "df_train['Duration_hours']=df_train['Duration_hours'].astype('int64')"
   ]
  },
  {
   "cell_type": "code",
   "execution_count": 55,
   "id": "7ea3d909",
   "metadata": {},
   "outputs": [],
   "source": [
    "# converting categorical features into numerics\n",
    "\n",
    "le=LabelEncoder()\n",
    "\n",
    "for i in cat:\n",
    "    df_train[i]=le.fit_transform(df_train[i])"
   ]
  },
  {
   "cell_type": "code",
   "execution_count": 57,
   "id": "c43563cf",
   "metadata": {},
   "outputs": [],
   "source": [
    "X=df_train.drop('Price',axis=1)\n",
    "y=df_train['Price']"
   ]
  },
  {
   "cell_type": "code",
   "execution_count": 60,
   "id": "33c0e6c6",
   "metadata": {},
   "outputs": [],
   "source": [
    "\n",
    "# Scaling the dataset and normalizing feature variables\n",
    "\n",
    "from sklearn.preprocessing import StandardScaler \n",
    "\n",
    "scale = StandardScaler()\n",
    "X= scale.fit_transform(X)\n"
   ]
  },
  {
   "cell_type": "code",
   "execution_count": 61,
   "id": "32917929",
   "metadata": {},
   "outputs": [
    {
     "name": "stdout",
     "output_type": "stream",
     "text": [
      "best random_state :  22\n",
      "best r2 score :  0.8607349224745006\n"
     ]
    }
   ],
   "source": [
    "# Evaluation of models\n",
    "\n",
    "#Training model with DecisionTreeRegressor and finding the best state,r2_score\n",
    "\n",
    "from sklearn.metrics import mean_squared_error,r2_score\n",
    "from sklearn.model_selection import train_test_split\n",
    "\n",
    "model_dt = DecisionTreeRegressor()\n",
    "\n",
    "score_s=0\n",
    "state=0\n",
    "for i in range(0,25):\n",
    "    X_train, X_test, y_train, y_test = train_test_split(X,y,test_size=0.3, random_state =i)\n",
    "    model_dt.fit(X_train, y_train)\n",
    "    y_pred_dt = model_dt.predict(X_test)\n",
    "    score=r2_score(y_test,y_pred_dt)\n",
    "    if score>score_s:\n",
    "        score_s=score\n",
    "        state=i\n",
    "        \n",
    "print('best random_state : ',state)\n",
    "print('best r2 score : ',score_s)"
   ]
  },
  {
   "cell_type": "code",
   "execution_count": 64,
   "id": "e6b9fb44",
   "metadata": {},
   "outputs": [
    {
     "name": "stdout",
     "output_type": "stream",
     "text": [
      "root mean squared error for DecisionTreeRegressor : 2269.0499529699546\n"
     ]
    }
   ],
   "source": [
    "# finding mean_squared_error,rmse  for DecisionTreeRegressor\n",
    "\n",
    "mse=mean_squared_error(y_test,y_pred_dt)\n",
    "rmse=np.sqrt(mse)\n",
    "\n",
    "print(\"root mean squared error for DecisionTreeRegressor :\",rmse)"
   ]
  },
  {
   "cell_type": "code",
   "execution_count": 65,
   "id": "cebd7b6f",
   "metadata": {},
   "outputs": [
    {
     "name": "stdout",
     "output_type": "stream",
     "text": [
      "mean squared error for DecisionTreeRegressor : 5148587.689072954\n"
     ]
    }
   ],
   "source": [
    "print(\"mean squared error for DecisionTreeRegressor :\",mse)"
   ]
  },
  {
   "cell_type": "code",
   "execution_count": 66,
   "id": "b60fc9ce",
   "metadata": {},
   "outputs": [
    {
     "data": {
      "image/png": "[encoded data removed]",
      "text/plain": [
       "<Figure size 1008x432 with 1 Axes>"
      ]
     },
     "metadata": {
      "needs_background": "light"
     },
     "output_type": "display_data"
    }
   ],
   "source": [
    "# # plotting original training data wth predicted values for DecisionTreeRegressor model\n",
    "\n",
    "plt.figure(figsize=(14,6))\n",
    "plt.scatter(x=y_test,y=y_pred_dt)\n",
    "plt.xlabel('y_test')\n",
    "plt.ylabel('y_pred')\n",
    "plt.show()"
   ]
  },
  {
   "cell_type": "code",
   "execution_count": 67,
   "id": "6241a15a",
   "metadata": {},
   "outputs": [],
   "source": [
    "# The predicted values looks close enough to original values with We are getting a best fit line for DecisionTreeRegressor\n",
    "# and we are getting a best fit line.So model seems to be doing good"
   ]
  },
  {
   "cell_type": "code",
   "execution_count": 68,
   "id": "ee85a68a",
   "metadata": {},
   "outputs": [
    {
     "name": "stdout",
     "output_type": "stream",
     "text": [
      "best random_state :  9\n",
      "best r2 score :  0.5306110547113339\n"
     ]
    }
   ],
   "source": [
    "# Evaluation of models\n",
    "\n",
    "#Training model with LinearRegression and finding the best state,r2_score\n",
    "\n",
    "from sklearn.metrics import mean_squared_error,r2_score\n",
    "from sklearn.model_selection import train_test_split\n",
    "\n",
    "model_lr = LinearRegression()\n",
    "\n",
    "score_s=0\n",
    "state=0\n",
    "for i in range(0,25):\n",
    "    X_train, X_test, y_train, y_test = train_test_split(X,y,test_size=0.3, random_state =i)\n",
    "    model_lr.fit(X_train, y_train)\n",
    "    y_pred_lr = model_lr.predict(X_test)\n",
    "    score=r2_score(y_test,y_pred_lr)\n",
    "    if score>score_s:\n",
    "        score_s=score\n",
    "        state=i\n",
    "        \n",
    "print('best random_state : ',state)\n",
    "print('best r2 score : ',score_s)"
   ]
  },
  {
   "cell_type": "code",
   "execution_count": 69,
   "id": "c2167ca1",
   "metadata": {},
   "outputs": [
    {
     "data": {
      "text/plain": [
       "3391.1563889040176"
      ]
     },
     "execution_count": 69,
     "metadata": {},
     "output_type": "execute_result"
    }
   ],
   "source": [
    "# finding mean_squared_error,rmse  for LinearRegression\n",
    "\n",
    "mse=mean_squared_error(y_test,y_pred_lr)\n",
    "rmse=np.sqrt(mse)\n",
    "\n",
    "rmse"
   ]
  },
  {
   "cell_type": "code",
   "execution_count": 73,
   "id": "dc2c13a1",
   "metadata": {},
   "outputs": [
    {
     "name": "stdout",
     "output_type": "stream",
     "text": [
      "best random_state :  4\n",
      "best r2 score :  0.7997988041135554\n"
     ]
    }
   ],
   "source": [
    "# Evaluation of models\n",
    "\n",
    "#Training model with KNeighborsRegressor and finding the best state,r2_score\n",
    "\n",
    "from sklearn.metrics import mean_squared_error,r2_score\n",
    "from sklearn.model_selection import train_test_split\n",
    "\n",
    "model_knr = KNeighborsRegressor()\n",
    "\n",
    "score_s=0\n",
    "state=0\n",
    "for i in range(0,20):\n",
    "    X_train, X_test, y_train, y_test = train_test_split(X,y,test_size=0.3, random_state =i)\n",
    "    model_knr.fit(X_train, y_train)\n",
    "    y_pred_knr = model_knr.predict(X_test)\n",
    "    score=r2_score(y_test,y_pred_knr)\n",
    "    if score>score_s:\n",
    "        score_s=score\n",
    "        state=i\n",
    "        \n",
    "print('best random_state : ',state)\n",
    "print('best r2 score : ',score_s)"
   ]
  },
  {
   "cell_type": "code",
   "execution_count": 74,
   "id": "9f57b071",
   "metadata": {},
   "outputs": [
    {
     "name": "stdout",
     "output_type": "stream",
     "text": [
      "mean squared error for KNeighborsRegressor : 4636452.708429437\n",
      "root mean squared error for KNeighborsRegressor : 2153.2423710370917\n"
     ]
    }
   ],
   "source": [
    "# finding mean_squared_error,rmse  for KNeighborsRegressor\n",
    "\n",
    "mse=mean_squared_error(y_test,y_pred_knr)\n",
    "rmse=np.sqrt(mse)\n",
    "\n",
    "print(\"mean squared error for KNeighborsRegressor :\",mse)\n",
    "print(\"root mean squared error for KNeighborsRegressor :\",rmse)"
   ]
  },
  {
   "cell_type": "code",
   "execution_count": 75,
   "id": "6943bba0",
   "metadata": {},
   "outputs": [
    {
     "data": {
      "image/png": "[encoded data removed]",
      "text/plain": [
       "<Figure size 1008x432 with 1 Axes>"
      ]
     },
     "metadata": {
      "needs_background": "light"
     },
     "output_type": "display_data"
    }
   ],
   "source": [
    "# # plotting original training data wth predicted values for KNeighborsRegressor model\n",
    "\n",
    "plt.figure(figsize=(14,6))\n",
    "plt.scatter(x=y_test,y=y_pred_knr)\n",
    "plt.xlabel('y_test')\n",
    "plt.ylabel('y_pred')\n",
    "plt.show()"
   ]
  },
  {
   "cell_type": "code",
   "execution_count": 79,
   "id": "12b4956d",
   "metadata": {},
   "outputs": [
    {
     "name": "stdout",
     "output_type": "stream",
     "text": [
      "best random_state :  4\n",
      "best r2 score :  0.9197948797323932\n"
     ]
    }
   ],
   "source": [
    "# Evaluation of models\n",
    "\n",
    "#Training model with RandomForestRegressor and finding the best state,r2_score\n",
    "\n",
    "from sklearn.metrics import mean_squared_error,r2_score\n",
    "from sklearn.model_selection import train_test_split\n",
    "\n",
    "model_rfr = RandomForestRegressor()\n",
    "\n",
    "score_s=0\n",
    "state=0\n",
    "for i in range(0,10):\n",
    "    X_train, X_test, y_train, y_test = train_test_split(X,y,test_size=0.3, random_state =i)\n",
    "    model_rfr.fit(X_train, y_train)\n",
    "    y_pred_rfr = model_rfr.predict(X_test)\n",
    "    score=r2_score(y_test,y_pred_rfr)\n",
    "    if score>score_s:\n",
    "        score_s=score\n",
    "        state=i\n",
    "        \n",
    "print('best random_state : ',state)\n",
    "print('best r2 score : ',score_s)"
   ]
  },
  {
   "cell_type": "code",
   "execution_count": 77,
   "id": "1ebd21a6",
   "metadata": {},
   "outputs": [
    {
     "name": "stdout",
     "output_type": "stream",
     "text": [
      "mean squared error for RandomForestRegressor : 2077386.0521827196\n",
      "root mean squared error for RandomForestRegressor : 1441.3140019380646\n"
     ]
    }
   ],
   "source": [
    "# finding mean_squared_error,rmse  for RandomForestRegressor\n",
    "\n",
    "mse=mean_squared_error(y_test,y_pred_rfr)\n",
    "rmse=np.sqrt(mse)\n",
    "\n",
    "print(\"mean squared error for RandomForestRegressor :\",mse)\n",
    "print(\"root mean squared error for RandomForestRegressor :\",rmse)"
   ]
  },
  {
   "cell_type": "code",
   "execution_count": 80,
   "id": "ee86b364",
   "metadata": {},
   "outputs": [
    {
     "name": "stdout",
     "output_type": "stream",
     "text": [
      "mean squared error for RandomForestRegressor : 418376.8178415409\n",
      "root mean squared error for RandomForestRegressor : 646.820545314959\n"
     ]
    }
   ],
   "source": [
    "y_pred_train=model_rfr.predict(X_train)\n",
    "mse=mean_squared_error(y_train,y_pred_train)\n",
    "rmse=np.sqrt(mse)\n",
    "\n",
    "print(\"mean squared error for RandomForestRegressor :\",mse)\n",
    "print(\"root mean squared error for RandomForestRegressor :\",rmse)"
   ]
  },
  {
   "cell_type": "code",
   "execution_count": 81,
   "id": "b2aa3d4b",
   "metadata": {},
   "outputs": [
    {
     "name": "stdout",
     "output_type": "stream",
     "text": [
      "0.9809968166148662\n"
     ]
    }
   ],
   "source": [
    "# R2 score of RandomForestRegressor for training data\n",
    "\n",
    "score=r2_score(y_train,y_pred_train)\n",
    "print(score)"
   ]
  },
  {
   "cell_type": "code",
   "execution_count": null,
   "id": "f6d12121",
   "metadata": {},
   "outputs": [],
   "source": [
    "# There seems to be overfitting with RandomForestRegressor model "
   ]
  },
  {
   "cell_type": "code",
   "execution_count": 78,
   "id": "f99cfdd4",
   "metadata": {},
   "outputs": [
    {
     "data": {
      "image/png": "[encoded data removed]",
      "text/plain": [
       "<Figure size 1008x432 with 1 Axes>"
      ]
     },
     "metadata": {
      "needs_background": "light"
     },
     "output_type": "display_data"
    }
   ],
   "source": [
    "# # plotting original training data wth predicted values for RandomForestRegressor model\n",
    "\n",
    "plt.figure(figsize=(14,6))\n",
    "plt.scatter(x=y_test,y=y_pred_rfr)\n",
    "plt.xlabel('y_test')\n",
    "plt.ylabel('y_pred')\n",
    "plt.show()"
   ]
  },
  {
   "cell_type": "code",
   "execution_count": 91,
   "id": "6b042c41",
   "metadata": {},
   "outputs": [
    {
     "name": "stdout",
     "output_type": "stream",
     "text": [
      "best random_state :  4\n",
      "best r2 score :  0.8496985086459006\n"
     ]
    }
   ],
   "source": [
    "# Evaluation of models\n",
    "\n",
    "#Training model with GradientBoostingRegressor and finding the best state,r2_score\n",
    "\n",
    "from sklearn.metrics import mean_squared_error,r2_score\n",
    "from sklearn.model_selection import train_test_split\n",
    "\n",
    "model_gbr = GradientBoostingRegressor()\n",
    "\n",
    "score_s=0\n",
    "state=0\n",
    "for i in range(0,10):\n",
    "    X_train, X_test, y_train, y_test = train_test_split(X,y,test_size=0.3, random_state =i)\n",
    "    model_gbr.fit(X_train, y_train)\n",
    "    y_pred_gbr = model_gbr.predict(X_test)\n",
    "    score=r2_score(y_test,y_pred_gbr)\n",
    "    if score>score_s:\n",
    "        score_s=score\n",
    "        state=i\n",
    "        \n",
    "print('best random_state : ',state)\n",
    "print('best r2 score : ',score_s)"
   ]
  },
  {
   "cell_type": "code",
   "execution_count": 84,
   "id": "d9f2e7c5",
   "metadata": {},
   "outputs": [
    {
     "name": "stdout",
     "output_type": "stream",
     "text": [
      "0.8455071246981563\n"
     ]
    }
   ],
   "source": [
    "score=r2_score(y_train,model_gbr.predict(X_train))\n",
    "print(score)"
   ]
  },
  {
   "cell_type": "code",
   "execution_count": null,
   "id": "619bb8b3",
   "metadata": {},
   "outputs": [],
   "source": [
    "#RandomForestRegressor model gives us the best accuracy, with an R2 score of 91%, but the model is overfitting on training data.\n",
    "#Gradient boosting also gives a score of 84%, which is better than K-Neighbors and the model is not overfitting as well."
   ]
  },
  {
   "cell_type": "code",
   "execution_count": 92,
   "id": "1fcee7e2",
   "metadata": {},
   "outputs": [],
   "source": [
    "#  HYPERPARAMETER TUNING OF GRADIENTBOOSTINGREGRESSOR MODEL\n",
    "\n",
    "\n",
    "search_grid={'alpha':[0.9,0.09,0.1],'n_estimators':[100,50,10],'learning_rate':[0.1,0.01],'max_depth':[3,4,5],'min_samples_split':[2,3,4],'min_samples_leaf':[1,2,3]}\n",
    "search=GridSearchCV(model_gbr,search_grid,cv=3)\n"
   ]
  },
  {
   "cell_type": "code",
   "execution_count": 93,
   "id": "e4fe9dd4",
   "metadata": {},
   "outputs": [
    {
     "data": {
      "text/plain": [
       "GridSearchCV(cv=3, estimator=GradientBoostingRegressor(),\n",
       "             param_grid={'alpha': [0.9, 0.09, 0.1],\n",
       "                         'learning_rate': [0.1, 0.01], 'max_depth': [3, 4, 5],\n",
       "                         'min_samples_leaf': [1, 2, 3],\n",
       "                         'min_samples_split': [2, 3, 4],\n",
       "                         'n_estimators': [100, 50, 10]})"
      ]
     },
     "execution_count": 93,
     "metadata": {},
     "output_type": "execute_result"
    }
   ],
   "source": [
    "# Fitting the model\n",
    "\n",
    "search.fit(X_train,y_train)\n"
   ]
  },
  {
   "cell_type": "code",
   "execution_count": 94,
   "id": "dffa6c93",
   "metadata": {},
   "outputs": [
    {
     "data": {
      "text/plain": [
       "{'alpha': 0.9,\n",
       " 'learning_rate': 0.1,\n",
       " 'max_depth': 5,\n",
       " 'min_samples_leaf': 1,\n",
       " 'min_samples_split': 4,\n",
       " 'n_estimators': 100}"
      ]
     },
     "execution_count": 94,
     "metadata": {},
     "output_type": "execute_result"
    }
   ],
   "source": [
    "search.best_params_"
   ]
  },
  {
   "cell_type": "code",
   "execution_count": 95,
   "id": "ceea04df",
   "metadata": {},
   "outputs": [
    {
     "name": "stdout",
     "output_type": "stream",
     "text": [
      "Best score 0.8707683106526228\n"
     ]
    }
   ],
   "source": [
    "print(\"Best score\", search.best_score_)"
   ]
  },
  {
   "cell_type": "code",
   "execution_count": 96,
   "id": "68384065",
   "metadata": {},
   "outputs": [
    {
     "data": {
      "text/plain": [
       "0.8839376878081209"
      ]
     },
     "execution_count": 96,
     "metadata": {},
     "output_type": "execute_result"
    }
   ],
   "source": [
    "search.score(X_test,y_test)"
   ]
  },
  {
   "cell_type": "code",
   "execution_count": 97,
   "id": "f0b82215",
   "metadata": {},
   "outputs": [
    {
     "data": {
      "text/plain": [
       "0.8839376878081209"
      ]
     },
     "execution_count": 97,
     "metadata": {},
     "output_type": "execute_result"
    }
   ],
   "source": [
    "\n",
    "y_pred_gbr1=search.predict(X_test)\n",
    "score=r2_score(y_test,y_pred_gbr1)\n",
    "score"
   ]
  },
  {
   "cell_type": "code",
   "execution_count": null,
   "id": "f8c0e825",
   "metadata": {},
   "outputs": [],
   "source": [
    "# The r2_score received for Gradient Boosting Regressor comes out to be better after hypertuning , frm 84 to 88 %"
   ]
  },
  {
   "cell_type": "code",
   "execution_count": 99,
   "id": "36d9e0a4",
   "metadata": {},
   "outputs": [],
   "source": [
    "# Creating the final model \n",
    "\n",
    "Final_model=GradientBoostingRegressor(alpha=0.9,n_estimators=100,learning_rate=0.1,max_depth=5,min_samples_split=4,min_samples_leaf=1)"
   ]
  },
  {
   "cell_type": "code",
   "execution_count": 100,
   "id": "060f2c28",
   "metadata": {},
   "outputs": [],
   "source": [
    "# Exporting the model through pickle\n",
    "\n",
    "\n",
    "import pickle\n",
    "filename='Flight_price_pred.pkl'\n",
    "pickle.dump(Final_model,open(filename,'wb'))"
   ]
  },
  {
   "cell_type": "code",
   "execution_count": 101,
   "id": "9103355b",
   "metadata": {},
   "outputs": [
    {
     "data": {
      "text/html": [
       "<div>\n",
       "<style scoped>\n",
       "    .dataframe tbody tr th:only-of-type {\n",
       "        vertical-align: middle;\n",
       "    }\n",
       "\n",
       "    .dataframe tbody tr th {\n",
       "        vertical-align: top;\n",
       "    }\n",
       "\n",
       "    .dataframe thead th {\n",
       "        text-align: right;\n",
       "    }\n",
       "</style>\n",
       "<table border=\"1\" class=\"dataframe\">\n",
       "  <thead>\n",
       "    <tr style=\"text-align: right;\">\n",
       "      <th></th>\n",
       "      <th>Airline</th>\n",
       "      <th>Date_of_Journey</th>\n",
       "      <th>Source</th>\n",
       "      <th>Destination</th>\n",
       "      <th>Route</th>\n",
       "      <th>Dep_Time</th>\n",
       "      <th>Arrival_Time</th>\n",
       "      <th>Duration</th>\n",
       "      <th>Total_Stops</th>\n",
       "      <th>Additional_Info</th>\n",
       "    </tr>\n",
       "  </thead>\n",
       "  <tbody>\n",
       "    <tr>\n",
       "      <th>0</th>\n",
       "      <td>Jet Airways</td>\n",
       "      <td>6/06/2019</td>\n",
       "      <td>Delhi</td>\n",
       "      <td>Cochin</td>\n",
       "      <td>DEL ? BOM ? COK</td>\n",
       "      <td>17:30</td>\n",
       "      <td>04:25 07 Jun</td>\n",
       "      <td>10h 55m</td>\n",
       "      <td>1 stop</td>\n",
       "      <td>No info</td>\n",
       "    </tr>\n",
       "    <tr>\n",
       "      <th>1</th>\n",
       "      <td>IndiGo</td>\n",
       "      <td>12/05/2019</td>\n",
       "      <td>Kolkata</td>\n",
       "      <td>Banglore</td>\n",
       "      <td>CCU ? MAA ? BLR</td>\n",
       "      <td>06:20</td>\n",
       "      <td>10:20</td>\n",
       "      <td>4h</td>\n",
       "      <td>1 stop</td>\n",
       "      <td>No info</td>\n",
       "    </tr>\n",
       "    <tr>\n",
       "      <th>2</th>\n",
       "      <td>Jet Airways</td>\n",
       "      <td>21/05/2019</td>\n",
       "      <td>Delhi</td>\n",
       "      <td>Cochin</td>\n",
       "      <td>DEL ? BOM ? COK</td>\n",
       "      <td>19:15</td>\n",
       "      <td>19:00 22 May</td>\n",
       "      <td>23h 45m</td>\n",
       "      <td>1 stop</td>\n",
       "      <td>In-flight meal not included</td>\n",
       "    </tr>\n",
       "    <tr>\n",
       "      <th>3</th>\n",
       "      <td>Multiple carriers</td>\n",
       "      <td>21/05/2019</td>\n",
       "      <td>Delhi</td>\n",
       "      <td>Cochin</td>\n",
       "      <td>DEL ? BOM ? COK</td>\n",
       "      <td>08:00</td>\n",
       "      <td>21:00</td>\n",
       "      <td>13h</td>\n",
       "      <td>1 stop</td>\n",
       "      <td>No info</td>\n",
       "    </tr>\n",
       "    <tr>\n",
       "      <th>4</th>\n",
       "      <td>Air Asia</td>\n",
       "      <td>24/06/2019</td>\n",
       "      <td>Banglore</td>\n",
       "      <td>Delhi</td>\n",
       "      <td>BLR ? DEL</td>\n",
       "      <td>23:55</td>\n",
       "      <td>02:45 25 Jun</td>\n",
       "      <td>2h 50m</td>\n",
       "      <td>non-stop</td>\n",
       "      <td>No info</td>\n",
       "    </tr>\n",
       "  </tbody>\n",
       "</table>\n",
       "</div>"
      ],
      "text/plain": [
       "             Airline Date_of_Journey    Source Destination            Route  \\\n",
       "0        Jet Airways       6/06/2019     Delhi      Cochin  DEL ? BOM ? COK   \n",
       "1             IndiGo      12/05/2019   Kolkata    Banglore  CCU ? MAA ? BLR   \n",
       "2        Jet Airways      21/05/2019     Delhi      Cochin  DEL ? BOM ? COK   \n",
       "3  Multiple carriers      21/05/2019     Delhi      Cochin  DEL ? BOM ? COK   \n",
       "4           Air Asia      24/06/2019  Banglore       Delhi        BLR ? DEL   \n",
       "\n",
       "  Dep_Time  Arrival_Time Duration Total_Stops              Additional_Info  \n",
       "0    17:30  04:25 07 Jun  10h 55m      1 stop                      No info  \n",
       "1    06:20         10:20       4h      1 stop                      No info  \n",
       "2    19:15  19:00 22 May  23h 45m      1 stop  In-flight meal not included  \n",
       "3    08:00         21:00      13h      1 stop                      No info  \n",
       "4    23:55  02:45 25 Jun   2h 50m    non-stop                      No info  "
      ]
     },
     "execution_count": 101,
     "metadata": {},
     "output_type": "execute_result"
    }
   ],
   "source": [
    "# Applying model on our test dataset \n",
    "\n",
    "df_test.head()"
   ]
  },
  {
   "cell_type": "code",
   "execution_count": 102,
   "id": "c1ac7c22",
   "metadata": {},
   "outputs": [
    {
     "data": {
      "text/html": [
       "<div>\n",
       "<style scoped>\n",
       "    .dataframe tbody tr th:only-of-type {\n",
       "        vertical-align: middle;\n",
       "    }\n",
       "\n",
       "    .dataframe tbody tr th {\n",
       "        vertical-align: top;\n",
       "    }\n",
       "\n",
       "    .dataframe thead th {\n",
       "        text-align: right;\n",
       "    }\n",
       "</style>\n",
       "<table border=\"1\" class=\"dataframe\">\n",
       "  <thead>\n",
       "    <tr style=\"text-align: right;\">\n",
       "      <th></th>\n",
       "      <th>Airline</th>\n",
       "      <th>Date_of_Journey</th>\n",
       "      <th>Source</th>\n",
       "      <th>Destination</th>\n",
       "      <th>Route</th>\n",
       "      <th>Dep_Time</th>\n",
       "      <th>Arrival_Time</th>\n",
       "      <th>Duration</th>\n",
       "      <th>Total_Stops</th>\n",
       "      <th>Additional_Info</th>\n",
       "    </tr>\n",
       "  </thead>\n",
       "  <tbody>\n",
       "    <tr>\n",
       "      <th>294</th>\n",
       "      <td>Jet Airways</td>\n",
       "      <td>12/06/2019</td>\n",
       "      <td>Delhi</td>\n",
       "      <td>Cochin</td>\n",
       "      <td>DEL ? JAI ? BOM ? COK</td>\n",
       "      <td>05:30</td>\n",
       "      <td>04:25 13 Jun</td>\n",
       "      <td>22h 55m</td>\n",
       "      <td>2 stops</td>\n",
       "      <td>No info</td>\n",
       "    </tr>\n",
       "    <tr>\n",
       "      <th>794</th>\n",
       "      <td>Jet Airways</td>\n",
       "      <td>12/06/2019</td>\n",
       "      <td>Delhi</td>\n",
       "      <td>Cochin</td>\n",
       "      <td>DEL ? JAI ? BOM ? COK</td>\n",
       "      <td>05:30</td>\n",
       "      <td>04:25 13 Jun</td>\n",
       "      <td>22h 55m</td>\n",
       "      <td>2 stops</td>\n",
       "      <td>In-flight meal not included</td>\n",
       "    </tr>\n",
       "    <tr>\n",
       "      <th>909</th>\n",
       "      <td>IndiGo</td>\n",
       "      <td>24/03/2019</td>\n",
       "      <td>Banglore</td>\n",
       "      <td>New Delhi</td>\n",
       "      <td>BLR ? DEL</td>\n",
       "      <td>20:00</td>\n",
       "      <td>22:55</td>\n",
       "      <td>2h 55m</td>\n",
       "      <td>non-stop</td>\n",
       "      <td>No info</td>\n",
       "    </tr>\n",
       "    <tr>\n",
       "      <th>974</th>\n",
       "      <td>Air India</td>\n",
       "      <td>12/06/2019</td>\n",
       "      <td>Kolkata</td>\n",
       "      <td>Banglore</td>\n",
       "      <td>CCU ? DEL ? AMD ? BLR</td>\n",
       "      <td>07:00</td>\n",
       "      <td>05:25 13 Jun</td>\n",
       "      <td>22h 25m</td>\n",
       "      <td>2 stops</td>\n",
       "      <td>No info</td>\n",
       "    </tr>\n",
       "    <tr>\n",
       "      <th>1011</th>\n",
       "      <td>Jet Airways</td>\n",
       "      <td>9/05/2019</td>\n",
       "      <td>Delhi</td>\n",
       "      <td>Cochin</td>\n",
       "      <td>DEL ? JAI ? BOM ? COK</td>\n",
       "      <td>05:30</td>\n",
       "      <td>04:25 10 May</td>\n",
       "      <td>22h 55m</td>\n",
       "      <td>2 stops</td>\n",
       "      <td>No info</td>\n",
       "    </tr>\n",
       "  </tbody>\n",
       "</table>\n",
       "</div>"
      ],
      "text/plain": [
       "          Airline Date_of_Journey    Source Destination  \\\n",
       "294   Jet Airways      12/06/2019     Delhi      Cochin   \n",
       "794   Jet Airways      12/06/2019     Delhi      Cochin   \n",
       "909        IndiGo      24/03/2019  Banglore   New Delhi   \n",
       "974     Air India      12/06/2019   Kolkata    Banglore   \n",
       "1011  Jet Airways       9/05/2019     Delhi      Cochin   \n",
       "\n",
       "                      Route Dep_Time  Arrival_Time Duration Total_Stops  \\\n",
       "294   DEL ? JAI ? BOM ? COK    05:30  04:25 13 Jun  22h 55m     2 stops   \n",
       "794   DEL ? JAI ? BOM ? COK    05:30  04:25 13 Jun  22h 55m     2 stops   \n",
       "909               BLR ? DEL    20:00         22:55   2h 55m    non-stop   \n",
       "974   CCU ? DEL ? AMD ? BLR    07:00  05:25 13 Jun  22h 25m     2 stops   \n",
       "1011  DEL ? JAI ? BOM ? COK    05:30  04:25 10 May  22h 55m     2 stops   \n",
       "\n",
       "                  Additional_Info  \n",
       "294                       No info  \n",
       "794   In-flight meal not included  \n",
       "909                       No info  \n",
       "974                       No info  \n",
       "1011                      No info  "
      ]
     },
     "execution_count": 102,
     "metadata": {},
     "output_type": "execute_result"
    }
   ],
   "source": [
    "# Checking for dulicate values\n",
    "\n",
    "df_test[df_test.duplicated()].head()"
   ]
  },
  {
   "cell_type": "code",
   "execution_count": 103,
   "id": "b9f6c388",
   "metadata": {},
   "outputs": [
    {
     "data": {
      "text/html": [
       "<div>\n",
       "<style scoped>\n",
       "    .dataframe tbody tr th:only-of-type {\n",
       "        vertical-align: middle;\n",
       "    }\n",
       "\n",
       "    .dataframe tbody tr th {\n",
       "        vertical-align: top;\n",
       "    }\n",
       "\n",
       "    .dataframe thead th {\n",
       "        text-align: right;\n",
       "    }\n",
       "</style>\n",
       "<table border=\"1\" class=\"dataframe\">\n",
       "  <thead>\n",
       "    <tr style=\"text-align: right;\">\n",
       "      <th></th>\n",
       "      <th>Airline</th>\n",
       "      <th>Date_of_Journey</th>\n",
       "      <th>Source</th>\n",
       "      <th>Destination</th>\n",
       "      <th>Route</th>\n",
       "      <th>Dep_Time</th>\n",
       "      <th>Arrival_Time</th>\n",
       "      <th>Duration</th>\n",
       "      <th>Total_Stops</th>\n",
       "      <th>Additional_Info</th>\n",
       "      <th>Price</th>\n",
       "    </tr>\n",
       "  </thead>\n",
       "  <tbody>\n",
       "    <tr>\n",
       "      <th>0</th>\n",
       "      <td>IndiGo</td>\n",
       "      <td>24/03/2019</td>\n",
       "      <td>Banglore</td>\n",
       "      <td>New Delhi</td>\n",
       "      <td>BLR ? DEL</td>\n",
       "      <td>22:20</td>\n",
       "      <td>01:10 22 Mar</td>\n",
       "      <td>2h 50m</td>\n",
       "      <td>non-stop</td>\n",
       "      <td>No info</td>\n",
       "      <td>3897</td>\n",
       "    </tr>\n",
       "    <tr>\n",
       "      <th>1</th>\n",
       "      <td>Air India</td>\n",
       "      <td>1/05/2019</td>\n",
       "      <td>Kolkata</td>\n",
       "      <td>Banglore</td>\n",
       "      <td>CCU ? IXR ? BBI ? BLR</td>\n",
       "      <td>05:50</td>\n",
       "      <td>13:15</td>\n",
       "      <td>7h 25m</td>\n",
       "      <td>2 stops</td>\n",
       "      <td>No info</td>\n",
       "      <td>7662</td>\n",
       "    </tr>\n",
       "    <tr>\n",
       "      <th>2</th>\n",
       "      <td>Jet Airways</td>\n",
       "      <td>9/06/2019</td>\n",
       "      <td>Delhi</td>\n",
       "      <td>Cochin</td>\n",
       "      <td>DEL ? LKO ? BOM ? COK</td>\n",
       "      <td>09:25</td>\n",
       "      <td>04:25 10 Jun</td>\n",
       "      <td>19h</td>\n",
       "      <td>2 stops</td>\n",
       "      <td>No info</td>\n",
       "      <td>13882</td>\n",
       "    </tr>\n",
       "    <tr>\n",
       "      <th>3</th>\n",
       "      <td>IndiGo</td>\n",
       "      <td>12/05/2019</td>\n",
       "      <td>Kolkata</td>\n",
       "      <td>Banglore</td>\n",
       "      <td>CCU ? NAG ? BLR</td>\n",
       "      <td>18:05</td>\n",
       "      <td>23:30</td>\n",
       "      <td>5h 25m</td>\n",
       "      <td>1 stop</td>\n",
       "      <td>No info</td>\n",
       "      <td>6218</td>\n",
       "    </tr>\n",
       "    <tr>\n",
       "      <th>4</th>\n",
       "      <td>IndiGo</td>\n",
       "      <td>01/03/2019</td>\n",
       "      <td>Banglore</td>\n",
       "      <td>New Delhi</td>\n",
       "      <td>BLR ? NAG ? DEL</td>\n",
       "      <td>16:50</td>\n",
       "      <td>21:35</td>\n",
       "      <td>4h 45m</td>\n",
       "      <td>1 stop</td>\n",
       "      <td>No info</td>\n",
       "      <td>13302</td>\n",
       "    </tr>\n",
       "  </tbody>\n",
       "</table>\n",
       "</div>"
      ],
      "text/plain": [
       "       Airline Date_of_Journey    Source Destination                  Route  \\\n",
       "0       IndiGo      24/03/2019  Banglore   New Delhi              BLR ? DEL   \n",
       "1    Air India       1/05/2019   Kolkata    Banglore  CCU ? IXR ? BBI ? BLR   \n",
       "2  Jet Airways       9/06/2019     Delhi      Cochin  DEL ? LKO ? BOM ? COK   \n",
       "3       IndiGo      12/05/2019   Kolkata    Banglore        CCU ? NAG ? BLR   \n",
       "4       IndiGo      01/03/2019  Banglore   New Delhi        BLR ? NAG ? DEL   \n",
       "\n",
       "  Dep_Time  Arrival_Time Duration Total_Stops Additional_Info  Price  \n",
       "0    22:20  01:10 22 Mar   2h 50m    non-stop         No info   3897  \n",
       "1    05:50         13:15   7h 25m     2 stops         No info   7662  \n",
       "2    09:25  04:25 10 Jun      19h     2 stops         No info  13882  \n",
       "3    18:05         23:30   5h 25m      1 stop         No info   6218  \n",
       "4    16:50         21:35   4h 45m      1 stop         No info  13302  "
      ]
     },
     "execution_count": 103,
     "metadata": {},
     "output_type": "execute_result"
    }
   ],
   "source": [
    "# Dropping duplicate values ,rows\n",
    "\n",
    "df_test.drop_duplicates(keep='first',inplace=True)\n",
    "df_train.head()"
   ]
  },
  {
   "cell_type": "code",
   "execution_count": 104,
   "id": "019145d4",
   "metadata": {},
   "outputs": [
    {
     "data": {
      "text/plain": [
       "0        [6, 06, 2019]\n",
       "1       [12, 05, 2019]\n",
       "2       [21, 05, 2019]\n",
       "3       [21, 05, 2019]\n",
       "4       [24, 06, 2019]\n",
       "             ...      \n",
       "2666     [6, 06, 2019]\n",
       "2667    [27, 03, 2019]\n",
       "2668     [6, 03, 2019]\n",
       "2669     [6, 03, 2019]\n",
       "2670    [15, 06, 2019]\n",
       "Name: Date_of_Journey, Length: 2645, dtype: object"
      ]
     },
     "execution_count": 104,
     "metadata": {},
     "output_type": "execute_result"
    }
   ],
   "source": [
    "# Splitting the Date_of_Journey column to extract the ‘Date’, ‘Month’ and ‘Year’ values, and \n",
    "# store them in new columns in our dataframe\n",
    "\n",
    "df_test['Date_of_Journey']=df_test['Date_of_Journey'].str.split('/')\n",
    "df_test['Date_of_Journey']"
   ]
  },
  {
   "cell_type": "code",
   "execution_count": 105,
   "id": "e74049b7",
   "metadata": {},
   "outputs": [],
   "source": [
    "df_test['Date']=df_test['Date_of_Journey'].str[0]\n",
    "df_test['Month']=df_test['Date_of_Journey'].str[1]\n",
    "df_test['Year']=df_test['Date_of_Journey'].str[2]"
   ]
  },
  {
   "cell_type": "code",
   "execution_count": 106,
   "id": "bb8dbda5",
   "metadata": {},
   "outputs": [
    {
     "data": {
      "text/plain": [
       "0       [DEL ,  BOM ,  COK]\n",
       "1       [CCU ,  MAA ,  BLR]\n",
       "2       [DEL ,  BOM ,  COK]\n",
       "3       [DEL ,  BOM ,  COK]\n",
       "4              [BLR ,  DEL]\n",
       "               ...         \n",
       "2666    [CCU ,  DEL ,  BLR]\n",
       "2667           [CCU ,  BLR]\n",
       "2668    [DEL ,  BOM ,  COK]\n",
       "2669    [DEL ,  BOM ,  COK]\n",
       "2670    [DEL ,  BOM ,  COK]\n",
       "Name: Route, Length: 2645, dtype: object"
      ]
     },
     "execution_count": 106,
     "metadata": {},
     "output_type": "execute_result"
    }
   ],
   "source": [
    "# Splitting the route column and storing extracted city names in different columns\n",
    "\n",
    "df_test['Route']=df_test['Route'].str.split('?')\n",
    "df_test['Route']\n"
   ]
  },
  {
   "cell_type": "code",
   "execution_count": 107,
   "id": "fc4f054a",
   "metadata": {},
   "outputs": [],
   "source": [
    "df_test['City_1']=df_test['Route'].str[0]\n",
    "df_test['City_2']=df_test['Route'].str[1]\n",
    "df_test['City_3']=df_test['Route'].str[2]\n",
    "df_test['City_4']=df_test['Route'].str[3]"
   ]
  },
  {
   "cell_type": "code",
   "execution_count": 108,
   "id": "a1c1ee1a",
   "metadata": {},
   "outputs": [
    {
     "data": {
      "text/html": [
       "<div>\n",
       "<style scoped>\n",
       "    .dataframe tbody tr th:only-of-type {\n",
       "        vertical-align: middle;\n",
       "    }\n",
       "\n",
       "    .dataframe tbody tr th {\n",
       "        vertical-align: top;\n",
       "    }\n",
       "\n",
       "    .dataframe thead th {\n",
       "        text-align: right;\n",
       "    }\n",
       "</style>\n",
       "<table border=\"1\" class=\"dataframe\">\n",
       "  <thead>\n",
       "    <tr style=\"text-align: right;\">\n",
       "      <th></th>\n",
       "      <th>Airline</th>\n",
       "      <th>Date_of_Journey</th>\n",
       "      <th>Source</th>\n",
       "      <th>Destination</th>\n",
       "      <th>Route</th>\n",
       "      <th>Dep_Time</th>\n",
       "      <th>Arrival_Time</th>\n",
       "      <th>Duration</th>\n",
       "      <th>Total_Stops</th>\n",
       "      <th>Additional_Info</th>\n",
       "      <th>Date</th>\n",
       "      <th>Month</th>\n",
       "      <th>Year</th>\n",
       "      <th>City_1</th>\n",
       "      <th>City_2</th>\n",
       "      <th>City_3</th>\n",
       "      <th>City_4</th>\n",
       "    </tr>\n",
       "  </thead>\n",
       "  <tbody>\n",
       "    <tr>\n",
       "      <th>0</th>\n",
       "      <td>Jet Airways</td>\n",
       "      <td>[6, 06, 2019]</td>\n",
       "      <td>Delhi</td>\n",
       "      <td>Cochin</td>\n",
       "      <td>[DEL ,  BOM ,  COK]</td>\n",
       "      <td>17:30</td>\n",
       "      <td>04:25 07 Jun</td>\n",
       "      <td>10h 55m</td>\n",
       "      <td>1 stop</td>\n",
       "      <td>No info</td>\n",
       "      <td>6</td>\n",
       "      <td>06</td>\n",
       "      <td>2019</td>\n",
       "      <td>DEL</td>\n",
       "      <td>BOM</td>\n",
       "      <td>COK</td>\n",
       "      <td>NaN</td>\n",
       "    </tr>\n",
       "    <tr>\n",
       "      <th>1</th>\n",
       "      <td>IndiGo</td>\n",
       "      <td>[12, 05, 2019]</td>\n",
       "      <td>Kolkata</td>\n",
       "      <td>Banglore</td>\n",
       "      <td>[CCU ,  MAA ,  BLR]</td>\n",
       "      <td>06:20</td>\n",
       "      <td>10:20</td>\n",
       "      <td>4h</td>\n",
       "      <td>1 stop</td>\n",
       "      <td>No info</td>\n",
       "      <td>12</td>\n",
       "      <td>05</td>\n",
       "      <td>2019</td>\n",
       "      <td>CCU</td>\n",
       "      <td>MAA</td>\n",
       "      <td>BLR</td>\n",
       "      <td>NaN</td>\n",
       "    </tr>\n",
       "    <tr>\n",
       "      <th>2</th>\n",
       "      <td>Jet Airways</td>\n",
       "      <td>[21, 05, 2019]</td>\n",
       "      <td>Delhi</td>\n",
       "      <td>Cochin</td>\n",
       "      <td>[DEL ,  BOM ,  COK]</td>\n",
       "      <td>19:15</td>\n",
       "      <td>19:00 22 May</td>\n",
       "      <td>23h 45m</td>\n",
       "      <td>1 stop</td>\n",
       "      <td>In-flight meal not included</td>\n",
       "      <td>21</td>\n",
       "      <td>05</td>\n",
       "      <td>2019</td>\n",
       "      <td>DEL</td>\n",
       "      <td>BOM</td>\n",
       "      <td>COK</td>\n",
       "      <td>NaN</td>\n",
       "    </tr>\n",
       "    <tr>\n",
       "      <th>3</th>\n",
       "      <td>Multiple carriers</td>\n",
       "      <td>[21, 05, 2019]</td>\n",
       "      <td>Delhi</td>\n",
       "      <td>Cochin</td>\n",
       "      <td>[DEL ,  BOM ,  COK]</td>\n",
       "      <td>08:00</td>\n",
       "      <td>21:00</td>\n",
       "      <td>13h</td>\n",
       "      <td>1 stop</td>\n",
       "      <td>No info</td>\n",
       "      <td>21</td>\n",
       "      <td>05</td>\n",
       "      <td>2019</td>\n",
       "      <td>DEL</td>\n",
       "      <td>BOM</td>\n",
       "      <td>COK</td>\n",
       "      <td>NaN</td>\n",
       "    </tr>\n",
       "    <tr>\n",
       "      <th>4</th>\n",
       "      <td>Air Asia</td>\n",
       "      <td>[24, 06, 2019]</td>\n",
       "      <td>Banglore</td>\n",
       "      <td>Delhi</td>\n",
       "      <td>[BLR ,  DEL]</td>\n",
       "      <td>23:55</td>\n",
       "      <td>02:45 25 Jun</td>\n",
       "      <td>2h 50m</td>\n",
       "      <td>non-stop</td>\n",
       "      <td>No info</td>\n",
       "      <td>24</td>\n",
       "      <td>06</td>\n",
       "      <td>2019</td>\n",
       "      <td>BLR</td>\n",
       "      <td>DEL</td>\n",
       "      <td>NaN</td>\n",
       "      <td>NaN</td>\n",
       "    </tr>\n",
       "  </tbody>\n",
       "</table>\n",
       "</div>"
      ],
      "text/plain": [
       "             Airline Date_of_Journey    Source Destination  \\\n",
       "0        Jet Airways   [6, 06, 2019]     Delhi      Cochin   \n",
       "1             IndiGo  [12, 05, 2019]   Kolkata    Banglore   \n",
       "2        Jet Airways  [21, 05, 2019]     Delhi      Cochin   \n",
       "3  Multiple carriers  [21, 05, 2019]     Delhi      Cochin   \n",
       "4           Air Asia  [24, 06, 2019]  Banglore       Delhi   \n",
       "\n",
       "                 Route Dep_Time  Arrival_Time Duration Total_Stops  \\\n",
       "0  [DEL ,  BOM ,  COK]    17:30  04:25 07 Jun  10h 55m      1 stop   \n",
       "1  [CCU ,  MAA ,  BLR]    06:20         10:20       4h      1 stop   \n",
       "2  [DEL ,  BOM ,  COK]    19:15  19:00 22 May  23h 45m      1 stop   \n",
       "3  [DEL ,  BOM ,  COK]    08:00         21:00      13h      1 stop   \n",
       "4         [BLR ,  DEL]    23:55  02:45 25 Jun   2h 50m    non-stop   \n",
       "\n",
       "               Additional_Info Date Month  Year City_1 City_2 City_3 City_4  \n",
       "0                      No info    6    06  2019   DEL    BOM     COK    NaN  \n",
       "1                      No info   12    05  2019   CCU    MAA     BLR    NaN  \n",
       "2  In-flight meal not included   21    05  2019   DEL    BOM     COK    NaN  \n",
       "3                      No info   21    05  2019   DEL    BOM     COK    NaN  \n",
       "4                      No info   24    06  2019   BLR     DEL    NaN    NaN  "
      ]
     },
     "execution_count": 108,
     "metadata": {},
     "output_type": "execute_result"
    }
   ],
   "source": [
    "df_test.head()"
   ]
  },
  {
   "cell_type": "code",
   "execution_count": 109,
   "id": "761f7c6f",
   "metadata": {},
   "outputs": [
    {
     "data": {
      "text/plain": [
       "0       [17, 30]\n",
       "1       [06, 20]\n",
       "2       [19, 15]\n",
       "3       [08, 00]\n",
       "4       [23, 55]\n",
       "          ...   \n",
       "2666    [20, 30]\n",
       "2667    [14, 20]\n",
       "2668    [21, 50]\n",
       "2669    [04, 00]\n",
       "2670    [04, 55]\n",
       "Name: Dep_Time, Length: 2645, dtype: object"
      ]
     },
     "execution_count": 109,
     "metadata": {},
     "output_type": "execute_result"
    }
   ],
   "source": [
    "# Splitting Departure Time in hours and minutes\n",
    "\n",
    "df_test['Dep_Time']=df_test['Dep_Time'].str.split(':')\n",
    "df_test['Dep_Time']\n"
   ]
  },
  {
   "cell_type": "code",
   "execution_count": 110,
   "id": "e4e24feb",
   "metadata": {},
   "outputs": [],
   "source": [
    "df_test['Dep_Time_Hour']=df_test['Dep_Time'].str[0]\n",
    "df_test['Dep_Time_Min']=df_test['Dep_Time'].str[1]\n"
   ]
  },
  {
   "cell_type": "code",
   "execution_count": 111,
   "id": "f630bedd",
   "metadata": {},
   "outputs": [],
   "source": [
    "\n",
    "# Splitting Arrival Time variable\n",
    "\n",
    "df_test['Arrival_Time']=df_test['Arrival_Time'].str.split(' ')\n",
    "df_test['Arrival_Dt']=df_test['Arrival_Time'].str[1]\n",
    "\n"
   ]
  },
  {
   "cell_type": "code",
   "execution_count": 112,
   "id": "3a959f6b",
   "metadata": {},
   "outputs": [],
   "source": [
    "df_test['Time_of_Arrival']=df_test['Arrival_Time'].str[0]\n",
    "df_test['Time_of_Arrival']=df_test['Time_of_Arrival'].str.split(':')\n",
    "df_test['Arrival_Time_Hours']=df_test['Time_of_Arrival'].str[0]\n",
    "df_test['Arrival_Time_Min']=df_test['Time_of_Arrival'].str[1]"
   ]
  },
  {
   "cell_type": "code",
   "execution_count": 113,
   "id": "abd3b124",
   "metadata": {},
   "outputs": [],
   "source": [
    "# Splitting Duration variable\n",
    "\n",
    "df_test['Duration']=df_test['Duration'].str.split(' ')\n",
    "df_test['Duration_hours']=df_test['Duration'].str[0] # extracting hours from duration\n",
    "df_test['Duration_hours']=df_test['Duration_hours'].str.split('h')\n",
    "df_test['Duration_hours']=df_test['Duration_hours'].str[0]\n"
   ]
  },
  {
   "cell_type": "code",
   "execution_count": 114,
   "id": "46216332",
   "metadata": {},
   "outputs": [],
   "source": [
    "df_test['Duration_min']=df_test['Duration'].str[1] # extracting minutes from duration\n",
    "df_test['Duration_min']=df_test['Duration_min'].str.split('m')\n",
    "df_test['Duration_min']=df_test['Duration_min'].str[0]\n"
   ]
  },
  {
   "cell_type": "code",
   "execution_count": 115,
   "id": "1def2407",
   "metadata": {},
   "outputs": [],
   "source": [
    "# Exploring Total_Stops column \n",
    "\n",
    "df_test['Total_Stops'].replace('non-stop','0',inplace=True) # replacing non-stop flights with 0 value\n",
    "df_test['Total_Stops']=df_test['Total_Stops'].str.split(' ') # splitting Total_Stops \n",
    "df_test['Total_Stops']=df_test['Total_Stops'].str[0] # extracting the integer part of the ‘Total_Stops’ column\n"
   ]
  },
  {
   "cell_type": "code",
   "execution_count": 116,
   "id": "9ebb873c",
   "metadata": {},
   "outputs": [
    {
     "data": {
      "text/plain": [
       "array(['No info', 'In-flight meal not included',\n",
       "       'No check-in baggage included', '1 Long layover', 'Business class',\n",
       "       'Change airports'], dtype=object)"
      ]
     },
     "execution_count": 116,
     "metadata": {},
     "output_type": "execute_result"
    }
   ],
   "source": [
    "\n",
    "# Exploring Additional_Info column \n",
    "\n",
    "df_test['Additional_Info'].unique()\n"
   ]
  },
  {
   "cell_type": "code",
   "execution_count": 117,
   "id": "f1f6c335",
   "metadata": {},
   "outputs": [],
   "source": [
    "df_test['Additional_Info'].replace('No Info','No info',inplace=True)"
   ]
  },
  {
   "cell_type": "code",
   "execution_count": 118,
   "id": "f84c173b",
   "metadata": {},
   "outputs": [],
   "source": [
    "# Dropping unnecessary columns\n",
    "\n",
    "col=['Date_of_Journey','Route','Dep_Time','Arrival_Time','Duration','Time_of_Arrival']\n",
    "df_test.drop(col,axis=1,inplace=True)\n"
   ]
  },
  {
   "cell_type": "code",
   "execution_count": 119,
   "id": "7a0c645f",
   "metadata": {},
   "outputs": [
    {
     "data": {
      "text/html": [
       "<div>\n",
       "<style scoped>\n",
       "    .dataframe tbody tr th:only-of-type {\n",
       "        vertical-align: middle;\n",
       "    }\n",
       "\n",
       "    .dataframe tbody tr th {\n",
       "        vertical-align: top;\n",
       "    }\n",
       "\n",
       "    .dataframe thead th {\n",
       "        text-align: right;\n",
       "    }\n",
       "</style>\n",
       "<table border=\"1\" class=\"dataframe\">\n",
       "  <thead>\n",
       "    <tr style=\"text-align: right;\">\n",
       "      <th></th>\n",
       "      <th>Airline</th>\n",
       "      <th>Source</th>\n",
       "      <th>Destination</th>\n",
       "      <th>Total_Stops</th>\n",
       "      <th>Additional_Info</th>\n",
       "      <th>Date</th>\n",
       "      <th>Month</th>\n",
       "      <th>Year</th>\n",
       "      <th>City_1</th>\n",
       "      <th>City_2</th>\n",
       "      <th>City_3</th>\n",
       "      <th>City_4</th>\n",
       "      <th>Dep_Time_Hour</th>\n",
       "      <th>Dep_Time_Min</th>\n",
       "      <th>Arrival_Dt</th>\n",
       "      <th>Arrival_Time_Hours</th>\n",
       "      <th>Arrival_Time_Min</th>\n",
       "      <th>Duration_hours</th>\n",
       "      <th>Duration_min</th>\n",
       "    </tr>\n",
       "  </thead>\n",
       "  <tbody>\n",
       "    <tr>\n",
       "      <th>0</th>\n",
       "      <td>Jet Airways</td>\n",
       "      <td>Delhi</td>\n",
       "      <td>Cochin</td>\n",
       "      <td>1</td>\n",
       "      <td>No info</td>\n",
       "      <td>6</td>\n",
       "      <td>06</td>\n",
       "      <td>2019</td>\n",
       "      <td>DEL</td>\n",
       "      <td>BOM</td>\n",
       "      <td>COK</td>\n",
       "      <td>NaN</td>\n",
       "      <td>17</td>\n",
       "      <td>30</td>\n",
       "      <td>07</td>\n",
       "      <td>04</td>\n",
       "      <td>25</td>\n",
       "      <td>10</td>\n",
       "      <td>55</td>\n",
       "    </tr>\n",
       "    <tr>\n",
       "      <th>1</th>\n",
       "      <td>IndiGo</td>\n",
       "      <td>Kolkata</td>\n",
       "      <td>Banglore</td>\n",
       "      <td>1</td>\n",
       "      <td>No info</td>\n",
       "      <td>12</td>\n",
       "      <td>05</td>\n",
       "      <td>2019</td>\n",
       "      <td>CCU</td>\n",
       "      <td>MAA</td>\n",
       "      <td>BLR</td>\n",
       "      <td>NaN</td>\n",
       "      <td>06</td>\n",
       "      <td>20</td>\n",
       "      <td>NaN</td>\n",
       "      <td>10</td>\n",
       "      <td>20</td>\n",
       "      <td>4</td>\n",
       "      <td>NaN</td>\n",
       "    </tr>\n",
       "    <tr>\n",
       "      <th>2</th>\n",
       "      <td>Jet Airways</td>\n",
       "      <td>Delhi</td>\n",
       "      <td>Cochin</td>\n",
       "      <td>1</td>\n",
       "      <td>In-flight meal not included</td>\n",
       "      <td>21</td>\n",
       "      <td>05</td>\n",
       "      <td>2019</td>\n",
       "      <td>DEL</td>\n",
       "      <td>BOM</td>\n",
       "      <td>COK</td>\n",
       "      <td>NaN</td>\n",
       "      <td>19</td>\n",
       "      <td>15</td>\n",
       "      <td>22</td>\n",
       "      <td>19</td>\n",
       "      <td>00</td>\n",
       "      <td>23</td>\n",
       "      <td>45</td>\n",
       "    </tr>\n",
       "    <tr>\n",
       "      <th>3</th>\n",
       "      <td>Multiple carriers</td>\n",
       "      <td>Delhi</td>\n",
       "      <td>Cochin</td>\n",
       "      <td>1</td>\n",
       "      <td>No info</td>\n",
       "      <td>21</td>\n",
       "      <td>05</td>\n",
       "      <td>2019</td>\n",
       "      <td>DEL</td>\n",
       "      <td>BOM</td>\n",
       "      <td>COK</td>\n",
       "      <td>NaN</td>\n",
       "      <td>08</td>\n",
       "      <td>00</td>\n",
       "      <td>NaN</td>\n",
       "      <td>21</td>\n",
       "      <td>00</td>\n",
       "      <td>13</td>\n",
       "      <td>NaN</td>\n",
       "    </tr>\n",
       "    <tr>\n",
       "      <th>4</th>\n",
       "      <td>Air Asia</td>\n",
       "      <td>Banglore</td>\n",
       "      <td>Delhi</td>\n",
       "      <td>0</td>\n",
       "      <td>No info</td>\n",
       "      <td>24</td>\n",
       "      <td>06</td>\n",
       "      <td>2019</td>\n",
       "      <td>BLR</td>\n",
       "      <td>DEL</td>\n",
       "      <td>NaN</td>\n",
       "      <td>NaN</td>\n",
       "      <td>23</td>\n",
       "      <td>55</td>\n",
       "      <td>25</td>\n",
       "      <td>02</td>\n",
       "      <td>45</td>\n",
       "      <td>2</td>\n",
       "      <td>50</td>\n",
       "    </tr>\n",
       "  </tbody>\n",
       "</table>\n",
       "</div>"
      ],
      "text/plain": [
       "             Airline    Source Destination Total_Stops  \\\n",
       "0        Jet Airways     Delhi      Cochin           1   \n",
       "1             IndiGo   Kolkata    Banglore           1   \n",
       "2        Jet Airways     Delhi      Cochin           1   \n",
       "3  Multiple carriers     Delhi      Cochin           1   \n",
       "4           Air Asia  Banglore       Delhi           0   \n",
       "\n",
       "               Additional_Info Date Month  Year City_1 City_2 City_3 City_4  \\\n",
       "0                      No info    6    06  2019   DEL    BOM     COK    NaN   \n",
       "1                      No info   12    05  2019   CCU    MAA     BLR    NaN   \n",
       "2  In-flight meal not included   21    05  2019   DEL    BOM     COK    NaN   \n",
       "3                      No info   21    05  2019   DEL    BOM     COK    NaN   \n",
       "4                      No info   24    06  2019   BLR     DEL    NaN    NaN   \n",
       "\n",
       "  Dep_Time_Hour Dep_Time_Min Arrival_Dt Arrival_Time_Hours Arrival_Time_Min  \\\n",
       "0            17           30         07                 04               25   \n",
       "1            06           20        NaN                 10               20   \n",
       "2            19           15         22                 19               00   \n",
       "3            08           00        NaN                 21               00   \n",
       "4            23           55         25                 02               45   \n",
       "\n",
       "  Duration_hours Duration_min  \n",
       "0             10           55  \n",
       "1              4          NaN  \n",
       "2             23           45  \n",
       "3             13          NaN  \n",
       "4              2           50  "
      ]
     },
     "execution_count": 119,
     "metadata": {},
     "output_type": "execute_result"
    }
   ],
   "source": [
    "df_test.head()"
   ]
  },
  {
   "cell_type": "code",
   "execution_count": 120,
   "id": "cafd8de8",
   "metadata": {},
   "outputs": [
    {
     "data": {
      "text/plain": [
       "Airline                  0\n",
       "Source                   0\n",
       "Destination              0\n",
       "Total_Stops              0\n",
       "Additional_Info          0\n",
       "Date                     0\n",
       "Month                    0\n",
       "Year                     0\n",
       "City_1                   0\n",
       "City_2                   0\n",
       "City_3                 846\n",
       "City_4                2273\n",
       "Dep_Time_Hour            0\n",
       "Dep_Time_Min             0\n",
       "Arrival_Dt            1597\n",
       "Arrival_Time_Hours       0\n",
       "Arrival_Time_Min         0\n",
       "Duration_hours           0\n",
       "Duration_min           252\n",
       "dtype: int64"
      ]
     },
     "execution_count": 120,
     "metadata": {},
     "output_type": "execute_result"
    }
   ],
   "source": [
    "df_test.isnull().sum()"
   ]
  },
  {
   "cell_type": "code",
   "execution_count": 121,
   "id": "f12d69b9",
   "metadata": {},
   "outputs": [],
   "source": [
    "# Filling the missing values\n",
    "\n",
    "# Clearly from above City_4 has maximum null values(9100 out of 10683),so we will be dropping City_4\n",
    "\n",
    "df_test.drop('City_4',inplace=True,axis=1)\n"
   ]
  },
  {
   "cell_type": "code",
   "execution_count": 122,
   "id": "d6828355",
   "metadata": {},
   "outputs": [],
   "source": [
    "# We need to  replace ‘NaN’ values in ‘City_3’ with ‘None’, \n",
    "#since rows where ‘City3’ is missing did not have any stop, just the source and the destination.\n",
    "\n",
    "df_test['City_3'].fillna('None',inplace=True)\n"
   ]
  },
  {
   "cell_type": "code",
   "execution_count": 123,
   "id": "35d47b41",
   "metadata": {},
   "outputs": [],
   "source": [
    "# Replacing missing values in ‘Arrival_date’ column with values in ‘Date’ column\n",
    "\n",
    "df_test['Arrival_Dt'].fillna(df_test['Date'],inplace=True)\n"
   ]
  },
  {
   "cell_type": "code",
   "execution_count": 124,
   "id": "3751573a",
   "metadata": {},
   "outputs": [],
   "source": [
    "# Replacing missing values in ‘Duration_min’ as 0, since the missing values is the duration time in hours not in min.\n",
    "\n",
    "df_test['Duration_min'].fillna(0,inplace=True)\n",
    "\n"
   ]
  },
  {
   "cell_type": "code",
   "execution_count": 125,
   "id": "0ef327ed",
   "metadata": {},
   "outputs": [],
   "source": [
    "# Changing datatype of numerical columns from object to int datatype\n",
    "\n",
    "df_test['Date']=df_test['Date'].astype('int64')\n",
    "df_test['Month']=df_test['Month'].astype('int64')\n",
    "df_test['Year']=df_test['Year'].astype('int64')\n",
    "df_test['Total_Stops']=df_test['Total_Stops'].astype('int64')\n",
    "df_test['Dep_Time_Hour']=df_test['Dep_Time_Hour'].astype('int64')\n",
    "df_test['Dep_Time_Min']=df_test['Dep_Time_Min'].astype('int64')\n",
    "df_test['Arrival_Dt']=df_test['Arrival_Dt'].astype('int64')\n",
    "df_test['Arrival_Time_Hours']=df_test['Arrival_Time_Hours'].astype('int64')\n",
    "df_test['Arrival_Time_Min']=df_test['Arrival_Time_Min'].astype('int64')\n",
    "df_test['Duration_min']=df_test['Duration_min'].astype('int64')\n"
   ]
  },
  {
   "cell_type": "code",
   "execution_count": 126,
   "id": "fa53c916",
   "metadata": {},
   "outputs": [
    {
     "data": {
      "text/html": [
       "<div>\n",
       "<style scoped>\n",
       "    .dataframe tbody tr th:only-of-type {\n",
       "        vertical-align: middle;\n",
       "    }\n",
       "\n",
       "    .dataframe tbody tr th {\n",
       "        vertical-align: top;\n",
       "    }\n",
       "\n",
       "    .dataframe thead th {\n",
       "        text-align: right;\n",
       "    }\n",
       "</style>\n",
       "<table border=\"1\" class=\"dataframe\">\n",
       "  <thead>\n",
       "    <tr style=\"text-align: right;\">\n",
       "      <th></th>\n",
       "      <th>Airline</th>\n",
       "      <th>Source</th>\n",
       "      <th>Destination</th>\n",
       "      <th>Total_Stops</th>\n",
       "      <th>Additional_Info</th>\n",
       "      <th>Date</th>\n",
       "      <th>Month</th>\n",
       "      <th>Year</th>\n",
       "      <th>City_1</th>\n",
       "      <th>City_2</th>\n",
       "      <th>City_3</th>\n",
       "      <th>Dep_Time_Hour</th>\n",
       "      <th>Dep_Time_Min</th>\n",
       "      <th>Arrival_Dt</th>\n",
       "      <th>Arrival_Time_Hours</th>\n",
       "      <th>Arrival_Time_Min</th>\n",
       "      <th>Duration_hours</th>\n",
       "      <th>Duration_min</th>\n",
       "    </tr>\n",
       "  </thead>\n",
       "  <tbody>\n",
       "    <tr>\n",
       "      <th>2660</th>\n",
       "      <td>Air India</td>\n",
       "      <td>Mumbai</td>\n",
       "      <td>Hyderabad</td>\n",
       "      <td>2</td>\n",
       "      <td>No info</td>\n",
       "      <td>12</td>\n",
       "      <td>3</td>\n",
       "      <td>2019</td>\n",
       "      <td>BOM</td>\n",
       "      <td>GOI</td>\n",
       "      <td>PNQ</td>\n",
       "      <td>16</td>\n",
       "      <td>50</td>\n",
       "      <td>12</td>\n",
       "      <td>16</td>\n",
       "      <td>55</td>\n",
       "      <td>5m</td>\n",
       "      <td>0</td>\n",
       "    </tr>\n",
       "  </tbody>\n",
       "</table>\n",
       "</div>"
      ],
      "text/plain": [
       "        Airline  Source Destination  Total_Stops Additional_Info  Date  Month  \\\n",
       "2660  Air India  Mumbai   Hyderabad            2         No info    12      3   \n",
       "\n",
       "      Year City_1 City_2 City_3  Dep_Time_Hour  Dep_Time_Min  Arrival_Dt  \\\n",
       "2660  2019   BOM    GOI    PNQ              16            50          12   \n",
       "\n",
       "      Arrival_Time_Hours  Arrival_Time_Min Duration_hours  Duration_min  \n",
       "2660                  16                55             5m             0  "
      ]
     },
     "execution_count": 126,
     "metadata": {},
     "output_type": "execute_result"
    }
   ],
   "source": [
    "# Finding the row having Duration_hours as 5m,as journey cannot be of 5m.So we need to drop the row\n",
    "\n",
    "df_test[df_test['Duration_hours']=='5m']\n"
   ]
  },
  {
   "cell_type": "code",
   "execution_count": 128,
   "id": "08a705bb",
   "metadata": {
    "collapsed": true
   },
   "outputs": [
    {
     "ename": "KeyError",
     "evalue": "'[2660] not found in axis'",
     "output_type": "error",
     "traceback": [
      "\u001b[1;31m---------------------------------------------------------------------------\u001b[0m",
      "\u001b[1;31mKeyError\u001b[0m                                  Traceback (most recent call last)",
      "\u001b[1;32m<ipython-input-128-e4f6f7bf125a>\u001b[0m in \u001b[0;36m<module>\u001b[1;34m\u001b[0m\n\u001b[0;32m      1\u001b[0m \u001b[1;31m# Dropping the row with index 2660 from dataset\u001b[0m\u001b[1;33m\u001b[0m\u001b[1;33m\u001b[0m\u001b[1;33m\u001b[0m\u001b[0m\n\u001b[0;32m      2\u001b[0m \u001b[1;33m\u001b[0m\u001b[0m\n\u001b[1;32m----> 3\u001b[1;33m \u001b[0mdf_test\u001b[0m\u001b[1;33m.\u001b[0m\u001b[0mdrop\u001b[0m\u001b[1;33m(\u001b[0m\u001b[0mindex\u001b[0m\u001b[1;33m=\u001b[0m\u001b[1;36m2660\u001b[0m\u001b[1;33m,\u001b[0m\u001b[0minplace\u001b[0m\u001b[1;33m=\u001b[0m\u001b[1;32mTrue\u001b[0m\u001b[1;33m,\u001b[0m\u001b[0maxis\u001b[0m\u001b[1;33m=\u001b[0m\u001b[1;36m0\u001b[0m\u001b[1;33m)\u001b[0m\u001b[1;33m\u001b[0m\u001b[1;33m\u001b[0m\u001b[0m\n\u001b[0m",
      "\u001b[1;32mC:\\ProgramData\\Anaconda3\\lib\\site-packages\\pandas\\core\\frame.py\u001b[0m in \u001b[0;36mdrop\u001b[1;34m(self, labels, axis, index, columns, level, inplace, errors)\u001b[0m\n\u001b[0;32m   4306\u001b[0m                 \u001b[0mweight\u001b[0m  \u001b[1;36m1.0\u001b[0m     \u001b[1;36m0.8\u001b[0m\u001b[1;33m\u001b[0m\u001b[1;33m\u001b[0m\u001b[0m\n\u001b[0;32m   4307\u001b[0m         \"\"\"\n\u001b[1;32m-> 4308\u001b[1;33m         return super().drop(\n\u001b[0m\u001b[0;32m   4309\u001b[0m             \u001b[0mlabels\u001b[0m\u001b[1;33m=\u001b[0m\u001b[0mlabels\u001b[0m\u001b[1;33m,\u001b[0m\u001b[1;33m\u001b[0m\u001b[1;33m\u001b[0m\u001b[0m\n\u001b[0;32m   4310\u001b[0m             \u001b[0maxis\u001b[0m\u001b[1;33m=\u001b[0m\u001b[0maxis\u001b[0m\u001b[1;33m,\u001b[0m\u001b[1;33m\u001b[0m\u001b[1;33m\u001b[0m\u001b[0m\n",
      "\u001b[1;32mC:\\ProgramData\\Anaconda3\\lib\\site-packages\\pandas\\core\\generic.py\u001b[0m in \u001b[0;36mdrop\u001b[1;34m(self, labels, axis, index, columns, level, inplace, errors)\u001b[0m\n\u001b[0;32m   4151\u001b[0m         \u001b[1;32mfor\u001b[0m \u001b[0maxis\u001b[0m\u001b[1;33m,\u001b[0m \u001b[0mlabels\u001b[0m \u001b[1;32min\u001b[0m \u001b[0maxes\u001b[0m\u001b[1;33m.\u001b[0m\u001b[0mitems\u001b[0m\u001b[1;33m(\u001b[0m\u001b[1;33m)\u001b[0m\u001b[1;33m:\u001b[0m\u001b[1;33m\u001b[0m\u001b[1;33m\u001b[0m\u001b[0m\n\u001b[0;32m   4152\u001b[0m             \u001b[1;32mif\u001b[0m \u001b[0mlabels\u001b[0m \u001b[1;32mis\u001b[0m \u001b[1;32mnot\u001b[0m \u001b[1;32mNone\u001b[0m\u001b[1;33m:\u001b[0m\u001b[1;33m\u001b[0m\u001b[1;33m\u001b[0m\u001b[0m\n\u001b[1;32m-> 4153\u001b[1;33m                 \u001b[0mobj\u001b[0m \u001b[1;33m=\u001b[0m \u001b[0mobj\u001b[0m\u001b[1;33m.\u001b[0m\u001b[0m_drop_axis\u001b[0m\u001b[1;33m(\u001b[0m\u001b[0mlabels\u001b[0m\u001b[1;33m,\u001b[0m \u001b[0maxis\u001b[0m\u001b[1;33m,\u001b[0m \u001b[0mlevel\u001b[0m\u001b[1;33m=\u001b[0m\u001b[0mlevel\u001b[0m\u001b[1;33m,\u001b[0m \u001b[0merrors\u001b[0m\u001b[1;33m=\u001b[0m\u001b[0merrors\u001b[0m\u001b[1;33m)\u001b[0m\u001b[1;33m\u001b[0m\u001b[1;33m\u001b[0m\u001b[0m\n\u001b[0m\u001b[0;32m   4154\u001b[0m \u001b[1;33m\u001b[0m\u001b[0m\n\u001b[0;32m   4155\u001b[0m         \u001b[1;32mif\u001b[0m \u001b[0minplace\u001b[0m\u001b[1;33m:\u001b[0m\u001b[1;33m\u001b[0m\u001b[1;33m\u001b[0m\u001b[0m\n",
      "\u001b[1;32mC:\\ProgramData\\Anaconda3\\lib\\site-packages\\pandas\\core\\generic.py\u001b[0m in \u001b[0;36m_drop_axis\u001b[1;34m(self, labels, axis, level, errors)\u001b[0m\n\u001b[0;32m   4186\u001b[0m                 \u001b[0mnew_axis\u001b[0m \u001b[1;33m=\u001b[0m \u001b[0maxis\u001b[0m\u001b[1;33m.\u001b[0m\u001b[0mdrop\u001b[0m\u001b[1;33m(\u001b[0m\u001b[0mlabels\u001b[0m\u001b[1;33m,\u001b[0m \u001b[0mlevel\u001b[0m\u001b[1;33m=\u001b[0m\u001b[0mlevel\u001b[0m\u001b[1;33m,\u001b[0m \u001b[0merrors\u001b[0m\u001b[1;33m=\u001b[0m\u001b[0merrors\u001b[0m\u001b[1;33m)\u001b[0m\u001b[1;33m\u001b[0m\u001b[1;33m\u001b[0m\u001b[0m\n\u001b[0;32m   4187\u001b[0m             \u001b[1;32melse\u001b[0m\u001b[1;33m:\u001b[0m\u001b[1;33m\u001b[0m\u001b[1;33m\u001b[0m\u001b[0m\n\u001b[1;32m-> 4188\u001b[1;33m                 \u001b[0mnew_axis\u001b[0m \u001b[1;33m=\u001b[0m \u001b[0maxis\u001b[0m\u001b[1;33m.\u001b[0m\u001b[0mdrop\u001b[0m\u001b[1;33m(\u001b[0m\u001b[0mlabels\u001b[0m\u001b[1;33m,\u001b[0m \u001b[0merrors\u001b[0m\u001b[1;33m=\u001b[0m\u001b[0merrors\u001b[0m\u001b[1;33m)\u001b[0m\u001b[1;33m\u001b[0m\u001b[1;33m\u001b[0m\u001b[0m\n\u001b[0m\u001b[0;32m   4189\u001b[0m             \u001b[0mresult\u001b[0m \u001b[1;33m=\u001b[0m \u001b[0mself\u001b[0m\u001b[1;33m.\u001b[0m\u001b[0mreindex\u001b[0m\u001b[1;33m(\u001b[0m\u001b[1;33m**\u001b[0m\u001b[1;33m{\u001b[0m\u001b[0maxis_name\u001b[0m\u001b[1;33m:\u001b[0m \u001b[0mnew_axis\u001b[0m\u001b[1;33m}\u001b[0m\u001b[1;33m)\u001b[0m\u001b[1;33m\u001b[0m\u001b[1;33m\u001b[0m\u001b[0m\n\u001b[0;32m   4190\u001b[0m \u001b[1;33m\u001b[0m\u001b[0m\n",
      "\u001b[1;32mC:\\ProgramData\\Anaconda3\\lib\\site-packages\\pandas\\core\\indexes\\base.py\u001b[0m in \u001b[0;36mdrop\u001b[1;34m(self, labels, errors)\u001b[0m\n\u001b[0;32m   5589\u001b[0m         \u001b[1;32mif\u001b[0m \u001b[0mmask\u001b[0m\u001b[1;33m.\u001b[0m\u001b[0many\u001b[0m\u001b[1;33m(\u001b[0m\u001b[1;33m)\u001b[0m\u001b[1;33m:\u001b[0m\u001b[1;33m\u001b[0m\u001b[1;33m\u001b[0m\u001b[0m\n\u001b[0;32m   5590\u001b[0m             \u001b[1;32mif\u001b[0m \u001b[0merrors\u001b[0m \u001b[1;33m!=\u001b[0m \u001b[1;34m\"ignore\"\u001b[0m\u001b[1;33m:\u001b[0m\u001b[1;33m\u001b[0m\u001b[1;33m\u001b[0m\u001b[0m\n\u001b[1;32m-> 5591\u001b[1;33m                 \u001b[1;32mraise\u001b[0m \u001b[0mKeyError\u001b[0m\u001b[1;33m(\u001b[0m\u001b[1;34mf\"{labels[mask]} not found in axis\"\u001b[0m\u001b[1;33m)\u001b[0m\u001b[1;33m\u001b[0m\u001b[1;33m\u001b[0m\u001b[0m\n\u001b[0m\u001b[0;32m   5592\u001b[0m             \u001b[0mindexer\u001b[0m \u001b[1;33m=\u001b[0m \u001b[0mindexer\u001b[0m\u001b[1;33m[\u001b[0m\u001b[1;33m~\u001b[0m\u001b[0mmask\u001b[0m\u001b[1;33m]\u001b[0m\u001b[1;33m\u001b[0m\u001b[1;33m\u001b[0m\u001b[0m\n\u001b[0;32m   5593\u001b[0m         \u001b[1;32mreturn\u001b[0m \u001b[0mself\u001b[0m\u001b[1;33m.\u001b[0m\u001b[0mdelete\u001b[0m\u001b[1;33m(\u001b[0m\u001b[0mindexer\u001b[0m\u001b[1;33m)\u001b[0m\u001b[1;33m\u001b[0m\u001b[1;33m\u001b[0m\u001b[0m\n",
      "\u001b[1;31mKeyError\u001b[0m: '[2660] not found in axis'"
     ]
    }
   ],
   "source": [
    "# Dropping the row with index 2660 from dataset\n",
    "\n",
    "df_test.drop(index=2660,inplace=True,axis=0)\n"
   ]
  },
  {
   "cell_type": "code",
   "execution_count": 129,
   "id": "146669b8",
   "metadata": {},
   "outputs": [],
   "source": [
    "# Changing datatype of Duration_hours column from object to int datatype\n",
    "\n",
    "df_test['Duration_hours']=df_test['Duration_hours'].astype('int64')\n"
   ]
  },
  {
   "cell_type": "code",
   "execution_count": 130,
   "id": "b9fbcece",
   "metadata": {},
   "outputs": [],
   "source": [
    "# Separating categorical and numerical columns for proper data visualization\n",
    "\n",
    "cat=['Airline','Source','Destination','City_1','City_2','City_3','Additional_Info']\n",
    "num=['Date','Month','Year','Dep_Time_Hour','Dep_Time_Min','Arrival_Dt','Arrival_Time_Hours','Arrival_Time_Min','Duration_hours','Duration_min','Price']\n"
   ]
  },
  {
   "cell_type": "code",
   "execution_count": 131,
   "id": "ef6a74bd",
   "metadata": {},
   "outputs": [
    {
     "data": {
      "text/plain": [
       "Arrival_Time_Hours   -0.446922\n",
       "Month                -0.401421\n",
       "Duration_min         -0.102778\n",
       "Year                  0.000000\n",
       "Dep_Time_Hour         0.089744\n",
       "Arrival_Time_Min      0.113221\n",
       "Dep_Time_Min          0.130667\n",
       "Date                  0.201375\n",
       "Arrival_Dt            0.202230\n",
       "Total_Stops           0.330189\n",
       "Duration_hours        0.901806\n",
       "dtype: float64"
      ]
     },
     "execution_count": 131,
     "metadata": {},
     "output_type": "execute_result"
    }
   ],
   "source": [
    "# checking skewness in dataset\n",
    "\n",
    "df_test.skew().sort_values()\n"
   ]
  },
  {
   "cell_type": "code",
   "execution_count": 132,
   "id": "9b70ff2b",
   "metadata": {},
   "outputs": [],
   "source": [
    "# Removing skewness from Duration_hours\n",
    "\n",
    "df_test['Duration_hours']=np.log(df_test['Duration_hours'])\n"
   ]
  },
  {
   "cell_type": "code",
   "execution_count": 133,
   "id": "2dd9ec1b",
   "metadata": {},
   "outputs": [
    {
     "data": {
      "text/plain": [
       "-0.2883369646199104"
      ]
     },
     "execution_count": 133,
     "metadata": {},
     "output_type": "execute_result"
    }
   ],
   "source": [
    "df_test['Duration_hours'].skew()"
   ]
  },
  {
   "cell_type": "code",
   "execution_count": 134,
   "id": "42dee007",
   "metadata": {},
   "outputs": [
    {
     "name": "stdout",
     "output_type": "stream",
     "text": [
      "<class 'pandas.core.frame.DataFrame'>\n",
      "Int64Index: 2644 entries, 0 to 2670\n",
      "Data columns (total 18 columns):\n",
      " #   Column              Non-Null Count  Dtype  \n",
      "---  ------              --------------  -----  \n",
      " 0   Airline             2644 non-null   object \n",
      " 1   Source              2644 non-null   object \n",
      " 2   Destination         2644 non-null   object \n",
      " 3   Total_Stops         2644 non-null   int64  \n",
      " 4   Additional_Info     2644 non-null   object \n",
      " 5   Date                2644 non-null   int64  \n",
      " 6   Month               2644 non-null   int64  \n",
      " 7   Year                2644 non-null   int64  \n",
      " 8   City_1              2644 non-null   object \n",
      " 9   City_2              2644 non-null   object \n",
      " 10  City_3              2644 non-null   object \n",
      " 11  Dep_Time_Hour       2644 non-null   int64  \n",
      " 12  Dep_Time_Min        2644 non-null   int64  \n",
      " 13  Arrival_Dt          2644 non-null   int64  \n",
      " 14  Arrival_Time_Hours  2644 non-null   int64  \n",
      " 15  Arrival_Time_Min    2644 non-null   int64  \n",
      " 16  Duration_hours      2644 non-null   float64\n",
      " 17  Duration_min        2644 non-null   int64  \n",
      "dtypes: float64(1), int64(10), object(7)\n",
      "memory usage: 457.0+ KB\n"
     ]
    }
   ],
   "source": [
    "df_test.info()"
   ]
  },
  {
   "cell_type": "code",
   "execution_count": 135,
   "id": "4d5060f8",
   "metadata": {},
   "outputs": [],
   "source": [
    "# Changing datatype of Duration_hours column from float to int datatype\n",
    "\n",
    "df_test['Duration_hours']=df_test['Duration_hours'].astype('int64')\n"
   ]
  },
  {
   "cell_type": "code",
   "execution_count": 136,
   "id": "c0a11eac",
   "metadata": {},
   "outputs": [],
   "source": [
    "# converting categorical features into numerics\n",
    "\n",
    "le=LabelEncoder()\n",
    "\n",
    "for i in cat:\n",
    "    df_test[i]=le.fit_transform(df_test[i])\n"
   ]
  },
  {
   "cell_type": "code",
   "execution_count": 138,
   "id": "026743c1",
   "metadata": {},
   "outputs": [],
   "source": [
    "\n",
    "# Scaling the dataset and normalizing feature variables\n",
    "\n",
    "from sklearn.preprocessing import StandardScaler \n",
    "\n",
    "scale = StandardScaler()\n",
    "df_test= scale.fit_transform(df_test)\n"
   ]
  },
  {
   "cell_type": "code",
   "execution_count": 140,
   "id": "34c79be4",
   "metadata": {},
   "outputs": [],
   "source": [
    "# Predicting prices for test dataset through HyperParameter tuned model\n",
    "\n",
    "\n",
    "Prices=search.predict(df_test)"
   ]
  },
  {
   "cell_type": "code",
   "execution_count": 145,
   "id": "0c6e8cde",
   "metadata": {},
   "outputs": [],
   "source": [
    "# Storing predicted prices in dataframe\n",
    "\n",
    "Price_test=pd.DataFrame({'Prices':Prices})"
   ]
  },
  {
   "cell_type": "code",
   "execution_count": 146,
   "id": "6e5da885",
   "metadata": {},
   "outputs": [
    {
     "data": {
      "text/html": [
       "<div>\n",
       "<style scoped>\n",
       "    .dataframe tbody tr th:only-of-type {\n",
       "        vertical-align: middle;\n",
       "    }\n",
       "\n",
       "    .dataframe tbody tr th {\n",
       "        vertical-align: top;\n",
       "    }\n",
       "\n",
       "    .dataframe thead th {\n",
       "        text-align: right;\n",
       "    }\n",
       "</style>\n",
       "<table border=\"1\" class=\"dataframe\">\n",
       "  <thead>\n",
       "    <tr style=\"text-align: right;\">\n",
       "      <th></th>\n",
       "      <th>Prices</th>\n",
       "    </tr>\n",
       "  </thead>\n",
       "  <tbody>\n",
       "    <tr>\n",
       "      <th>0</th>\n",
       "      <td>14040.955915</td>\n",
       "    </tr>\n",
       "    <tr>\n",
       "      <th>1</th>\n",
       "      <td>5218.686273</td>\n",
       "    </tr>\n",
       "    <tr>\n",
       "      <th>2</th>\n",
       "      <td>11768.462129</td>\n",
       "    </tr>\n",
       "    <tr>\n",
       "      <th>3</th>\n",
       "      <td>10747.207613</td>\n",
       "    </tr>\n",
       "    <tr>\n",
       "      <th>4</th>\n",
       "      <td>4388.776188</td>\n",
       "    </tr>\n",
       "    <tr>\n",
       "      <th>...</th>\n",
       "      <td>...</td>\n",
       "    </tr>\n",
       "    <tr>\n",
       "      <th>2639</th>\n",
       "      <td>8172.555608</td>\n",
       "    </tr>\n",
       "    <tr>\n",
       "      <th>2640</th>\n",
       "      <td>4694.847666</td>\n",
       "    </tr>\n",
       "    <tr>\n",
       "      <th>2641</th>\n",
       "      <td>17123.214657</td>\n",
       "    </tr>\n",
       "    <tr>\n",
       "      <th>2642</th>\n",
       "      <td>14348.701406</td>\n",
       "    </tr>\n",
       "    <tr>\n",
       "      <th>2643</th>\n",
       "      <td>9539.267646</td>\n",
       "    </tr>\n",
       "  </tbody>\n",
       "</table>\n",
       "<p>2644 rows × 1 columns</p>\n",
       "</div>"
      ],
      "text/plain": [
       "            Prices\n",
       "0     14040.955915\n",
       "1      5218.686273\n",
       "2     11768.462129\n",
       "3     10747.207613\n",
       "4      4388.776188\n",
       "...            ...\n",
       "2639   8172.555608\n",
       "2640   4694.847666\n",
       "2641  17123.214657\n",
       "2642  14348.701406\n",
       "2643   9539.267646\n",
       "\n",
       "[2644 rows x 1 columns]"
      ]
     },
     "execution_count": 146,
     "metadata": {},
     "output_type": "execute_result"
    }
   ],
   "source": [
    "# Printing Dataframe\n",
    "\n",
    "Price_test"
   ]
  },
  {
   "cell_type": "code",
   "execution_count": null,
   "id": "443df1fe",
   "metadata": {},
   "outputs": [],
   "source": []
  }
 ],
 "metadata": {
  "kernelspec": {
   "display_name": "Python 3",
   "language": "python",
   "name": "python3"
  },
  "language_info": {
   "codemirror_mode": {
    "name": "ipython",
    "version": 3
   },
   "file_extension": ".py",
   "mimetype": "text/x-python",
   "name": "python",
   "nbconvert_exporter": "python",
   "pygments_lexer": "ipython3",
   "version": "3.8.8"
  }
 },
 "nbformat": 4,
 "nbformat_minor": 5
}
