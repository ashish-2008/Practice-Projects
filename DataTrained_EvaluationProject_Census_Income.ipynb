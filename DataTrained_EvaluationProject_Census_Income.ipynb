{
 "cells": [
  {
   "cell_type": "code",
   "execution_count": 1,
   "id": "b10f1d39",
   "metadata": {},
   "outputs": [
    {
     "data": {
      "text/html": [
       "<div>\n",
       "<style scoped>\n",
       "    .dataframe tbody tr th:only-of-type {\n",
       "        vertical-align: middle;\n",
       "    }\n",
       "\n",
       "    .dataframe tbody tr th {\n",
       "        vertical-align: top;\n",
       "    }\n",
       "\n",
       "    .dataframe thead th {\n",
       "        text-align: right;\n",
       "    }\n",
       "</style>\n",
       "<table border=\"1\" class=\"dataframe\">\n",
       "  <thead>\n",
       "    <tr style=\"text-align: right;\">\n",
       "      <th></th>\n",
       "      <th>Age</th>\n",
       "      <th>Workclass</th>\n",
       "      <th>Fnlwgt</th>\n",
       "      <th>Education</th>\n",
       "      <th>Education_num</th>\n",
       "      <th>Marital_status</th>\n",
       "      <th>Occupation</th>\n",
       "      <th>Relationship</th>\n",
       "      <th>Race</th>\n",
       "      <th>Sex</th>\n",
       "      <th>Capital_gain</th>\n",
       "      <th>Capital_loss</th>\n",
       "      <th>Hours_per_week</th>\n",
       "      <th>Native_country</th>\n",
       "      <th>Income</th>\n",
       "    </tr>\n",
       "  </thead>\n",
       "  <tbody>\n",
       "    <tr>\n",
       "      <th>0</th>\n",
       "      <td>50</td>\n",
       "      <td>Self-emp-not-inc</td>\n",
       "      <td>83311</td>\n",
       "      <td>Bachelors</td>\n",
       "      <td>13</td>\n",
       "      <td>Married-civ-spouse</td>\n",
       "      <td>Exec-managerial</td>\n",
       "      <td>Husband</td>\n",
       "      <td>White</td>\n",
       "      <td>Male</td>\n",
       "      <td>0</td>\n",
       "      <td>0</td>\n",
       "      <td>13</td>\n",
       "      <td>United-States</td>\n",
       "      <td>&lt;=50K</td>\n",
       "    </tr>\n",
       "    <tr>\n",
       "      <th>1</th>\n",
       "      <td>38</td>\n",
       "      <td>Private</td>\n",
       "      <td>215646</td>\n",
       "      <td>HS-grad</td>\n",
       "      <td>9</td>\n",
       "      <td>Divorced</td>\n",
       "      <td>Handlers-cleaners</td>\n",
       "      <td>Not-in-family</td>\n",
       "      <td>White</td>\n",
       "      <td>Male</td>\n",
       "      <td>0</td>\n",
       "      <td>0</td>\n",
       "      <td>40</td>\n",
       "      <td>United-States</td>\n",
       "      <td>&lt;=50K</td>\n",
       "    </tr>\n",
       "    <tr>\n",
       "      <th>2</th>\n",
       "      <td>53</td>\n",
       "      <td>Private</td>\n",
       "      <td>234721</td>\n",
       "      <td>11th</td>\n",
       "      <td>7</td>\n",
       "      <td>Married-civ-spouse</td>\n",
       "      <td>Handlers-cleaners</td>\n",
       "      <td>Husband</td>\n",
       "      <td>Black</td>\n",
       "      <td>Male</td>\n",
       "      <td>0</td>\n",
       "      <td>0</td>\n",
       "      <td>40</td>\n",
       "      <td>United-States</td>\n",
       "      <td>&lt;=50K</td>\n",
       "    </tr>\n",
       "    <tr>\n",
       "      <th>3</th>\n",
       "      <td>28</td>\n",
       "      <td>Private</td>\n",
       "      <td>338409</td>\n",
       "      <td>Bachelors</td>\n",
       "      <td>13</td>\n",
       "      <td>Married-civ-spouse</td>\n",
       "      <td>Prof-specialty</td>\n",
       "      <td>Wife</td>\n",
       "      <td>Black</td>\n",
       "      <td>Female</td>\n",
       "      <td>0</td>\n",
       "      <td>0</td>\n",
       "      <td>40</td>\n",
       "      <td>Cuba</td>\n",
       "      <td>&lt;=50K</td>\n",
       "    </tr>\n",
       "    <tr>\n",
       "      <th>4</th>\n",
       "      <td>37</td>\n",
       "      <td>Private</td>\n",
       "      <td>284582</td>\n",
       "      <td>Masters</td>\n",
       "      <td>14</td>\n",
       "      <td>Married-civ-spouse</td>\n",
       "      <td>Exec-managerial</td>\n",
       "      <td>Wife</td>\n",
       "      <td>White</td>\n",
       "      <td>Female</td>\n",
       "      <td>0</td>\n",
       "      <td>0</td>\n",
       "      <td>40</td>\n",
       "      <td>United-States</td>\n",
       "      <td>&lt;=50K</td>\n",
       "    </tr>\n",
       "  </tbody>\n",
       "</table>\n",
       "</div>"
      ],
      "text/plain": [
       "   Age          Workclass  Fnlwgt   Education  Education_num  \\\n",
       "0   50   Self-emp-not-inc   83311   Bachelors             13   \n",
       "1   38            Private  215646     HS-grad              9   \n",
       "2   53            Private  234721        11th              7   \n",
       "3   28            Private  338409   Bachelors             13   \n",
       "4   37            Private  284582     Masters             14   \n",
       "\n",
       "        Marital_status          Occupation    Relationship    Race      Sex  \\\n",
       "0   Married-civ-spouse     Exec-managerial         Husband   White     Male   \n",
       "1             Divorced   Handlers-cleaners   Not-in-family   White     Male   \n",
       "2   Married-civ-spouse   Handlers-cleaners         Husband   Black     Male   \n",
       "3   Married-civ-spouse      Prof-specialty            Wife   Black   Female   \n",
       "4   Married-civ-spouse     Exec-managerial            Wife   White   Female   \n",
       "\n",
       "   Capital_gain  Capital_loss  Hours_per_week  Native_country  Income  \n",
       "0             0             0              13   United-States   <=50K  \n",
       "1             0             0              40   United-States   <=50K  \n",
       "2             0             0              40   United-States   <=50K  \n",
       "3             0             0              40            Cuba   <=50K  \n",
       "4             0             0              40   United-States   <=50K  "
      ]
     },
     "execution_count": 1,
     "metadata": {},
     "output_type": "execute_result"
    }
   ],
   "source": [
    "import pandas as pd\n",
    "import numpy as np\n",
    "from sklearn.preprocessing import LabelEncoder\n",
    "import matplotlib.pyplot as plt\n",
    "import seaborn as sns\n",
    "\n",
    "# importing libraries \n",
    "\n",
    "from sklearn.linear_model import LogisticRegression\n",
    "from sklearn.tree import DecisionTreeClassifier\n",
    "from sklearn.svm import SVC\n",
    "from sklearn.neighbors import KNeighborsClassifier\n",
    "from sklearn.metrics import accuracy_score,classification_report,confusion_matrix,roc_auc_score,roc_curve\n",
    "\n",
    "from sklearn.model_selection import cross_val_score,GridSearchCV\n",
    "%matplotlib inline\n",
    "\n",
    "\n",
    "import warnings\n",
    "warnings.filterwarnings('ignore')\n",
    "\n",
    "\n",
    "df=pd.read_csv(r'C:\\ProgramData\\census_income.csv')\n",
    "df.head()"
   ]
  },
  {
   "cell_type": "code",
   "execution_count": 2,
   "id": "bb0fe3da",
   "metadata": {},
   "outputs": [
    {
     "data": {
      "text/plain": [
       "(32560, 15)"
      ]
     },
     "execution_count": 2,
     "metadata": {},
     "output_type": "execute_result"
    }
   ],
   "source": [
    "df.shape"
   ]
  },
  {
   "cell_type": "code",
   "execution_count": 3,
   "id": "e9e9ca46",
   "metadata": {},
   "outputs": [
    {
     "name": "stdout",
     "output_type": "stream",
     "text": [
      "<class 'pandas.core.frame.DataFrame'>\n",
      "RangeIndex: 32560 entries, 0 to 32559\n",
      "Data columns (total 15 columns):\n",
      " #   Column          Non-Null Count  Dtype \n",
      "---  ------          --------------  ----- \n",
      " 0   Age             32560 non-null  int64 \n",
      " 1   Workclass       32560 non-null  object\n",
      " 2   Fnlwgt          32560 non-null  int64 \n",
      " 3   Education       32560 non-null  object\n",
      " 4   Education_num   32560 non-null  int64 \n",
      " 5   Marital_status  32560 non-null  object\n",
      " 6   Occupation      32560 non-null  object\n",
      " 7   Relationship    32560 non-null  object\n",
      " 8   Race            32560 non-null  object\n",
      " 9   Sex             32560 non-null  object\n",
      " 10  Capital_gain    32560 non-null  int64 \n",
      " 11  Capital_loss    32560 non-null  int64 \n",
      " 12  Hours_per_week  32560 non-null  int64 \n",
      " 13  Native_country  32560 non-null  object\n",
      " 14  Income          32560 non-null  object\n",
      "dtypes: int64(6), object(9)\n",
      "memory usage: 3.7+ MB\n"
     ]
    }
   ],
   "source": [
    "# Exploratory Data Analysis\n",
    "\n",
    "df.info()"
   ]
  },
  {
   "cell_type": "code",
   "execution_count": 4,
   "id": "4efea52e",
   "metadata": {},
   "outputs": [],
   "source": [
    "# There are 32560 rows and 15 columns in the dataset.\n",
    "# 6 features are of interger type and 9 features are of object type\n",
    "# Above data shows there are no null values in dataset\n",
    "\n",
    "#    Age            : Persons age\n",
    "#   Workclass      : type of work\n",
    "#   Fnlwgt         : Final weight\n",
    "#   Education      : Educational qualification\n",
    "#   Education_num  : Number of years of education\n",
    "#  Marital_status : Married/not married\n",
    "#  Occupation     : Persons Occupation\n",
    "#  Relationship   : Relationship\n",
    "#   Race           : Race\n",
    "#   Sex            : Gender\n",
    "#  Capital_gain   : profit one earns\n",
    "#  Capital_loss   : profit one loose\n",
    "#  Hours_per_week : Earning rate as per hrs\n",
    "#  Native_country : Country\n",
    "#  Income         : Income (Target variable)"
   ]
  },
  {
   "cell_type": "code",
   "execution_count": 5,
   "id": "40ebb649",
   "metadata": {},
   "outputs": [
    {
     "data": {
      "text/html": [
       "<div>\n",
       "<style scoped>\n",
       "    .dataframe tbody tr th:only-of-type {\n",
       "        vertical-align: middle;\n",
       "    }\n",
       "\n",
       "    .dataframe tbody tr th {\n",
       "        vertical-align: top;\n",
       "    }\n",
       "\n",
       "    .dataframe thead th {\n",
       "        text-align: right;\n",
       "    }\n",
       "</style>\n",
       "<table border=\"1\" class=\"dataframe\">\n",
       "  <thead>\n",
       "    <tr style=\"text-align: right;\">\n",
       "      <th></th>\n",
       "      <th>Age</th>\n",
       "      <th>Fnlwgt</th>\n",
       "      <th>Education_num</th>\n",
       "      <th>Capital_gain</th>\n",
       "      <th>Capital_loss</th>\n",
       "      <th>Hours_per_week</th>\n",
       "    </tr>\n",
       "  </thead>\n",
       "  <tbody>\n",
       "    <tr>\n",
       "      <th>count</th>\n",
       "      <td>32560.000000</td>\n",
       "      <td>3.256000e+04</td>\n",
       "      <td>32560.000000</td>\n",
       "      <td>32560.000000</td>\n",
       "      <td>32560.000000</td>\n",
       "      <td>32560.000000</td>\n",
       "    </tr>\n",
       "    <tr>\n",
       "      <th>mean</th>\n",
       "      <td>38.581634</td>\n",
       "      <td>1.897818e+05</td>\n",
       "      <td>10.080590</td>\n",
       "      <td>1077.615172</td>\n",
       "      <td>87.306511</td>\n",
       "      <td>40.437469</td>\n",
       "    </tr>\n",
       "    <tr>\n",
       "      <th>std</th>\n",
       "      <td>13.640642</td>\n",
       "      <td>1.055498e+05</td>\n",
       "      <td>2.572709</td>\n",
       "      <td>7385.402999</td>\n",
       "      <td>402.966116</td>\n",
       "      <td>12.347618</td>\n",
       "    </tr>\n",
       "    <tr>\n",
       "      <th>min</th>\n",
       "      <td>17.000000</td>\n",
       "      <td>1.228500e+04</td>\n",
       "      <td>1.000000</td>\n",
       "      <td>0.000000</td>\n",
       "      <td>0.000000</td>\n",
       "      <td>1.000000</td>\n",
       "    </tr>\n",
       "    <tr>\n",
       "      <th>25%</th>\n",
       "      <td>28.000000</td>\n",
       "      <td>1.178315e+05</td>\n",
       "      <td>9.000000</td>\n",
       "      <td>0.000000</td>\n",
       "      <td>0.000000</td>\n",
       "      <td>40.000000</td>\n",
       "    </tr>\n",
       "    <tr>\n",
       "      <th>50%</th>\n",
       "      <td>37.000000</td>\n",
       "      <td>1.783630e+05</td>\n",
       "      <td>10.000000</td>\n",
       "      <td>0.000000</td>\n",
       "      <td>0.000000</td>\n",
       "      <td>40.000000</td>\n",
       "    </tr>\n",
       "    <tr>\n",
       "      <th>75%</th>\n",
       "      <td>48.000000</td>\n",
       "      <td>2.370545e+05</td>\n",
       "      <td>12.000000</td>\n",
       "      <td>0.000000</td>\n",
       "      <td>0.000000</td>\n",
       "      <td>45.000000</td>\n",
       "    </tr>\n",
       "    <tr>\n",
       "      <th>max</th>\n",
       "      <td>90.000000</td>\n",
       "      <td>1.484705e+06</td>\n",
       "      <td>16.000000</td>\n",
       "      <td>99999.000000</td>\n",
       "      <td>4356.000000</td>\n",
       "      <td>99.000000</td>\n",
       "    </tr>\n",
       "  </tbody>\n",
       "</table>\n",
       "</div>"
      ],
      "text/plain": [
       "                Age        Fnlwgt  Education_num  Capital_gain  Capital_loss  \\\n",
       "count  32560.000000  3.256000e+04   32560.000000  32560.000000  32560.000000   \n",
       "mean      38.581634  1.897818e+05      10.080590   1077.615172     87.306511   \n",
       "std       13.640642  1.055498e+05       2.572709   7385.402999    402.966116   \n",
       "min       17.000000  1.228500e+04       1.000000      0.000000      0.000000   \n",
       "25%       28.000000  1.178315e+05       9.000000      0.000000      0.000000   \n",
       "50%       37.000000  1.783630e+05      10.000000      0.000000      0.000000   \n",
       "75%       48.000000  2.370545e+05      12.000000      0.000000      0.000000   \n",
       "max       90.000000  1.484705e+06      16.000000  99999.000000   4356.000000   \n",
       "\n",
       "       Hours_per_week  \n",
       "count    32560.000000  \n",
       "mean        40.437469  \n",
       "std         12.347618  \n",
       "min          1.000000  \n",
       "25%         40.000000  \n",
       "50%         40.000000  \n",
       "75%         45.000000  \n",
       "max         99.000000  "
      ]
     },
     "execution_count": 5,
     "metadata": {},
     "output_type": "execute_result"
    }
   ],
   "source": [
    "df.describe()"
   ]
  },
  {
   "cell_type": "code",
   "execution_count": 6,
   "id": "8f1465f6",
   "metadata": {},
   "outputs": [],
   "source": [
    "# From the above data ,it is clear that capital_gain,capital_loss std is more than mean ,so there are chances of \n",
    "# outliers in the data .we need to check further\n",
    "# Values are different for different features and vary a lot.So scaling is needed in dataset"
   ]
  },
  {
   "cell_type": "code",
   "execution_count": 7,
   "id": "0f02a378",
   "metadata": {},
   "outputs": [
    {
     "data": {
      "text/plain": [
       "Age               0\n",
       "Workclass         0\n",
       "Fnlwgt            0\n",
       "Education         0\n",
       "Education_num     0\n",
       "Marital_status    0\n",
       "Occupation        0\n",
       "Relationship      0\n",
       "Race              0\n",
       "Sex               0\n",
       "Capital_gain      0\n",
       "Capital_loss      0\n",
       "Hours_per_week    0\n",
       "Native_country    0\n",
       "Income            0\n",
       "dtype: int64"
      ]
     },
     "execution_count": 7,
     "metadata": {},
     "output_type": "execute_result"
    }
   ],
   "source": [
    "# checking null values in dataset\n",
    "\n",
    "df.isnull().sum()\n",
    "\n",
    "# below data shows ,there are no null values in dataset"
   ]
  },
  {
   "cell_type": "code",
   "execution_count": 8,
   "id": "e2d91ab3",
   "metadata": {},
   "outputs": [
    {
     "data": {
      "text/plain": [
       "array([' United-States', ' Cuba', ' Jamaica', ' India', ' ?', ' Mexico',\n",
       "       ' South', ' Puerto-Rico', ' Honduras', ' England', ' Canada',\n",
       "       ' Germany', ' Iran', ' Philippines', ' Italy', ' Poland',\n",
       "       ' Columbia', ' Cambodia', ' Thailand', ' Ecuador', ' Laos',\n",
       "       ' Taiwan', ' Haiti', ' Portugal', ' Dominican-Republic',\n",
       "       ' El-Salvador', ' France', ' Guatemala', ' China', ' Japan',\n",
       "       ' Yugoslavia', ' Peru', ' Outlying-US(Guam-USVI-etc)', ' Scotland',\n",
       "       ' Trinadad&Tobago', ' Greece', ' Nicaragua', ' Vietnam', ' Hong',\n",
       "       ' Ireland', ' Hungary', ' Holand-Netherlands'], dtype=object)"
      ]
     },
     "execution_count": 8,
     "metadata": {},
     "output_type": "execute_result"
    }
   ],
   "source": [
    "# Checking for unique values of Native_country and Occupation to verify null values represented by ?\n",
    "\n",
    "df['Native_country'].unique()"
   ]
  },
  {
   "cell_type": "code",
   "execution_count": 9,
   "id": "f1a569dd",
   "metadata": {},
   "outputs": [
    {
     "data": {
      "text/plain": [
       "array([' Exec-managerial', ' Handlers-cleaners', ' Prof-specialty',\n",
       "       ' Other-service', ' Adm-clerical', ' Sales', ' Craft-repair',\n",
       "       ' Transport-moving', ' Farming-fishing', ' Machine-op-inspct',\n",
       "       ' Tech-support', ' ?', ' Protective-serv', ' Armed-Forces',\n",
       "       ' Priv-house-serv'], dtype=object)"
      ]
     },
     "execution_count": 9,
     "metadata": {},
     "output_type": "execute_result"
    }
   ],
   "source": [
    "df['Occupation'].unique()"
   ]
  },
  {
   "cell_type": "code",
   "execution_count": 10,
   "id": "ec9da0ff",
   "metadata": {},
   "outputs": [
    {
     "data": {
      "text/html": [
       "<div>\n",
       "<style scoped>\n",
       "    .dataframe tbody tr th:only-of-type {\n",
       "        vertical-align: middle;\n",
       "    }\n",
       "\n",
       "    .dataframe tbody tr th {\n",
       "        vertical-align: top;\n",
       "    }\n",
       "\n",
       "    .dataframe thead th {\n",
       "        text-align: right;\n",
       "    }\n",
       "</style>\n",
       "<table border=\"1\" class=\"dataframe\">\n",
       "  <thead>\n",
       "    <tr style=\"text-align: right;\">\n",
       "      <th></th>\n",
       "      <th>Age</th>\n",
       "      <th>Workclass</th>\n",
       "      <th>Fnlwgt</th>\n",
       "      <th>Education</th>\n",
       "      <th>Education_num</th>\n",
       "      <th>Marital_status</th>\n",
       "      <th>Occupation</th>\n",
       "      <th>Relationship</th>\n",
       "      <th>Race</th>\n",
       "      <th>Sex</th>\n",
       "      <th>Capital_gain</th>\n",
       "      <th>Capital_loss</th>\n",
       "      <th>Hours_per_week</th>\n",
       "      <th>Native_country</th>\n",
       "      <th>Income</th>\n",
       "    </tr>\n",
       "  </thead>\n",
       "  <tbody>\n",
       "    <tr>\n",
       "      <th>13</th>\n",
       "      <td>40</td>\n",
       "      <td>Private</td>\n",
       "      <td>121772</td>\n",
       "      <td>Assoc-voc</td>\n",
       "      <td>11</td>\n",
       "      <td>Married-civ-spouse</td>\n",
       "      <td>Craft-repair</td>\n",
       "      <td>Husband</td>\n",
       "      <td>Asian-Pac-Islander</td>\n",
       "      <td>Male</td>\n",
       "      <td>0</td>\n",
       "      <td>0</td>\n",
       "      <td>40</td>\n",
       "      <td>?</td>\n",
       "      <td>&gt;50K</td>\n",
       "    </tr>\n",
       "    <tr>\n",
       "      <th>37</th>\n",
       "      <td>31</td>\n",
       "      <td>Private</td>\n",
       "      <td>84154</td>\n",
       "      <td>Some-college</td>\n",
       "      <td>10</td>\n",
       "      <td>Married-civ-spouse</td>\n",
       "      <td>Sales</td>\n",
       "      <td>Husband</td>\n",
       "      <td>White</td>\n",
       "      <td>Male</td>\n",
       "      <td>0</td>\n",
       "      <td>0</td>\n",
       "      <td>38</td>\n",
       "      <td>?</td>\n",
       "      <td>&gt;50K</td>\n",
       "    </tr>\n",
       "    <tr>\n",
       "      <th>50</th>\n",
       "      <td>18</td>\n",
       "      <td>Private</td>\n",
       "      <td>226956</td>\n",
       "      <td>HS-grad</td>\n",
       "      <td>9</td>\n",
       "      <td>Never-married</td>\n",
       "      <td>Other-service</td>\n",
       "      <td>Own-child</td>\n",
       "      <td>White</td>\n",
       "      <td>Female</td>\n",
       "      <td>0</td>\n",
       "      <td>0</td>\n",
       "      <td>30</td>\n",
       "      <td>?</td>\n",
       "      <td>&lt;=50K</td>\n",
       "    </tr>\n",
       "    <tr>\n",
       "      <th>60</th>\n",
       "      <td>32</td>\n",
       "      <td>?</td>\n",
       "      <td>293936</td>\n",
       "      <td>7th-8th</td>\n",
       "      <td>4</td>\n",
       "      <td>Married-spouse-absent</td>\n",
       "      <td>?</td>\n",
       "      <td>Not-in-family</td>\n",
       "      <td>White</td>\n",
       "      <td>Male</td>\n",
       "      <td>0</td>\n",
       "      <td>0</td>\n",
       "      <td>40</td>\n",
       "      <td>?</td>\n",
       "      <td>&lt;=50K</td>\n",
       "    </tr>\n",
       "    <tr>\n",
       "      <th>92</th>\n",
       "      <td>30</td>\n",
       "      <td>Private</td>\n",
       "      <td>117747</td>\n",
       "      <td>HS-grad</td>\n",
       "      <td>9</td>\n",
       "      <td>Married-civ-spouse</td>\n",
       "      <td>Sales</td>\n",
       "      <td>Wife</td>\n",
       "      <td>Asian-Pac-Islander</td>\n",
       "      <td>Female</td>\n",
       "      <td>0</td>\n",
       "      <td>1573</td>\n",
       "      <td>35</td>\n",
       "      <td>?</td>\n",
       "      <td>&lt;=50K</td>\n",
       "    </tr>\n",
       "    <tr>\n",
       "      <th>...</th>\n",
       "      <td>...</td>\n",
       "      <td>...</td>\n",
       "      <td>...</td>\n",
       "      <td>...</td>\n",
       "      <td>...</td>\n",
       "      <td>...</td>\n",
       "      <td>...</td>\n",
       "      <td>...</td>\n",
       "      <td>...</td>\n",
       "      <td>...</td>\n",
       "      <td>...</td>\n",
       "      <td>...</td>\n",
       "      <td>...</td>\n",
       "      <td>...</td>\n",
       "      <td>...</td>\n",
       "    </tr>\n",
       "    <tr>\n",
       "      <th>32448</th>\n",
       "      <td>44</td>\n",
       "      <td>Self-emp-inc</td>\n",
       "      <td>71556</td>\n",
       "      <td>Masters</td>\n",
       "      <td>14</td>\n",
       "      <td>Married-civ-spouse</td>\n",
       "      <td>Sales</td>\n",
       "      <td>Husband</td>\n",
       "      <td>White</td>\n",
       "      <td>Male</td>\n",
       "      <td>0</td>\n",
       "      <td>0</td>\n",
       "      <td>50</td>\n",
       "      <td>?</td>\n",
       "      <td>&gt;50K</td>\n",
       "    </tr>\n",
       "    <tr>\n",
       "      <th>32468</th>\n",
       "      <td>58</td>\n",
       "      <td>Self-emp-inc</td>\n",
       "      <td>181974</td>\n",
       "      <td>Doctorate</td>\n",
       "      <td>16</td>\n",
       "      <td>Never-married</td>\n",
       "      <td>Prof-specialty</td>\n",
       "      <td>Not-in-family</td>\n",
       "      <td>White</td>\n",
       "      <td>Female</td>\n",
       "      <td>0</td>\n",
       "      <td>0</td>\n",
       "      <td>99</td>\n",
       "      <td>?</td>\n",
       "      <td>&lt;=50K</td>\n",
       "    </tr>\n",
       "    <tr>\n",
       "      <th>32491</th>\n",
       "      <td>42</td>\n",
       "      <td>Self-emp-not-inc</td>\n",
       "      <td>217597</td>\n",
       "      <td>HS-grad</td>\n",
       "      <td>9</td>\n",
       "      <td>Divorced</td>\n",
       "      <td>Sales</td>\n",
       "      <td>Own-child</td>\n",
       "      <td>White</td>\n",
       "      <td>Male</td>\n",
       "      <td>0</td>\n",
       "      <td>0</td>\n",
       "      <td>50</td>\n",
       "      <td>?</td>\n",
       "      <td>&lt;=50K</td>\n",
       "    </tr>\n",
       "    <tr>\n",
       "      <th>32509</th>\n",
       "      <td>39</td>\n",
       "      <td>Private</td>\n",
       "      <td>107302</td>\n",
       "      <td>HS-grad</td>\n",
       "      <td>9</td>\n",
       "      <td>Married-civ-spouse</td>\n",
       "      <td>Prof-specialty</td>\n",
       "      <td>Husband</td>\n",
       "      <td>White</td>\n",
       "      <td>Male</td>\n",
       "      <td>0</td>\n",
       "      <td>0</td>\n",
       "      <td>45</td>\n",
       "      <td>?</td>\n",
       "      <td>&gt;50K</td>\n",
       "    </tr>\n",
       "    <tr>\n",
       "      <th>32524</th>\n",
       "      <td>81</td>\n",
       "      <td>?</td>\n",
       "      <td>120478</td>\n",
       "      <td>Assoc-voc</td>\n",
       "      <td>11</td>\n",
       "      <td>Divorced</td>\n",
       "      <td>?</td>\n",
       "      <td>Unmarried</td>\n",
       "      <td>White</td>\n",
       "      <td>Female</td>\n",
       "      <td>0</td>\n",
       "      <td>0</td>\n",
       "      <td>1</td>\n",
       "      <td>?</td>\n",
       "      <td>&lt;=50K</td>\n",
       "    </tr>\n",
       "  </tbody>\n",
       "</table>\n",
       "<p>583 rows × 15 columns</p>\n",
       "</div>"
      ],
      "text/plain": [
       "       Age          Workclass  Fnlwgt      Education  Education_num  \\\n",
       "13      40            Private  121772      Assoc-voc             11   \n",
       "37      31            Private   84154   Some-college             10   \n",
       "50      18            Private  226956        HS-grad              9   \n",
       "60      32                  ?  293936        7th-8th              4   \n",
       "92      30            Private  117747        HS-grad              9   \n",
       "...    ...                ...     ...            ...            ...   \n",
       "32448   44       Self-emp-inc   71556        Masters             14   \n",
       "32468   58       Self-emp-inc  181974      Doctorate             16   \n",
       "32491   42   Self-emp-not-inc  217597        HS-grad              9   \n",
       "32509   39            Private  107302        HS-grad              9   \n",
       "32524   81                  ?  120478      Assoc-voc             11   \n",
       "\n",
       "               Marital_status       Occupation    Relationship  \\\n",
       "13         Married-civ-spouse     Craft-repair         Husband   \n",
       "37         Married-civ-spouse            Sales         Husband   \n",
       "50              Never-married    Other-service       Own-child   \n",
       "60      Married-spouse-absent                ?   Not-in-family   \n",
       "92         Married-civ-spouse            Sales            Wife   \n",
       "...                       ...              ...             ...   \n",
       "32448      Married-civ-spouse            Sales         Husband   \n",
       "32468           Never-married   Prof-specialty   Not-in-family   \n",
       "32491                Divorced            Sales       Own-child   \n",
       "32509      Married-civ-spouse   Prof-specialty         Husband   \n",
       "32524                Divorced                ?       Unmarried   \n",
       "\n",
       "                      Race      Sex  Capital_gain  Capital_loss  \\\n",
       "13      Asian-Pac-Islander     Male             0             0   \n",
       "37                   White     Male             0             0   \n",
       "50                   White   Female             0             0   \n",
       "60                   White     Male             0             0   \n",
       "92      Asian-Pac-Islander   Female             0          1573   \n",
       "...                    ...      ...           ...           ...   \n",
       "32448                White     Male             0             0   \n",
       "32468                White   Female             0             0   \n",
       "32491                White     Male             0             0   \n",
       "32509                White     Male             0             0   \n",
       "32524                White   Female             0             0   \n",
       "\n",
       "       Hours_per_week Native_country  Income  \n",
       "13                 40              ?    >50K  \n",
       "37                 38              ?    >50K  \n",
       "50                 30              ?   <=50K  \n",
       "60                 40              ?   <=50K  \n",
       "92                 35              ?   <=50K  \n",
       "...               ...            ...     ...  \n",
       "32448              50              ?    >50K  \n",
       "32468              99              ?   <=50K  \n",
       "32491              50              ?   <=50K  \n",
       "32509              45              ?    >50K  \n",
       "32524               1              ?   <=50K  \n",
       "\n",
       "[583 rows x 15 columns]"
      ]
     },
     "execution_count": 10,
     "metadata": {},
     "output_type": "execute_result"
    }
   ],
   "source": [
    "# Checking for number of rows of Native_country and Occupation feature having values \"?\"\n",
    "\n",
    "df.loc[(df.Native_country==' ?')]"
   ]
  },
  {
   "cell_type": "code",
   "execution_count": 11,
   "id": "7574e748",
   "metadata": {},
   "outputs": [
    {
     "data": {
      "text/html": [
       "<div>\n",
       "<style scoped>\n",
       "    .dataframe tbody tr th:only-of-type {\n",
       "        vertical-align: middle;\n",
       "    }\n",
       "\n",
       "    .dataframe tbody tr th {\n",
       "        vertical-align: top;\n",
       "    }\n",
       "\n",
       "    .dataframe thead th {\n",
       "        text-align: right;\n",
       "    }\n",
       "</style>\n",
       "<table border=\"1\" class=\"dataframe\">\n",
       "  <thead>\n",
       "    <tr style=\"text-align: right;\">\n",
       "      <th></th>\n",
       "      <th>Age</th>\n",
       "      <th>Workclass</th>\n",
       "      <th>Fnlwgt</th>\n",
       "      <th>Education</th>\n",
       "      <th>Education_num</th>\n",
       "      <th>Marital_status</th>\n",
       "      <th>Occupation</th>\n",
       "      <th>Relationship</th>\n",
       "      <th>Race</th>\n",
       "      <th>Sex</th>\n",
       "      <th>Capital_gain</th>\n",
       "      <th>Capital_loss</th>\n",
       "      <th>Hours_per_week</th>\n",
       "      <th>Native_country</th>\n",
       "      <th>Income</th>\n",
       "    </tr>\n",
       "  </thead>\n",
       "  <tbody>\n",
       "    <tr>\n",
       "      <th>26</th>\n",
       "      <td>54</td>\n",
       "      <td>?</td>\n",
       "      <td>180211</td>\n",
       "      <td>Some-college</td>\n",
       "      <td>10</td>\n",
       "      <td>Married-civ-spouse</td>\n",
       "      <td>?</td>\n",
       "      <td>Husband</td>\n",
       "      <td>Asian-Pac-Islander</td>\n",
       "      <td>Male</td>\n",
       "      <td>0</td>\n",
       "      <td>0</td>\n",
       "      <td>60</td>\n",
       "      <td>South</td>\n",
       "      <td>&gt;50K</td>\n",
       "    </tr>\n",
       "    <tr>\n",
       "      <th>60</th>\n",
       "      <td>32</td>\n",
       "      <td>?</td>\n",
       "      <td>293936</td>\n",
       "      <td>7th-8th</td>\n",
       "      <td>4</td>\n",
       "      <td>Married-spouse-absent</td>\n",
       "      <td>?</td>\n",
       "      <td>Not-in-family</td>\n",
       "      <td>White</td>\n",
       "      <td>Male</td>\n",
       "      <td>0</td>\n",
       "      <td>0</td>\n",
       "      <td>40</td>\n",
       "      <td>?</td>\n",
       "      <td>&lt;=50K</td>\n",
       "    </tr>\n",
       "    <tr>\n",
       "      <th>68</th>\n",
       "      <td>25</td>\n",
       "      <td>?</td>\n",
       "      <td>200681</td>\n",
       "      <td>Some-college</td>\n",
       "      <td>10</td>\n",
       "      <td>Never-married</td>\n",
       "      <td>?</td>\n",
       "      <td>Own-child</td>\n",
       "      <td>White</td>\n",
       "      <td>Male</td>\n",
       "      <td>0</td>\n",
       "      <td>0</td>\n",
       "      <td>40</td>\n",
       "      <td>United-States</td>\n",
       "      <td>&lt;=50K</td>\n",
       "    </tr>\n",
       "    <tr>\n",
       "      <th>76</th>\n",
       "      <td>67</td>\n",
       "      <td>?</td>\n",
       "      <td>212759</td>\n",
       "      <td>10th</td>\n",
       "      <td>6</td>\n",
       "      <td>Married-civ-spouse</td>\n",
       "      <td>?</td>\n",
       "      <td>Husband</td>\n",
       "      <td>White</td>\n",
       "      <td>Male</td>\n",
       "      <td>0</td>\n",
       "      <td>0</td>\n",
       "      <td>2</td>\n",
       "      <td>United-States</td>\n",
       "      <td>&lt;=50K</td>\n",
       "    </tr>\n",
       "    <tr>\n",
       "      <th>105</th>\n",
       "      <td>17</td>\n",
       "      <td>?</td>\n",
       "      <td>304873</td>\n",
       "      <td>10th</td>\n",
       "      <td>6</td>\n",
       "      <td>Never-married</td>\n",
       "      <td>?</td>\n",
       "      <td>Own-child</td>\n",
       "      <td>White</td>\n",
       "      <td>Female</td>\n",
       "      <td>34095</td>\n",
       "      <td>0</td>\n",
       "      <td>32</td>\n",
       "      <td>United-States</td>\n",
       "      <td>&lt;=50K</td>\n",
       "    </tr>\n",
       "    <tr>\n",
       "      <th>...</th>\n",
       "      <td>...</td>\n",
       "      <td>...</td>\n",
       "      <td>...</td>\n",
       "      <td>...</td>\n",
       "      <td>...</td>\n",
       "      <td>...</td>\n",
       "      <td>...</td>\n",
       "      <td>...</td>\n",
       "      <td>...</td>\n",
       "      <td>...</td>\n",
       "      <td>...</td>\n",
       "      <td>...</td>\n",
       "      <td>...</td>\n",
       "      <td>...</td>\n",
       "      <td>...</td>\n",
       "    </tr>\n",
       "    <tr>\n",
       "      <th>32529</th>\n",
       "      <td>35</td>\n",
       "      <td>?</td>\n",
       "      <td>320084</td>\n",
       "      <td>Bachelors</td>\n",
       "      <td>13</td>\n",
       "      <td>Married-civ-spouse</td>\n",
       "      <td>?</td>\n",
       "      <td>Wife</td>\n",
       "      <td>White</td>\n",
       "      <td>Female</td>\n",
       "      <td>0</td>\n",
       "      <td>0</td>\n",
       "      <td>55</td>\n",
       "      <td>United-States</td>\n",
       "      <td>&gt;50K</td>\n",
       "    </tr>\n",
       "    <tr>\n",
       "      <th>32530</th>\n",
       "      <td>30</td>\n",
       "      <td>?</td>\n",
       "      <td>33811</td>\n",
       "      <td>Bachelors</td>\n",
       "      <td>13</td>\n",
       "      <td>Never-married</td>\n",
       "      <td>?</td>\n",
       "      <td>Not-in-family</td>\n",
       "      <td>Asian-Pac-Islander</td>\n",
       "      <td>Female</td>\n",
       "      <td>0</td>\n",
       "      <td>0</td>\n",
       "      <td>99</td>\n",
       "      <td>United-States</td>\n",
       "      <td>&lt;=50K</td>\n",
       "    </tr>\n",
       "    <tr>\n",
       "      <th>32538</th>\n",
       "      <td>71</td>\n",
       "      <td>?</td>\n",
       "      <td>287372</td>\n",
       "      <td>Doctorate</td>\n",
       "      <td>16</td>\n",
       "      <td>Married-civ-spouse</td>\n",
       "      <td>?</td>\n",
       "      <td>Husband</td>\n",
       "      <td>White</td>\n",
       "      <td>Male</td>\n",
       "      <td>0</td>\n",
       "      <td>0</td>\n",
       "      <td>10</td>\n",
       "      <td>United-States</td>\n",
       "      <td>&gt;50K</td>\n",
       "    </tr>\n",
       "    <tr>\n",
       "      <th>32540</th>\n",
       "      <td>41</td>\n",
       "      <td>?</td>\n",
       "      <td>202822</td>\n",
       "      <td>HS-grad</td>\n",
       "      <td>9</td>\n",
       "      <td>Separated</td>\n",
       "      <td>?</td>\n",
       "      <td>Not-in-family</td>\n",
       "      <td>Black</td>\n",
       "      <td>Female</td>\n",
       "      <td>0</td>\n",
       "      <td>0</td>\n",
       "      <td>32</td>\n",
       "      <td>United-States</td>\n",
       "      <td>&lt;=50K</td>\n",
       "    </tr>\n",
       "    <tr>\n",
       "      <th>32541</th>\n",
       "      <td>72</td>\n",
       "      <td>?</td>\n",
       "      <td>129912</td>\n",
       "      <td>HS-grad</td>\n",
       "      <td>9</td>\n",
       "      <td>Married-civ-spouse</td>\n",
       "      <td>?</td>\n",
       "      <td>Husband</td>\n",
       "      <td>White</td>\n",
       "      <td>Male</td>\n",
       "      <td>0</td>\n",
       "      <td>0</td>\n",
       "      <td>25</td>\n",
       "      <td>United-States</td>\n",
       "      <td>&lt;=50K</td>\n",
       "    </tr>\n",
       "  </tbody>\n",
       "</table>\n",
       "<p>1843 rows × 15 columns</p>\n",
       "</div>"
      ],
      "text/plain": [
       "       Age Workclass  Fnlwgt      Education  Education_num  \\\n",
       "26      54         ?  180211   Some-college             10   \n",
       "60      32         ?  293936        7th-8th              4   \n",
       "68      25         ?  200681   Some-college             10   \n",
       "76      67         ?  212759           10th              6   \n",
       "105     17         ?  304873           10th              6   \n",
       "...    ...       ...     ...            ...            ...   \n",
       "32529   35         ?  320084      Bachelors             13   \n",
       "32530   30         ?   33811      Bachelors             13   \n",
       "32538   71         ?  287372      Doctorate             16   \n",
       "32540   41         ?  202822        HS-grad              9   \n",
       "32541   72         ?  129912        HS-grad              9   \n",
       "\n",
       "               Marital_status Occupation    Relationship                 Race  \\\n",
       "26         Married-civ-spouse          ?         Husband   Asian-Pac-Islander   \n",
       "60      Married-spouse-absent          ?   Not-in-family                White   \n",
       "68              Never-married          ?       Own-child                White   \n",
       "76         Married-civ-spouse          ?         Husband                White   \n",
       "105             Never-married          ?       Own-child                White   \n",
       "...                       ...        ...             ...                  ...   \n",
       "32529      Married-civ-spouse          ?            Wife                White   \n",
       "32530           Never-married          ?   Not-in-family   Asian-Pac-Islander   \n",
       "32538      Married-civ-spouse          ?         Husband                White   \n",
       "32540               Separated          ?   Not-in-family                Black   \n",
       "32541      Married-civ-spouse          ?         Husband                White   \n",
       "\n",
       "           Sex  Capital_gain  Capital_loss  Hours_per_week  Native_country  \\\n",
       "26        Male             0             0              60           South   \n",
       "60        Male             0             0              40               ?   \n",
       "68        Male             0             0              40   United-States   \n",
       "76        Male             0             0               2   United-States   \n",
       "105     Female         34095             0              32   United-States   \n",
       "...        ...           ...           ...             ...             ...   \n",
       "32529   Female             0             0              55   United-States   \n",
       "32530   Female             0             0              99   United-States   \n",
       "32538     Male             0             0              10   United-States   \n",
       "32540   Female             0             0              32   United-States   \n",
       "32541     Male             0             0              25   United-States   \n",
       "\n",
       "       Income  \n",
       "26       >50K  \n",
       "60      <=50K  \n",
       "68      <=50K  \n",
       "76      <=50K  \n",
       "105     <=50K  \n",
       "...       ...  \n",
       "32529    >50K  \n",
       "32530   <=50K  \n",
       "32538    >50K  \n",
       "32540   <=50K  \n",
       "32541   <=50K  \n",
       "\n",
       "[1843 rows x 15 columns]"
      ]
     },
     "execution_count": 11,
     "metadata": {},
     "output_type": "execute_result"
    }
   ],
   "source": [
    "df.loc[df.Occupation==' ?']"
   ]
  },
  {
   "cell_type": "code",
   "execution_count": 12,
   "id": "4547f982",
   "metadata": {},
   "outputs": [],
   "source": [
    "# we can see “Native_country” contains 583 missing values and “Occupation” contains 1816 missing values.\n",
    "# But in comparision to dataset having 32560 rows,we can neglect these '?' values and drop them"
   ]
  },
  {
   "cell_type": "code",
   "execution_count": 13,
   "id": "04116201",
   "metadata": {},
   "outputs": [],
   "source": [
    "# Dropping '?' values from dataset\n",
    "\n",
    "df.drop(df[df['Native_country'] == ' ?'].index,inplace=True)"
   ]
  },
  {
   "cell_type": "code",
   "execution_count": 14,
   "id": "f1dfda70",
   "metadata": {},
   "outputs": [],
   "source": [
    "df.drop(df[df['Occupation'] == ' ?'].index,inplace=True)"
   ]
  },
  {
   "cell_type": "code",
   "execution_count": 15,
   "id": "9f7dce6d",
   "metadata": {},
   "outputs": [
    {
     "data": {
      "text/html": [
       "<div>\n",
       "<style scoped>\n",
       "    .dataframe tbody tr th:only-of-type {\n",
       "        vertical-align: middle;\n",
       "    }\n",
       "\n",
       "    .dataframe tbody tr th {\n",
       "        vertical-align: top;\n",
       "    }\n",
       "\n",
       "    .dataframe thead th {\n",
       "        text-align: right;\n",
       "    }\n",
       "</style>\n",
       "<table border=\"1\" class=\"dataframe\">\n",
       "  <thead>\n",
       "    <tr style=\"text-align: right;\">\n",
       "      <th></th>\n",
       "      <th>Age</th>\n",
       "      <th>Workclass</th>\n",
       "      <th>Fnlwgt</th>\n",
       "      <th>Education</th>\n",
       "      <th>Education_num</th>\n",
       "      <th>Marital_status</th>\n",
       "      <th>Occupation</th>\n",
       "      <th>Relationship</th>\n",
       "      <th>Race</th>\n",
       "      <th>Sex</th>\n",
       "      <th>Capital_gain</th>\n",
       "      <th>Capital_loss</th>\n",
       "      <th>Hours_per_week</th>\n",
       "      <th>Native_country</th>\n",
       "      <th>Income</th>\n",
       "    </tr>\n",
       "  </thead>\n",
       "  <tbody>\n",
       "    <tr>\n",
       "      <th>0</th>\n",
       "      <td>33</td>\n",
       "      <td>4</td>\n",
       "      <td>2726</td>\n",
       "      <td>9</td>\n",
       "      <td>12</td>\n",
       "      <td>2</td>\n",
       "      <td>3</td>\n",
       "      <td>0</td>\n",
       "      <td>4</td>\n",
       "      <td>1</td>\n",
       "      <td>0</td>\n",
       "      <td>0</td>\n",
       "      <td>12</td>\n",
       "      <td>38</td>\n",
       "      <td>0</td>\n",
       "    </tr>\n",
       "    <tr>\n",
       "      <th>1</th>\n",
       "      <td>21</td>\n",
       "      <td>2</td>\n",
       "      <td>13187</td>\n",
       "      <td>11</td>\n",
       "      <td>8</td>\n",
       "      <td>0</td>\n",
       "      <td>5</td>\n",
       "      <td>1</td>\n",
       "      <td>4</td>\n",
       "      <td>1</td>\n",
       "      <td>0</td>\n",
       "      <td>0</td>\n",
       "      <td>39</td>\n",
       "      <td>38</td>\n",
       "      <td>0</td>\n",
       "    </tr>\n",
       "    <tr>\n",
       "      <th>2</th>\n",
       "      <td>36</td>\n",
       "      <td>2</td>\n",
       "      <td>14353</td>\n",
       "      <td>1</td>\n",
       "      <td>6</td>\n",
       "      <td>2</td>\n",
       "      <td>5</td>\n",
       "      <td>0</td>\n",
       "      <td>2</td>\n",
       "      <td>1</td>\n",
       "      <td>0</td>\n",
       "      <td>0</td>\n",
       "      <td>39</td>\n",
       "      <td>38</td>\n",
       "      <td>0</td>\n",
       "    </tr>\n",
       "    <tr>\n",
       "      <th>3</th>\n",
       "      <td>11</td>\n",
       "      <td>2</td>\n",
       "      <td>18119</td>\n",
       "      <td>9</td>\n",
       "      <td>12</td>\n",
       "      <td>2</td>\n",
       "      <td>9</td>\n",
       "      <td>5</td>\n",
       "      <td>2</td>\n",
       "      <td>0</td>\n",
       "      <td>0</td>\n",
       "      <td>0</td>\n",
       "      <td>39</td>\n",
       "      <td>4</td>\n",
       "      <td>0</td>\n",
       "    </tr>\n",
       "    <tr>\n",
       "      <th>4</th>\n",
       "      <td>20</td>\n",
       "      <td>2</td>\n",
       "      <td>16566</td>\n",
       "      <td>12</td>\n",
       "      <td>13</td>\n",
       "      <td>2</td>\n",
       "      <td>3</td>\n",
       "      <td>5</td>\n",
       "      <td>4</td>\n",
       "      <td>0</td>\n",
       "      <td>0</td>\n",
       "      <td>0</td>\n",
       "      <td>39</td>\n",
       "      <td>38</td>\n",
       "      <td>0</td>\n",
       "    </tr>\n",
       "  </tbody>\n",
       "</table>\n",
       "</div>"
      ],
      "text/plain": [
       "   Age  Workclass  Fnlwgt  Education  Education_num  Marital_status  \\\n",
       "0   33          4    2726          9             12               2   \n",
       "1   21          2   13187         11              8               0   \n",
       "2   36          2   14353          1              6               2   \n",
       "3   11          2   18119          9             12               2   \n",
       "4   20          2   16566         12             13               2   \n",
       "\n",
       "   Occupation  Relationship  Race  Sex  Capital_gain  Capital_loss  \\\n",
       "0           3             0     4    1             0             0   \n",
       "1           5             1     4    1             0             0   \n",
       "2           5             0     2    1             0             0   \n",
       "3           9             5     2    0             0             0   \n",
       "4           3             5     4    0             0             0   \n",
       "\n",
       "   Hours_per_week  Native_country  Income  \n",
       "0              12              38       0  \n",
       "1              39              38       0  \n",
       "2              39              38       0  \n",
       "3              39               4       0  \n",
       "4              39              38       0  "
      ]
     },
     "execution_count": 15,
     "metadata": {},
     "output_type": "execute_result"
    }
   ],
   "source": [
    "# converting dataset features from categorical to numeric\n",
    "\n",
    "le=LabelEncoder()\n",
    "df=df.apply(le.fit_transform)     \n",
    "df.head()"
   ]
  },
  {
   "cell_type": "code",
   "execution_count": 16,
   "id": "219c5cc8",
   "metadata": {},
   "outputs": [
    {
     "data": {
      "image/png": "[encoded data removed]",
      "text/plain": [
       "<Figure size 1008x432 with 2 Axes>"
      ]
     },
     "metadata": {
      "needs_background": "light"
     },
     "output_type": "display_data"
    }
   ],
   "source": [
    "# checking correlation of independent variables with 'Income' variable\n",
    "\n",
    "plt.figure(figsize=(14,6))\n",
    "corr_matrix=df.corr()\n",
    "sns.heatmap(corr_matrix,annot=True)\n",
    "plt.show()"
   ]
  },
  {
   "cell_type": "code",
   "execution_count": 17,
   "id": "0f7e4067",
   "metadata": {},
   "outputs": [
    {
     "data": {
      "text/plain": [
       "Income            1.000000\n",
       "Capital_gain      0.337331\n",
       "Education_num     0.335317\n",
       "Age               0.242196\n",
       "Hours_per_week    0.232328\n",
       "Sex               0.216715\n",
       "Capital_loss      0.162075\n",
       "Education         0.078981\n",
       "Race              0.071666\n",
       "Occupation        0.051551\n",
       "Native_country    0.023273\n",
       "Workclass         0.018103\n",
       "Fnlwgt           -0.009987\n",
       "Marital_status   -0.193504\n",
       "Relationship     -0.251009\n",
       "Name: Income, dtype: float64"
      ]
     },
     "execution_count": 17,
     "metadata": {},
     "output_type": "execute_result"
    }
   ],
   "source": [
    "corr_matrix['Income'].sort_values(ascending=False)"
   ]
  },
  {
   "cell_type": "code",
   "execution_count": 18,
   "id": "3186ec4e",
   "metadata": {},
   "outputs": [],
   "source": [
    "# Clearly from above correlation matrix and data , 'Income' has positive correlation maximum with Capital_gain,Education_num,Age\n",
    "#and negatively correlated with Relationship,Marital_status"
   ]
  },
  {
   "cell_type": "code",
   "execution_count": 19,
   "id": "efe4268b",
   "metadata": {},
   "outputs": [
    {
     "data": {
      "text/plain": [
       "<function matplotlib.pyplot.show(close=None, block=None)>"
      ]
     },
     "execution_count": 19,
     "metadata": {},
     "output_type": "execute_result"
    },
    {
     "data": {
      "image/png": "[encoded data removed]",
      "text/plain": [
       "<Figure size 1008x720 with 16 Axes>"
      ]
     },
     "metadata": {
      "needs_background": "light"
     },
     "output_type": "display_data"
    }
   ],
   "source": [
    "# Distribution plot of dataset\n",
    "\n",
    "df.plot(kind='hist', subplots=True, layout=(4,4), figsize=(14,10), grid=True)\n",
    "plt.show"
   ]
  },
  {
   "cell_type": "code",
   "execution_count": 20,
   "id": "501ac5c0",
   "metadata": {},
   "outputs": [
    {
     "data": {
      "image/png": "[encoded data removed]",
      "text/plain": [
       "<Figure size 432x288 with 1 Axes>"
      ]
     },
     "metadata": {
      "needs_background": "light"
     },
     "output_type": "display_data"
    }
   ],
   "source": [
    "# checking distibution of Education feature\n",
    "\n",
    "sns.distplot(df['Education'], color = 'green')\n",
    "plt.title('Education', fontsize = 20)\n",
    "plt.xlabel('Education', fontsize = 15)\n",
    "plt.ylabel('count')\n",
    "plt.show()"
   ]
  },
  {
   "cell_type": "code",
   "execution_count": 21,
   "id": "52092f75",
   "metadata": {},
   "outputs": [
    {
     "data": {
      "image/png": "[encoded data removed]",
      "text/plain": [
       "<Figure size 432x288 with 1 Axes>"
      ]
     },
     "metadata": {
      "needs_background": "light"
     },
     "output_type": "display_data"
    }
   ],
   "source": [
    "# checking distibution of Age feature\n",
    "\n",
    "sns.distplot(df['Age'], color = 'green')\n",
    "plt.title('Age', fontsize = 20)\n",
    "plt.xlabel('Age', fontsize = 15)\n",
    "plt.ylabel('count')\n",
    "plt.show()"
   ]
  },
  {
   "cell_type": "code",
   "execution_count": 22,
   "id": "4378ee5a",
   "metadata": {},
   "outputs": [],
   "source": [
    "# Clearly there is skewness in both Education and Age Features"
   ]
  },
  {
   "cell_type": "code",
   "execution_count": 23,
   "id": "512828d2",
   "metadata": {},
   "outputs": [
    {
     "data": {
      "image/png": "[encoded data removed]",
      "text/plain": [
       "<Figure size 432x288 with 1 Axes>"
      ]
     },
     "metadata": {
      "needs_background": "light"
     },
     "output_type": "display_data"
    }
   ],
   "source": [
    "# Lets plot to see how education and age are related\n",
    "\n",
    "plt.scatter(x='Education',y='Age',data=df)\n",
    "plt.show()"
   ]
  },
  {
   "cell_type": "code",
   "execution_count": 24,
   "id": "9c2cf5cf",
   "metadata": {},
   "outputs": [
    {
     "data": {
      "text/plain": [
       "<AxesSubplot:xlabel='Income', ylabel='count'>"
      ]
     },
     "execution_count": 24,
     "metadata": {},
     "output_type": "execute_result"
    },
    {
     "data": {
      "image/png": "[encoded data removed]",
      "text/plain": [
       "<Figure size 576x432 with 1 Axes>"
      ]
     },
     "metadata": {
      "needs_background": "light"
     },
     "output_type": "display_data"
    }
   ],
   "source": [
    "# Plotting 'Income'  variable\n",
    "\n",
    "plt.figure(figsize=(8,6))\n",
    "sns.countplot(x='Income',data=df)"
   ]
  },
  {
   "cell_type": "code",
   "execution_count": 25,
   "id": "55d80bc9",
   "metadata": {},
   "outputs": [],
   "source": [
    "# clearly data is unbalanced"
   ]
  },
  {
   "cell_type": "code",
   "execution_count": 26,
   "id": "e127fef9",
   "metadata": {},
   "outputs": [
    {
     "data": {
      "text/plain": [
       "<function matplotlib.pyplot.show(close=None, block=None)>"
      ]
     },
     "execution_count": 26,
     "metadata": {},
     "output_type": "execute_result"
    },
    {
     "data": {
      "image/png": "[encoded data removed]",
      "text/plain": [
       "<Figure size 1008x720 with 16 Axes>"
      ]
     },
     "metadata": {
      "needs_background": "light"
     },
     "output_type": "display_data"
    }
   ],
   "source": [
    "# Checking outliers in data\n",
    "\n",
    "df.plot(kind='box', subplots=True, layout=(4,4), figsize=(14,10), grid=True)\n",
    "plt.show"
   ]
  },
  {
   "cell_type": "code",
   "execution_count": 27,
   "id": "4790e787",
   "metadata": {},
   "outputs": [],
   "source": [
    "# Removing Outliers\n",
    "\n",
    "from scipy.stats import zscore\n",
    "z= np.abs(zscore(df))\n"
   ]
  },
  {
   "cell_type": "code",
   "execution_count": 28,
   "id": "9c767057",
   "metadata": {},
   "outputs": [
    {
     "name": "stdout",
     "output_type": "stream",
     "text": [
      "(array([    0,     0,     0, ..., 30160, 30160, 30160], dtype=int64), array([ 0,  1,  2, ..., 12, 13, 14], dtype=int64))\n"
     ]
    }
   ],
   "source": [
    "threshold = 3\n",
    "print(np.where(z< 3))"
   ]
  },
  {
   "cell_type": "code",
   "execution_count": 29,
   "id": "4ae6c24e",
   "metadata": {},
   "outputs": [],
   "source": [
    "#Removing outliers\n",
    "\n",
    "df_outlier = df[(z< 3).all(axis=1)]"
   ]
  },
  {
   "cell_type": "code",
   "execution_count": 30,
   "id": "ef91e0da",
   "metadata": {},
   "outputs": [
    {
     "data": {
      "text/plain": [
       "(30161, 15)"
      ]
     },
     "execution_count": 30,
     "metadata": {},
     "output_type": "execute_result"
    }
   ],
   "source": [
    "# Rechecking of removal of outliers:\n",
    "\n",
    "df.shape"
   ]
  },
  {
   "cell_type": "code",
   "execution_count": 31,
   "id": "b2b81742",
   "metadata": {},
   "outputs": [
    {
     "data": {
      "text/plain": [
       "(25114, 15)"
      ]
     },
     "execution_count": 31,
     "metadata": {},
     "output_type": "execute_result"
    }
   ],
   "source": [
    "df_outlier.shape"
   ]
  },
  {
   "cell_type": "code",
   "execution_count": 32,
   "id": "21bb6a63",
   "metadata": {},
   "outputs": [],
   "source": [
    "X=df_outlier.drop(['Income'],axis=1)\n",
    "y=df_outlier['Income']"
   ]
  },
  {
   "cell_type": "code",
   "execution_count": 33,
   "id": "14d5d79a",
   "metadata": {},
   "outputs": [
    {
     "data": {
      "text/plain": [
       "Native_country   -5.204681\n",
       "Race             -2.575134\n",
       "Education        -0.963999\n",
       "Sex              -0.688101\n",
       "Hours_per_week   -0.286117\n",
       "Education_num    -0.141015\n",
       "Marital_status   -0.078181\n",
       "Fnlwgt            0.043425\n",
       "Occupation        0.126983\n",
       "Age               0.470614\n",
       "Relationship      0.752051\n",
       "Workclass         1.209807\n",
       "Capital_gain      5.832192\n",
       "Capital_loss      9.792136\n",
       "dtype: float64"
      ]
     },
     "execution_count": 33,
     "metadata": {},
     "output_type": "execute_result"
    }
   ],
   "source": [
    "# Checking skewness in features\n",
    "\n",
    "X.skew().sort_values()"
   ]
  },
  {
   "cell_type": "code",
   "execution_count": 34,
   "id": "90d5ac55",
   "metadata": {},
   "outputs": [],
   "source": [
    "# Removing skewness\n",
    "\n",
    "from sklearn.preprocessing import power_transform\n",
    "z = power_transform(X[0:])\n",
    "data_new= pd.DataFrame(z,columns=X.columns)\n",
    "X = data_new\n"
   ]
  },
  {
   "cell_type": "code",
   "execution_count": 35,
   "id": "a304e158",
   "metadata": {},
   "outputs": [
    {
     "data": {
      "text/plain": [
       "Race             -2.519061\n",
       "Sex              -0.688101\n",
       "Education        -0.309019\n",
       "Fnlwgt           -0.265912\n",
       "Occupation       -0.203356\n",
       "Marital_status   -0.144157\n",
       "Age              -0.113973\n",
       "Education_num     0.035389\n",
       "Relationship      0.103362\n",
       "Hours_per_week    0.114285\n",
       "Workclass         0.123760\n",
       "Native_country    1.389927\n",
       "Capital_gain      4.888910\n",
       "Capital_loss      8.524474\n",
       "dtype: float64"
      ]
     },
     "execution_count": 35,
     "metadata": {},
     "output_type": "execute_result"
    }
   ],
   "source": [
    "# Checking skewness in features\n",
    "\n",
    "X.skew().sort_values()"
   ]
  },
  {
   "cell_type": "code",
   "execution_count": 36,
   "id": "e4f50cb0",
   "metadata": {},
   "outputs": [
    {
     "data": {
      "text/plain": [
       "<function matplotlib.pyplot.show(close=None, block=None)>"
      ]
     },
     "execution_count": 36,
     "metadata": {},
     "output_type": "execute_result"
    },
    {
     "data": {
      "image/png": "[encoded data removed]",
      "text/plain": [
       "<Figure size 1008x720 with 16 Axes>"
      ]
     },
     "metadata": {
      "needs_background": "light"
     },
     "output_type": "display_data"
    }
   ],
   "source": [
    "X.plot(kind='box', subplots=True, layout=(4,4), figsize=(14,10), grid=True)\n",
    "plt.show"
   ]
  },
  {
   "cell_type": "code",
   "execution_count": 37,
   "id": "5fd1f171",
   "metadata": {},
   "outputs": [],
   "source": [
    "# Scaling the dataset\n",
    "\n",
    "\n",
    "from sklearn.preprocessing import MinMaxScaler\n",
    "X=MinMaxScaler().fit_transform(X)"
   ]
  },
  {
   "cell_type": "code",
   "execution_count": 38,
   "id": "bd6089b7",
   "metadata": {},
   "outputs": [
    {
     "name": "stdout",
     "output_type": "stream",
     "text": [
      "best random_state for LogisticRegression :  21\n",
      "best accuracy score for LogisticRegression :  0.8372926343729263\n"
     ]
    }
   ],
   "source": [
    "# Evaluating models\n",
    "\n",
    "# Training the model using LogisticRegression and evaluating the model\n",
    "\n",
    "import numpy as np\n",
    "\n",
    "from sklearn.model_selection import train_test_split\n",
    "\n",
    "model_lr_1 = LogisticRegression()\n",
    "\n",
    "score_s=0\n",
    "state=0\n",
    "for i in range(0,25):\n",
    "    X_train, X_test, y_train, y_test = train_test_split(X,y,test_size=0.3, random_state =i)\n",
    "    model_lr_1.fit(X_train, y_train)\n",
    "    y_pred_lr_1 = model_lr_1.predict(X_test)\n",
    "    score=accuracy_score(y_test,y_pred_lr_1)\n",
    "    if score>score_s:\n",
    "        score_s=score\n",
    "        state=i\n",
    "        \n",
    "print('best random_state for LogisticRegression : ',state)\n",
    "print('best accuracy score for LogisticRegression : ',score_s)"
   ]
  },
  {
   "cell_type": "code",
   "execution_count": 39,
   "id": "f3547f0b",
   "metadata": {},
   "outputs": [
    {
     "name": "stdout",
     "output_type": "stream",
     "text": [
      "              precision    recall  f1-score   support\n",
      "\n",
      "           0       0.86      0.95      0.90      6097\n",
      "           1       0.60      0.34      0.43      1438\n",
      "\n",
      "    accuracy                           0.83      7535\n",
      "   macro avg       0.73      0.64      0.67      7535\n",
      "weighted avg       0.81      0.83      0.81      7535\n",
      "\n"
     ]
    }
   ],
   "source": [
    "# finding classification_report for LogisticRegression \n",
    "\n",
    "print(classification_report(y_test, y_pred_lr_1))"
   ]
  },
  {
   "cell_type": "code",
   "execution_count": 40,
   "id": "33c1bfbb",
   "metadata": {},
   "outputs": [
    {
     "name": "stdout",
     "output_type": "stream",
     "text": [
      "cross_val_score for LogisticRegression :  0.8341056639930112\n"
     ]
    }
   ],
   "source": [
    "# finding cross validation score without removing overfitting\n",
    "\n",
    "cvs = cross_val_score(LogisticRegression(), X_test, y_test, scoring='accuracy', cv = 10).mean()\n",
    "print(\"cross_val_score for LogisticRegression : \",cvs)"
   ]
  },
  {
   "cell_type": "code",
   "execution_count": 41,
   "id": "226a5592",
   "metadata": {},
   "outputs": [
    {
     "data": {
      "image/png": "[encoded data removed]",
      "text/plain": [
       "<Figure size 432x288 with 2 Axes>"
      ]
     },
     "metadata": {
      "needs_background": "light"
     },
     "output_type": "display_data"
    }
   ],
   "source": [
    "# confusion matrix of LogisticRegression model\n",
    "\n",
    "cm=confusion_matrix(y_test,y_pred_lr_1)\n",
    "plt.figure(figsize=(6,4))\n",
    "sns.heatmap(cm,annot=True)\n",
    "plt.xlabel(\"predicted \")\n",
    "plt.ylabel(\"true \")\n",
    "plt.title('Confusion Matrix for LogisticRegression')\n",
    "plt.show()"
   ]
  },
  {
   "cell_type": "code",
   "execution_count": 42,
   "id": "2aa3f053",
   "metadata": {},
   "outputs": [
    {
     "name": "stdout",
     "output_type": "stream",
     "text": [
      "best random_state for DecisionTreeClassifier :  4\n",
      "best accuracy score for DecisionTreeClassifier :  0.8029197080291971\n"
     ]
    }
   ],
   "source": [
    "# Training the model using DecisionTreeClassifier and evaluating the model\n",
    "\n",
    "import numpy as np\n",
    "\n",
    "from sklearn.model_selection import train_test_split\n",
    "\n",
    "model_dtc = DecisionTreeClassifier()\n",
    "\n",
    "score_s=0\n",
    "state=0\n",
    "for i in range(0,25):\n",
    "    X_train, X_test, y_train, y_test = train_test_split(X,y,test_size=0.3, random_state =i)\n",
    "    model_dtc.fit(X_train, y_train)\n",
    "    y_pred_dtc = model_dtc.predict(X_test)\n",
    "    score=accuracy_score(y_test,y_pred_dtc)\n",
    "    if score>score_s:\n",
    "        score_s=score\n",
    "        state=i\n",
    "        \n",
    "print('best random_state for DecisionTreeClassifier : ',state)\n",
    "print('best accuracy score for DecisionTreeClassifier : ',score_s)"
   ]
  },
  {
   "cell_type": "code",
   "execution_count": 43,
   "id": "ae3d063e",
   "metadata": {},
   "outputs": [
    {
     "name": "stdout",
     "output_type": "stream",
     "text": [
      "              precision    recall  f1-score   support\n",
      "\n",
      "           0       0.88      0.86      0.87      6097\n",
      "           1       0.46      0.51      0.48      1438\n",
      "\n",
      "    accuracy                           0.79      7535\n",
      "   macro avg       0.67      0.68      0.68      7535\n",
      "weighted avg       0.80      0.79      0.80      7535\n",
      "\n"
     ]
    }
   ],
   "source": [
    "# finding classification_report for DecisionTreeClassifier\n",
    "\n",
    "print(classification_report(y_test, y_pred_dtc))"
   ]
  },
  {
   "cell_type": "code",
   "execution_count": 44,
   "id": "87688e69",
   "metadata": {},
   "outputs": [
    {
     "name": "stdout",
     "output_type": "stream",
     "text": [
      "cross_val_score for DecisionTreeClassifier  :  0.7937653453383635\n"
     ]
    }
   ],
   "source": [
    "# finding cross validation score for DecisionTreeClassifier \n",
    "\n",
    "cvs = cross_val_score(DecisionTreeClassifier(), X_test, y_test, scoring='accuracy', cv = 10).mean()\n",
    "print(\"cross_val_score for DecisionTreeClassifier  : \",cvs)"
   ]
  },
  {
   "cell_type": "code",
   "execution_count": 45,
   "id": "e8ecf3e2",
   "metadata": {},
   "outputs": [
    {
     "data": {
      "image/png": "[encoded data removed]",
      "text/plain": [
       "<Figure size 432x288 with 2 Axes>"
      ]
     },
     "metadata": {
      "needs_background": "light"
     },
     "output_type": "display_data"
    }
   ],
   "source": [
    "# confusion matrix of DecisionTreeClassifier  model\n",
    "\n",
    "cm=confusion_matrix(y_test,y_pred_dtc)\n",
    "plt.figure(figsize=(6,4))\n",
    "sns.heatmap(cm,annot=True)\n",
    "plt.xlabel(\"predicted \")\n",
    "plt.ylabel(\"true \")\n",
    "plt.title('Confusion Matrix for DecisionTreeClassifier')\n",
    "plt.show()"
   ]
  },
  {
   "cell_type": "code",
   "execution_count": 46,
   "id": "2ab41c1c",
   "metadata": {},
   "outputs": [
    {
     "name": "stdout",
     "output_type": "stream",
     "text": [
      "best accuracy score for SVC model :  0.8321167883211679\n"
     ]
    }
   ],
   "source": [
    "# Training the model using SVC and evaluating the model\n",
    "\n",
    "import numpy as np\n",
    "\n",
    "from sklearn.model_selection import train_test_split\n",
    "\n",
    "model_svc =SVC()\n",
    "\n",
    "X_train, X_test, y_train, y_test = train_test_split(X,y,test_size=0.3, random_state =5)\n",
    "model_svc.fit(X_train, y_train)\n",
    "y_pred_svc = model_svc.predict(X_test)\n",
    "score=accuracy_score(y_test,y_pred_svc)\n",
    "        \n",
    "print('best accuracy score for SVC model : ',score)"
   ]
  },
  {
   "cell_type": "code",
   "execution_count": 47,
   "id": "4a5059a3",
   "metadata": {},
   "outputs": [
    {
     "name": "stdout",
     "output_type": "stream",
     "text": [
      "best random_state :  24\n",
      "best accuracy score :  0.8329130723291307\n"
     ]
    }
   ],
   "source": [
    "# Training the model using  KNeighborsClassifier and evaluating the model\n",
    "\n",
    "import numpy as np\n",
    "\n",
    "from sklearn.model_selection import train_test_split\n",
    "\n",
    "model_knc = KNeighborsClassifier()\n",
    "\n",
    "score_s=0\n",
    "state=0\n",
    "for i in range(0,25):\n",
    "    X_train, X_test, y_train, y_test = train_test_split(X,y,test_size=0.3, random_state =i)\n",
    "    model_knc.fit(X_train, y_train)\n",
    "    y_pred_knc = model_knc.predict(X_test)\n",
    "    score=accuracy_score(y_test,y_pred_knc)\n",
    "    if score>score_s:\n",
    "        score_s=score\n",
    "        state=i\n",
    "        \n",
    "print('best random_state : ',state)\n",
    "print('best accuracy score : ',score_s)"
   ]
  },
  {
   "cell_type": "code",
   "execution_count": 48,
   "id": "ddd0a1b1",
   "metadata": {},
   "outputs": [
    {
     "name": "stdout",
     "output_type": "stream",
     "text": [
      "              precision    recall  f1-score   support\n",
      "\n",
      "           0       0.89      0.91      0.90      6097\n",
      "           1       0.57      0.51      0.54      1438\n",
      "\n",
      "    accuracy                           0.83      7535\n",
      "   macro avg       0.73      0.71      0.72      7535\n",
      "weighted avg       0.83      0.83      0.83      7535\n",
      "\n"
     ]
    }
   ],
   "source": [
    "# finding classification_report for KNeighborsClassifier\n",
    "\n",
    "print(classification_report(y_test, y_pred_knc))"
   ]
  },
  {
   "cell_type": "code",
   "execution_count": 49,
   "id": "fed5f6c9",
   "metadata": {},
   "outputs": [
    {
     "name": "stdout",
     "output_type": "stream",
     "text": [
      "0.8268107058943712\n"
     ]
    }
   ],
   "source": [
    "# finding cross validation score for  KNeighborsClassifier\n",
    "\n",
    "accuracy = cross_val_score( KNeighborsClassifier(), X_test, y_test, scoring='accuracy', cv = 10).mean()\n",
    "print(accuracy)"
   ]
  },
  {
   "cell_type": "code",
   "execution_count": 50,
   "id": "2df77b25",
   "metadata": {},
   "outputs": [],
   "source": [
    "# Comparing accuracy score and cross val score of different models,KNeighborsClassifier model seems to be best \n",
    "# model for this problem"
   ]
  },
  {
   "cell_type": "code",
   "execution_count": 51,
   "id": "057046e3",
   "metadata": {},
   "outputs": [],
   "source": [
    "knn = KNeighborsClassifier()\n",
    "from sklearn.model_selection import GridSearchCV\n",
    "knn_range = list(range(1, 20))\n",
    "param_grid = dict(n_neighbors=knn_range)\n"
   ]
  },
  {
   "cell_type": "code",
   "execution_count": 52,
   "id": "b8c56e40",
   "metadata": {},
   "outputs": [],
   "source": [
    "# defining parameter range\n",
    "grid = GridSearchCV(knn, param_grid, cv=10, scoring='accuracy', return_train_score=False,verbose=1)"
   ]
  },
  {
   "cell_type": "code",
   "execution_count": 53,
   "id": "89cbc736",
   "metadata": {},
   "outputs": [
    {
     "name": "stdout",
     "output_type": "stream",
     "text": [
      "Fitting 10 folds for each of 19 candidates, totalling 190 fits\n"
     ]
    },
    {
     "data": {
      "text/plain": [
       "{'n_neighbors': 16}"
      ]
     },
     "execution_count": 53,
     "metadata": {},
     "output_type": "execute_result"
    }
   ],
   "source": [
    "# fitting the model for grid search\n",
    "grid_search=grid.fit(X_train, y_train)\n",
    "#GCV.fit(x_train,y_train)\n",
    "grid.best_params_  # Printing the best parameter found by GridSearchCV"
   ]
  },
  {
   "cell_type": "code",
   "execution_count": 54,
   "id": "7139ea98",
   "metadata": {},
   "outputs": [
    {
     "data": {
      "text/plain": [
       "0.8436629064366291"
      ]
     },
     "execution_count": 54,
     "metadata": {},
     "output_type": "execute_result"
    }
   ],
   "source": [
    "GCV_pred=grid.best_estimator_.predict(X_test)   # predicting the best parameters\n",
    "accuracy_score(y_test,GCV_pred)    # checking final accuracy"
   ]
  },
  {
   "cell_type": "code",
   "execution_count": null,
   "id": "c44ee33b",
   "metadata": {},
   "outputs": [],
   "source": [
    "# Final accuracy_score clearly states that KNeighborsClassifier model is very good enough to predict 'Income'"
   ]
  },
  {
   "cell_type": "code",
   "execution_count": 61,
   "id": "5e04009e",
   "metadata": {},
   "outputs": [],
   "source": [
    "# AUC_ROC curve\n",
    "\n",
    "X_train, X_test, y_train, y_test = train_test_split(X, y, random_state=25 ,test_size=0.3)\n",
    "\n",
    "knc_1 = KNeighborsClassifier(n_neighbors=1)\n",
    "knc_1.fit(X_train,y_train)\n",
    "y_predicted_knc=knc_1.predict(X_test)"
   ]
  },
  {
   "cell_type": "code",
   "execution_count": 62,
   "id": "6c267986",
   "metadata": {},
   "outputs": [
    {
     "data": {
      "image/png": "[encoded data removed]",
      "text/plain": [
       "<Figure size 432x288 with 1 Axes>"
      ]
     },
     "metadata": {
      "needs_background": "light"
     },
     "output_type": "display_data"
    }
   ],
   "source": [
    "\n",
    "from sklearn.metrics import roc_curve,auc\n",
    "fpr,tpr,thresholds=roc_curve(y_test,y_predicted_knc,pos_label=True)\n",
    "roc_auc=auc(fpr,tpr)\n",
    "\n",
    "plt.figure()\n",
    "plt.plot([0, 1], [0, 1],'r--')\n",
    "plt.plot(fpr,tpr,color='darkorange',lw=10,label='ROC curve(area=%0.2f)'% roc_auc)\n",
    "plt.plot([0,1],[0,1],color='navy',lw=10,linestyle='--')\n",
    "plt.xlabel('false positive rate')\n",
    "plt.ylabel('true positive rate')\n",
    "plt.title('receiver operating characteristic')\n",
    "plt.legend(loc='lower right')\n",
    "plt.show()"
   ]
  },
  {
   "cell_type": "code",
   "execution_count": null,
   "id": "e73fcd4e",
   "metadata": {},
   "outputs": [],
   "source": [
    "# Above roc_curve area clearly states the goodness of  KNeighborsClassifier model for predicting 'Income'"
   ]
  },
  {
   "cell_type": "code",
   "execution_count": 64,
   "id": "1a20fa60",
   "metadata": {},
   "outputs": [],
   "source": [
    "# Exporting the model through pickle\n",
    "\n",
    "import pickle\n",
    "filename='census_income_knn.pkl'\n",
    "pickle.dump(knc_1,open(filename,'wb'))"
   ]
  },
  {
   "cell_type": "code",
   "execution_count": 66,
   "id": "b8c62bec",
   "metadata": {},
   "outputs": [
    {
     "data": {
      "text/html": [
       "<div>\n",
       "<style scoped>\n",
       "    .dataframe tbody tr th:only-of-type {\n",
       "        vertical-align: middle;\n",
       "    }\n",
       "\n",
       "    .dataframe tbody tr th {\n",
       "        vertical-align: top;\n",
       "    }\n",
       "\n",
       "    .dataframe thead th {\n",
       "        text-align: right;\n",
       "    }\n",
       "</style>\n",
       "<table border=\"1\" class=\"dataframe\">\n",
       "  <thead>\n",
       "    <tr style=\"text-align: right;\">\n",
       "      <th></th>\n",
       "      <th>original</th>\n",
       "      <th>predcited</th>\n",
       "    </tr>\n",
       "  </thead>\n",
       "  <tbody>\n",
       "    <tr>\n",
       "      <th>0</th>\n",
       "      <td>0</td>\n",
       "      <td>0</td>\n",
       "    </tr>\n",
       "    <tr>\n",
       "      <th>1</th>\n",
       "      <td>1</td>\n",
       "      <td>1</td>\n",
       "    </tr>\n",
       "    <tr>\n",
       "      <th>2</th>\n",
       "      <td>0</td>\n",
       "      <td>0</td>\n",
       "    </tr>\n",
       "    <tr>\n",
       "      <th>3</th>\n",
       "      <td>0</td>\n",
       "      <td>0</td>\n",
       "    </tr>\n",
       "    <tr>\n",
       "      <th>4</th>\n",
       "      <td>0</td>\n",
       "      <td>0</td>\n",
       "    </tr>\n",
       "    <tr>\n",
       "      <th>5</th>\n",
       "      <td>0</td>\n",
       "      <td>0</td>\n",
       "    </tr>\n",
       "    <tr>\n",
       "      <th>6</th>\n",
       "      <td>0</td>\n",
       "      <td>0</td>\n",
       "    </tr>\n",
       "    <tr>\n",
       "      <th>7</th>\n",
       "      <td>0</td>\n",
       "      <td>0</td>\n",
       "    </tr>\n",
       "    <tr>\n",
       "      <th>8</th>\n",
       "      <td>0</td>\n",
       "      <td>0</td>\n",
       "    </tr>\n",
       "    <tr>\n",
       "      <th>9</th>\n",
       "      <td>0</td>\n",
       "      <td>1</td>\n",
       "    </tr>\n",
       "    <tr>\n",
       "      <th>10</th>\n",
       "      <td>0</td>\n",
       "      <td>0</td>\n",
       "    </tr>\n",
       "    <tr>\n",
       "      <th>11</th>\n",
       "      <td>0</td>\n",
       "      <td>0</td>\n",
       "    </tr>\n",
       "    <tr>\n",
       "      <th>12</th>\n",
       "      <td>1</td>\n",
       "      <td>0</td>\n",
       "    </tr>\n",
       "    <tr>\n",
       "      <th>13</th>\n",
       "      <td>0</td>\n",
       "      <td>0</td>\n",
       "    </tr>\n",
       "    <tr>\n",
       "      <th>14</th>\n",
       "      <td>0</td>\n",
       "      <td>0</td>\n",
       "    </tr>\n",
       "    <tr>\n",
       "      <th>15</th>\n",
       "      <td>0</td>\n",
       "      <td>0</td>\n",
       "    </tr>\n",
       "    <tr>\n",
       "      <th>16</th>\n",
       "      <td>0</td>\n",
       "      <td>1</td>\n",
       "    </tr>\n",
       "    <tr>\n",
       "      <th>17</th>\n",
       "      <td>0</td>\n",
       "      <td>0</td>\n",
       "    </tr>\n",
       "    <tr>\n",
       "      <th>18</th>\n",
       "      <td>0</td>\n",
       "      <td>0</td>\n",
       "    </tr>\n",
       "    <tr>\n",
       "      <th>19</th>\n",
       "      <td>0</td>\n",
       "      <td>0</td>\n",
       "    </tr>\n",
       "  </tbody>\n",
       "</table>\n",
       "</div>"
      ],
      "text/plain": [
       "    original  predcited\n",
       "0          0          0\n",
       "1          1          1\n",
       "2          0          0\n",
       "3          0          0\n",
       "4          0          0\n",
       "5          0          0\n",
       "6          0          0\n",
       "7          0          0\n",
       "8          0          0\n",
       "9          0          1\n",
       "10         0          0\n",
       "11         0          0\n",
       "12         1          0\n",
       "13         0          0\n",
       "14         0          0\n",
       "15         0          0\n",
       "16         0          1\n",
       "17         0          0\n",
       "18         0          0\n",
       "19         0          0"
      ]
     },
     "execution_count": 66,
     "metadata": {},
     "output_type": "execute_result"
    }
   ],
   "source": [
    "# Conclusion:\n",
    "\n",
    "import numpy as np\n",
    "a=np.array(y_test)\n",
    "predicted=np.array(knc_1.predict(X_test))\n",
    "df_com=pd.DataFrame({'original':a,'predcited':predicted},index=range(len(a)))\n",
    "df_com.head(20)"
   ]
  }
 ],
 "metadata": {
  "kernelspec": {
   "display_name": "Python 3",
   "language": "python",
   "name": "python3"
  },
  "language_info": {
   "codemirror_mode": {
    "name": "ipython",
    "version": 3
   },
   "file_extension": ".py",
   "mimetype": "text/x-python",
   "name": "python",
   "nbconvert_exporter": "python",
   "pygments_lexer": "ipython3",
   "version": "3.8.8"
  }
 },
 "nbformat": 4,
 "nbformat_minor": 5
}
