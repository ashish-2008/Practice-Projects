{
 "cells": [
  {
   "cell_type": "code",
   "execution_count": 1,
   "id": "5ca92d32",
   "metadata": {},
   "outputs": [
    {
     "data": {
      "text/html": [
       "<div>\n",
       "<style scoped>\n",
       "    .dataframe tbody tr th:only-of-type {\n",
       "        vertical-align: middle;\n",
       "    }\n",
       "\n",
       "    .dataframe tbody tr th {\n",
       "        vertical-align: top;\n",
       "    }\n",
       "\n",
       "    .dataframe thead th {\n",
       "        text-align: right;\n",
       "    }\n",
       "</style>\n",
       "<table border=\"1\" class=\"dataframe\">\n",
       "  <thead>\n",
       "    <tr style=\"text-align: right;\">\n",
       "      <th></th>\n",
       "      <th>PassengerId</th>\n",
       "      <th>Survived</th>\n",
       "      <th>Pclass</th>\n",
       "      <th>Name</th>\n",
       "      <th>Sex</th>\n",
       "      <th>Age</th>\n",
       "      <th>SibSp</th>\n",
       "      <th>Parch</th>\n",
       "      <th>Ticket</th>\n",
       "      <th>Fare</th>\n",
       "      <th>Cabin</th>\n",
       "      <th>Embarked</th>\n",
       "    </tr>\n",
       "  </thead>\n",
       "  <tbody>\n",
       "    <tr>\n",
       "      <th>0</th>\n",
       "      <td>1</td>\n",
       "      <td>0</td>\n",
       "      <td>3</td>\n",
       "      <td>Braund, Mr. Owen Harris</td>\n",
       "      <td>male</td>\n",
       "      <td>22.0</td>\n",
       "      <td>1</td>\n",
       "      <td>0</td>\n",
       "      <td>A/5 21171</td>\n",
       "      <td>7.2500</td>\n",
       "      <td>NaN</td>\n",
       "      <td>S</td>\n",
       "    </tr>\n",
       "    <tr>\n",
       "      <th>1</th>\n",
       "      <td>2</td>\n",
       "      <td>1</td>\n",
       "      <td>1</td>\n",
       "      <td>Cumings, Mrs. John Bradley (Florence Briggs Th...</td>\n",
       "      <td>female</td>\n",
       "      <td>38.0</td>\n",
       "      <td>1</td>\n",
       "      <td>0</td>\n",
       "      <td>PC 17599</td>\n",
       "      <td>71.2833</td>\n",
       "      <td>C85</td>\n",
       "      <td>C</td>\n",
       "    </tr>\n",
       "    <tr>\n",
       "      <th>2</th>\n",
       "      <td>3</td>\n",
       "      <td>1</td>\n",
       "      <td>3</td>\n",
       "      <td>Heikkinen, Miss. Laina</td>\n",
       "      <td>female</td>\n",
       "      <td>26.0</td>\n",
       "      <td>0</td>\n",
       "      <td>0</td>\n",
       "      <td>STON/O2. 3101282</td>\n",
       "      <td>7.9250</td>\n",
       "      <td>NaN</td>\n",
       "      <td>S</td>\n",
       "    </tr>\n",
       "    <tr>\n",
       "      <th>3</th>\n",
       "      <td>4</td>\n",
       "      <td>1</td>\n",
       "      <td>1</td>\n",
       "      <td>Futrelle, Mrs. Jacques Heath (Lily May Peel)</td>\n",
       "      <td>female</td>\n",
       "      <td>35.0</td>\n",
       "      <td>1</td>\n",
       "      <td>0</td>\n",
       "      <td>113803</td>\n",
       "      <td>53.1000</td>\n",
       "      <td>C123</td>\n",
       "      <td>S</td>\n",
       "    </tr>\n",
       "    <tr>\n",
       "      <th>4</th>\n",
       "      <td>5</td>\n",
       "      <td>0</td>\n",
       "      <td>3</td>\n",
       "      <td>Allen, Mr. William Henry</td>\n",
       "      <td>male</td>\n",
       "      <td>35.0</td>\n",
       "      <td>0</td>\n",
       "      <td>0</td>\n",
       "      <td>373450</td>\n",
       "      <td>8.0500</td>\n",
       "      <td>NaN</td>\n",
       "      <td>S</td>\n",
       "    </tr>\n",
       "  </tbody>\n",
       "</table>\n",
       "</div>"
      ],
      "text/plain": [
       "   PassengerId  Survived  Pclass  \\\n",
       "0            1         0       3   \n",
       "1            2         1       1   \n",
       "2            3         1       3   \n",
       "3            4         1       1   \n",
       "4            5         0       3   \n",
       "\n",
       "                                                Name     Sex   Age  SibSp  \\\n",
       "0                            Braund, Mr. Owen Harris    male  22.0      1   \n",
       "1  Cumings, Mrs. John Bradley (Florence Briggs Th...  female  38.0      1   \n",
       "2                             Heikkinen, Miss. Laina  female  26.0      0   \n",
       "3       Futrelle, Mrs. Jacques Heath (Lily May Peel)  female  35.0      1   \n",
       "4                           Allen, Mr. William Henry    male  35.0      0   \n",
       "\n",
       "   Parch            Ticket     Fare Cabin Embarked  \n",
       "0      0         A/5 21171   7.2500   NaN        S  \n",
       "1      0          PC 17599  71.2833   C85        C  \n",
       "2      0  STON/O2. 3101282   7.9250   NaN        S  \n",
       "3      0            113803  53.1000  C123        S  \n",
       "4      0            373450   8.0500   NaN        S  "
      ]
     },
     "execution_count": 1,
     "metadata": {},
     "output_type": "execute_result"
    }
   ],
   "source": [
    "#Practice project 5 : Titanic Project\n",
    "\n",
    "import pandas as pd\n",
    "import matplotlib.pyplot as plt\n",
    "import seaborn as sns\n",
    "%matplotlib inline\n",
    "from sklearn.preprocessing import LabelEncoder\n",
    "\n",
    "\n",
    "df=pd.read_csv(r'C:\\ProgramData\\titanic_train.csv')\n",
    "df.head()"
   ]
  },
  {
   "cell_type": "code",
   "execution_count": 2,
   "id": "57caeddf",
   "metadata": {},
   "outputs": [
    {
     "data": {
      "text/plain": [
       "(891, 12)"
      ]
     },
     "execution_count": 2,
     "metadata": {},
     "output_type": "execute_result"
    }
   ],
   "source": [
    "df.shape\n",
    "\n",
    "\n",
    "# there are 891 rows and 12 columns in given dataset"
   ]
  },
  {
   "cell_type": "code",
   "execution_count": 3,
   "id": "3549092e",
   "metadata": {},
   "outputs": [
    {
     "name": "stdout",
     "output_type": "stream",
     "text": [
      "<class 'pandas.core.frame.DataFrame'>\n",
      "RangeIndex: 891 entries, 0 to 890\n",
      "Data columns (total 12 columns):\n",
      " #   Column       Non-Null Count  Dtype  \n",
      "---  ------       --------------  -----  \n",
      " 0   PassengerId  891 non-null    int64  \n",
      " 1   Survived     891 non-null    int64  \n",
      " 2   Pclass       891 non-null    int64  \n",
      " 3   Name         891 non-null    object \n",
      " 4   Sex          891 non-null    object \n",
      " 5   Age          714 non-null    float64\n",
      " 6   SibSp        891 non-null    int64  \n",
      " 7   Parch        891 non-null    int64  \n",
      " 8   Ticket       891 non-null    object \n",
      " 9   Fare         891 non-null    float64\n",
      " 10  Cabin        204 non-null    object \n",
      " 11  Embarked     889 non-null    object \n",
      "dtypes: float64(2), int64(5), object(5)\n",
      "memory usage: 83.7+ KB\n"
     ]
    }
   ],
   "source": [
    "# Exploratory Data Analysis\n",
    "\n",
    "df.info()"
   ]
  },
  {
   "cell_type": "code",
   "execution_count": 4,
   "id": "7476b597",
   "metadata": {},
   "outputs": [],
   "source": [
    "# There are missing values at Age, Cabin, and Embarked columns of dataset.\n",
    "# 2 of the features are floats, 5 are integers and 5 are objects\n",
    "\n",
    "# short description of features :\n",
    "\n",
    "#survival:    Survival \n",
    "#PassengerId: Unique Id of a passenger. \n",
    "#pclass:    Ticket class     \n",
    "#sex:    Sex     \n",
    "#Age:    Age in years     \n",
    "#sibsp:    # of siblings / spouses aboard the Titanic     \n",
    "#parch:    # of parents / children aboard the Titanic     \n",
    "#ticket:    Ticket number     \n",
    "#fare:    Passenger fare     \n",
    "#cabin:    Cabin number     \n",
    "#embarked:   embarked port"
   ]
  },
  {
   "cell_type": "code",
   "execution_count": 5,
   "id": "37166391",
   "metadata": {
    "scrolled": true
   },
   "outputs": [
    {
     "data": {
      "text/html": [
       "<div>\n",
       "<style scoped>\n",
       "    .dataframe tbody tr th:only-of-type {\n",
       "        vertical-align: middle;\n",
       "    }\n",
       "\n",
       "    .dataframe tbody tr th {\n",
       "        vertical-align: top;\n",
       "    }\n",
       "\n",
       "    .dataframe thead th {\n",
       "        text-align: right;\n",
       "    }\n",
       "</style>\n",
       "<table border=\"1\" class=\"dataframe\">\n",
       "  <thead>\n",
       "    <tr style=\"text-align: right;\">\n",
       "      <th></th>\n",
       "      <th>PassengerId</th>\n",
       "      <th>Survived</th>\n",
       "      <th>Pclass</th>\n",
       "      <th>Age</th>\n",
       "      <th>SibSp</th>\n",
       "      <th>Parch</th>\n",
       "      <th>Fare</th>\n",
       "    </tr>\n",
       "  </thead>\n",
       "  <tbody>\n",
       "    <tr>\n",
       "      <th>count</th>\n",
       "      <td>891.000000</td>\n",
       "      <td>891.000000</td>\n",
       "      <td>891.000000</td>\n",
       "      <td>714.000000</td>\n",
       "      <td>891.000000</td>\n",
       "      <td>891.000000</td>\n",
       "      <td>891.000000</td>\n",
       "    </tr>\n",
       "    <tr>\n",
       "      <th>mean</th>\n",
       "      <td>446.000000</td>\n",
       "      <td>0.383838</td>\n",
       "      <td>2.308642</td>\n",
       "      <td>29.699118</td>\n",
       "      <td>0.523008</td>\n",
       "      <td>0.381594</td>\n",
       "      <td>32.204208</td>\n",
       "    </tr>\n",
       "    <tr>\n",
       "      <th>std</th>\n",
       "      <td>257.353842</td>\n",
       "      <td>0.486592</td>\n",
       "      <td>0.836071</td>\n",
       "      <td>14.526497</td>\n",
       "      <td>1.102743</td>\n",
       "      <td>0.806057</td>\n",
       "      <td>49.693429</td>\n",
       "    </tr>\n",
       "    <tr>\n",
       "      <th>min</th>\n",
       "      <td>1.000000</td>\n",
       "      <td>0.000000</td>\n",
       "      <td>1.000000</td>\n",
       "      <td>0.420000</td>\n",
       "      <td>0.000000</td>\n",
       "      <td>0.000000</td>\n",
       "      <td>0.000000</td>\n",
       "    </tr>\n",
       "    <tr>\n",
       "      <th>25%</th>\n",
       "      <td>223.500000</td>\n",
       "      <td>0.000000</td>\n",
       "      <td>2.000000</td>\n",
       "      <td>20.125000</td>\n",
       "      <td>0.000000</td>\n",
       "      <td>0.000000</td>\n",
       "      <td>7.910400</td>\n",
       "    </tr>\n",
       "    <tr>\n",
       "      <th>50%</th>\n",
       "      <td>446.000000</td>\n",
       "      <td>0.000000</td>\n",
       "      <td>3.000000</td>\n",
       "      <td>28.000000</td>\n",
       "      <td>0.000000</td>\n",
       "      <td>0.000000</td>\n",
       "      <td>14.454200</td>\n",
       "    </tr>\n",
       "    <tr>\n",
       "      <th>75%</th>\n",
       "      <td>668.500000</td>\n",
       "      <td>1.000000</td>\n",
       "      <td>3.000000</td>\n",
       "      <td>38.000000</td>\n",
       "      <td>1.000000</td>\n",
       "      <td>0.000000</td>\n",
       "      <td>31.000000</td>\n",
       "    </tr>\n",
       "    <tr>\n",
       "      <th>max</th>\n",
       "      <td>891.000000</td>\n",
       "      <td>1.000000</td>\n",
       "      <td>3.000000</td>\n",
       "      <td>80.000000</td>\n",
       "      <td>8.000000</td>\n",
       "      <td>6.000000</td>\n",
       "      <td>512.329200</td>\n",
       "    </tr>\n",
       "  </tbody>\n",
       "</table>\n",
       "</div>"
      ],
      "text/plain": [
       "       PassengerId    Survived      Pclass         Age       SibSp  \\\n",
       "count   891.000000  891.000000  891.000000  714.000000  891.000000   \n",
       "mean    446.000000    0.383838    2.308642   29.699118    0.523008   \n",
       "std     257.353842    0.486592    0.836071   14.526497    1.102743   \n",
       "min       1.000000    0.000000    1.000000    0.420000    0.000000   \n",
       "25%     223.500000    0.000000    2.000000   20.125000    0.000000   \n",
       "50%     446.000000    0.000000    3.000000   28.000000    0.000000   \n",
       "75%     668.500000    1.000000    3.000000   38.000000    1.000000   \n",
       "max     891.000000    1.000000    3.000000   80.000000    8.000000   \n",
       "\n",
       "            Parch        Fare  \n",
       "count  891.000000  891.000000  \n",
       "mean     0.381594   32.204208  \n",
       "std      0.806057   49.693429  \n",
       "min      0.000000    0.000000  \n",
       "25%      0.000000    7.910400  \n",
       "50%      0.000000   14.454200  \n",
       "75%      0.000000   31.000000  \n",
       "max      6.000000  512.329200  "
      ]
     },
     "execution_count": 5,
     "metadata": {},
     "output_type": "execute_result"
    }
   ],
   "source": [
    "df.describe()"
   ]
  },
  {
   "cell_type": "code",
   "execution_count": 6,
   "id": "6d5994f2",
   "metadata": {},
   "outputs": [],
   "source": [
    "# Above we can see that 38% out of the training-set survived the Titanic.\n",
    "# We can also see that the passenger ages range from 0.4 to 80"
   ]
  },
  {
   "cell_type": "code",
   "execution_count": 7,
   "id": "bf2745d5",
   "metadata": {},
   "outputs": [
    {
     "data": {
      "text/plain": [
       "PassengerId      0\n",
       "Survived         0\n",
       "Pclass           0\n",
       "Name             0\n",
       "Sex              0\n",
       "Age            177\n",
       "SibSp            0\n",
       "Parch            0\n",
       "Ticket           0\n",
       "Fare             0\n",
       "Cabin          687\n",
       "Embarked         2\n",
       "dtype: int64"
      ]
     },
     "execution_count": 7,
     "metadata": {},
     "output_type": "execute_result"
    }
   ],
   "source": [
    "# checking null values in dataset\n",
    "\n",
    "df.isnull().sum()\n",
    "\n",
    "# below data shows ,there are no null values in dataset"
   ]
  },
  {
   "cell_type": "code",
   "execution_count": 8,
   "id": "32cdc0bb",
   "metadata": {},
   "outputs": [],
   "source": [
    "#Clearly we see that age and cabin variable has maximum null values along with 2 null values for embarked variable\n",
    "# And cabin variable has 70% data as null values , so its better to drop it."
   ]
  },
  {
   "cell_type": "code",
   "execution_count": 9,
   "id": "7269b8f2",
   "metadata": {},
   "outputs": [],
   "source": [
    "#filling age variable null values with mean of age variable\n",
    "\n",
    "df['Age'].fillna(df['Age'].mean(),inplace=True)"
   ]
  },
  {
   "cell_type": "code",
   "execution_count": 10,
   "id": "2079ac2f",
   "metadata": {},
   "outputs": [
    {
     "data": {
      "text/plain": [
       "PassengerId      0\n",
       "Survived         0\n",
       "Pclass           0\n",
       "Name             0\n",
       "Sex              0\n",
       "Age              0\n",
       "SibSp            0\n",
       "Parch            0\n",
       "Ticket           0\n",
       "Fare             0\n",
       "Cabin          687\n",
       "Embarked         2\n",
       "dtype: int64"
      ]
     },
     "execution_count": 10,
     "metadata": {},
     "output_type": "execute_result"
    }
   ],
   "source": [
    "# checking if age variable has null value or not \n",
    "\n",
    "df.isnull().sum()"
   ]
  },
  {
   "cell_type": "code",
   "execution_count": 11,
   "id": "92267df0",
   "metadata": {},
   "outputs": [
    {
     "data": {
      "text/plain": [
       "S    644\n",
       "C    168\n",
       "Q     77\n",
       "Name: Embarked, dtype: int64"
      ]
     },
     "execution_count": 11,
     "metadata": {},
     "output_type": "execute_result"
    }
   ],
   "source": [
    "df['Embarked'].value_counts()"
   ]
  },
  {
   "cell_type": "code",
   "execution_count": 12,
   "id": "6a8efff7",
   "metadata": {},
   "outputs": [],
   "source": [
    "# We have 'S' with maximum values in 'Embarked' variable ,so we will fill null values in 'Embarked' with 'S'\n",
    "\n",
    "fill='S'\n",
    "df['Embarked'].fillna(fill,inplace=True)"
   ]
  },
  {
   "cell_type": "code",
   "execution_count": 13,
   "id": "7318e29e",
   "metadata": {},
   "outputs": [
    {
     "data": {
      "text/plain": [
       "PassengerId      0\n",
       "Survived         0\n",
       "Pclass           0\n",
       "Name             0\n",
       "Sex              0\n",
       "Age              0\n",
       "SibSp            0\n",
       "Parch            0\n",
       "Ticket           0\n",
       "Fare             0\n",
       "Cabin          687\n",
       "Embarked         0\n",
       "dtype: int64"
      ]
     },
     "execution_count": 13,
     "metadata": {},
     "output_type": "execute_result"
    }
   ],
   "source": [
    "# checking for embarked variables null values\n",
    "\n",
    "df.isnull().sum()"
   ]
  },
  {
   "cell_type": "code",
   "execution_count": 14,
   "id": "63c55748",
   "metadata": {},
   "outputs": [],
   "source": [
    "# Exploratory Data Analsysis\n",
    "\n",
    "# The 'Sex' variable data is categorical so we will use LabelEncoder to convert it to ordinal.\n",
    "\n",
    "le=LabelEncoder()\n",
    "\n",
    "df['Sex']=le.fit_transform(df['Sex'])"
   ]
  },
  {
   "cell_type": "code",
   "execution_count": 15,
   "id": "85b59517",
   "metadata": {},
   "outputs": [],
   "source": [
    "# # The 'Embarked' variable data is categorical so we will use LabelEncoder to convert it to ordinal.\n",
    "\n",
    "df['Embarked']=le.fit_transform(df['Embarked'])"
   ]
  },
  {
   "cell_type": "code",
   "execution_count": 16,
   "id": "2519d3d8",
   "metadata": {},
   "outputs": [
    {
     "data": {
      "text/html": [
       "<div>\n",
       "<style scoped>\n",
       "    .dataframe tbody tr th:only-of-type {\n",
       "        vertical-align: middle;\n",
       "    }\n",
       "\n",
       "    .dataframe tbody tr th {\n",
       "        vertical-align: top;\n",
       "    }\n",
       "\n",
       "    .dataframe thead th {\n",
       "        text-align: right;\n",
       "    }\n",
       "</style>\n",
       "<table border=\"1\" class=\"dataframe\">\n",
       "  <thead>\n",
       "    <tr style=\"text-align: right;\">\n",
       "      <th></th>\n",
       "      <th>PassengerId</th>\n",
       "      <th>Survived</th>\n",
       "      <th>Pclass</th>\n",
       "      <th>Name</th>\n",
       "      <th>Sex</th>\n",
       "      <th>Age</th>\n",
       "      <th>SibSp</th>\n",
       "      <th>Parch</th>\n",
       "      <th>Ticket</th>\n",
       "      <th>Fare</th>\n",
       "      <th>Cabin</th>\n",
       "      <th>Embarked</th>\n",
       "    </tr>\n",
       "  </thead>\n",
       "  <tbody>\n",
       "    <tr>\n",
       "      <th>0</th>\n",
       "      <td>1</td>\n",
       "      <td>0</td>\n",
       "      <td>3</td>\n",
       "      <td>Braund, Mr. Owen Harris</td>\n",
       "      <td>1</td>\n",
       "      <td>22.0</td>\n",
       "      <td>1</td>\n",
       "      <td>0</td>\n",
       "      <td>A/5 21171</td>\n",
       "      <td>7.2500</td>\n",
       "      <td>NaN</td>\n",
       "      <td>2</td>\n",
       "    </tr>\n",
       "    <tr>\n",
       "      <th>1</th>\n",
       "      <td>2</td>\n",
       "      <td>1</td>\n",
       "      <td>1</td>\n",
       "      <td>Cumings, Mrs. John Bradley (Florence Briggs Th...</td>\n",
       "      <td>0</td>\n",
       "      <td>38.0</td>\n",
       "      <td>1</td>\n",
       "      <td>0</td>\n",
       "      <td>PC 17599</td>\n",
       "      <td>71.2833</td>\n",
       "      <td>C85</td>\n",
       "      <td>0</td>\n",
       "    </tr>\n",
       "    <tr>\n",
       "      <th>2</th>\n",
       "      <td>3</td>\n",
       "      <td>1</td>\n",
       "      <td>3</td>\n",
       "      <td>Heikkinen, Miss. Laina</td>\n",
       "      <td>0</td>\n",
       "      <td>26.0</td>\n",
       "      <td>0</td>\n",
       "      <td>0</td>\n",
       "      <td>STON/O2. 3101282</td>\n",
       "      <td>7.9250</td>\n",
       "      <td>NaN</td>\n",
       "      <td>2</td>\n",
       "    </tr>\n",
       "    <tr>\n",
       "      <th>3</th>\n",
       "      <td>4</td>\n",
       "      <td>1</td>\n",
       "      <td>1</td>\n",
       "      <td>Futrelle, Mrs. Jacques Heath (Lily May Peel)</td>\n",
       "      <td>0</td>\n",
       "      <td>35.0</td>\n",
       "      <td>1</td>\n",
       "      <td>0</td>\n",
       "      <td>113803</td>\n",
       "      <td>53.1000</td>\n",
       "      <td>C123</td>\n",
       "      <td>2</td>\n",
       "    </tr>\n",
       "    <tr>\n",
       "      <th>4</th>\n",
       "      <td>5</td>\n",
       "      <td>0</td>\n",
       "      <td>3</td>\n",
       "      <td>Allen, Mr. William Henry</td>\n",
       "      <td>1</td>\n",
       "      <td>35.0</td>\n",
       "      <td>0</td>\n",
       "      <td>0</td>\n",
       "      <td>373450</td>\n",
       "      <td>8.0500</td>\n",
       "      <td>NaN</td>\n",
       "      <td>2</td>\n",
       "    </tr>\n",
       "  </tbody>\n",
       "</table>\n",
       "</div>"
      ],
      "text/plain": [
       "   PassengerId  Survived  Pclass  \\\n",
       "0            1         0       3   \n",
       "1            2         1       1   \n",
       "2            3         1       3   \n",
       "3            4         1       1   \n",
       "4            5         0       3   \n",
       "\n",
       "                                                Name  Sex   Age  SibSp  Parch  \\\n",
       "0                            Braund, Mr. Owen Harris    1  22.0      1      0   \n",
       "1  Cumings, Mrs. John Bradley (Florence Briggs Th...    0  38.0      1      0   \n",
       "2                             Heikkinen, Miss. Laina    0  26.0      0      0   \n",
       "3       Futrelle, Mrs. Jacques Heath (Lily May Peel)    0  35.0      1      0   \n",
       "4                           Allen, Mr. William Henry    1  35.0      0      0   \n",
       "\n",
       "             Ticket     Fare Cabin  Embarked  \n",
       "0         A/5 21171   7.2500   NaN         2  \n",
       "1          PC 17599  71.2833   C85         0  \n",
       "2  STON/O2. 3101282   7.9250   NaN         2  \n",
       "3            113803  53.1000  C123         2  \n",
       "4            373450   8.0500   NaN         2  "
      ]
     },
     "execution_count": 16,
     "metadata": {},
     "output_type": "execute_result"
    }
   ],
   "source": [
    "df.head()"
   ]
  },
  {
   "cell_type": "code",
   "execution_count": 17,
   "id": "6da0b8b1",
   "metadata": {},
   "outputs": [
    {
     "data": {
      "text/html": [
       "<div>\n",
       "<style scoped>\n",
       "    .dataframe tbody tr th:only-of-type {\n",
       "        vertical-align: middle;\n",
       "    }\n",
       "\n",
       "    .dataframe tbody tr th {\n",
       "        vertical-align: top;\n",
       "    }\n",
       "\n",
       "    .dataframe thead th {\n",
       "        text-align: right;\n",
       "    }\n",
       "</style>\n",
       "<table border=\"1\" class=\"dataframe\">\n",
       "  <thead>\n",
       "    <tr style=\"text-align: right;\">\n",
       "      <th></th>\n",
       "      <th>Sex</th>\n",
       "      <th>Survived</th>\n",
       "    </tr>\n",
       "  </thead>\n",
       "  <tbody>\n",
       "    <tr>\n",
       "      <th>0</th>\n",
       "      <td>0</td>\n",
       "      <td>0.742038</td>\n",
       "    </tr>\n",
       "    <tr>\n",
       "      <th>1</th>\n",
       "      <td>1</td>\n",
       "      <td>0.188908</td>\n",
       "    </tr>\n",
       "  </tbody>\n",
       "</table>\n",
       "</div>"
      ],
      "text/plain": [
       "   Sex  Survived\n",
       "0    0  0.742038\n",
       "1    1  0.188908"
      ]
     },
     "execution_count": 17,
     "metadata": {},
     "output_type": "execute_result"
    }
   ],
   "source": [
    "# Analyszing features by using plots : \n",
    "\n",
    "df[['Sex', 'Survived']].groupby(['Sex'], as_index=False).mean()"
   ]
  },
  {
   "cell_type": "code",
   "execution_count": 18,
   "id": "60f80f52",
   "metadata": {},
   "outputs": [
    {
     "name": "stderr",
     "output_type": "stream",
     "text": [
      "C:\\ProgramData\\Anaconda3\\lib\\site-packages\\seaborn\\_decorators.py:36: FutureWarning: Pass the following variable as a keyword arg: x. From version 0.12, the only valid positional argument will be `data`, and passing other arguments without an explicit keyword will result in an error or misinterpretation.\n",
      "  warnings.warn(\n"
     ]
    },
    {
     "data": {
      "text/plain": [
       "<AxesSubplot:xlabel='Survived', ylabel='count'>"
      ]
     },
     "execution_count": 18,
     "metadata": {},
     "output_type": "execute_result"
    },
    {
     "data": {
      "image/png": "[encoded data removed]",
      "text/plain": [
       "<Figure size 432x288 with 1 Axes>"
      ]
     },
     "metadata": {
      "needs_background": "light"
     },
     "output_type": "display_data"
    }
   ],
   "source": [
    "sns.countplot(df[\"Survived\"], hue=df[\"Sex\"])"
   ]
  },
  {
   "cell_type": "code",
   "execution_count": 19,
   "id": "6b3764ca",
   "metadata": {},
   "outputs": [],
   "source": [
    "# looking at the gender vs surviving rates, the results look interesting. \n",
    "# The surviving ratio in females is much more than males’.\n",
    "# According to this data, there is a strong correlation between survived and sex columns."
   ]
  },
  {
   "cell_type": "code",
   "execution_count": 20,
   "id": "94ce68db",
   "metadata": {},
   "outputs": [
    {
     "data": {
      "text/html": [
       "<div>\n",
       "<style scoped>\n",
       "    .dataframe tbody tr th:only-of-type {\n",
       "        vertical-align: middle;\n",
       "    }\n",
       "\n",
       "    .dataframe tbody tr th {\n",
       "        vertical-align: top;\n",
       "    }\n",
       "\n",
       "    .dataframe thead th {\n",
       "        text-align: right;\n",
       "    }\n",
       "</style>\n",
       "<table border=\"1\" class=\"dataframe\">\n",
       "  <thead>\n",
       "    <tr style=\"text-align: right;\">\n",
       "      <th></th>\n",
       "      <th>Embarked</th>\n",
       "      <th>Survived</th>\n",
       "    </tr>\n",
       "  </thead>\n",
       "  <tbody>\n",
       "    <tr>\n",
       "      <th>0</th>\n",
       "      <td>0</td>\n",
       "      <td>0.553571</td>\n",
       "    </tr>\n",
       "    <tr>\n",
       "      <th>1</th>\n",
       "      <td>1</td>\n",
       "      <td>0.389610</td>\n",
       "    </tr>\n",
       "    <tr>\n",
       "      <th>2</th>\n",
       "      <td>2</td>\n",
       "      <td>0.339009</td>\n",
       "    </tr>\n",
       "  </tbody>\n",
       "</table>\n",
       "</div>"
      ],
      "text/plain": [
       "   Embarked  Survived\n",
       "0         0  0.553571\n",
       "1         1  0.389610\n",
       "2         2  0.339009"
      ]
     },
     "execution_count": 20,
     "metadata": {},
     "output_type": "execute_result"
    }
   ],
   "source": [
    "# point of embarked\n",
    "\n",
    "df[['Embarked', 'Survived']].groupby(['Embarked'], as_index=False).mean()"
   ]
  },
  {
   "cell_type": "code",
   "execution_count": 21,
   "id": "6df70a37",
   "metadata": {},
   "outputs": [
    {
     "name": "stderr",
     "output_type": "stream",
     "text": [
      "C:\\ProgramData\\Anaconda3\\lib\\site-packages\\seaborn\\_decorators.py:36: FutureWarning: Pass the following variable as a keyword arg: x. From version 0.12, the only valid positional argument will be `data`, and passing other arguments without an explicit keyword will result in an error or misinterpretation.\n",
      "  warnings.warn(\n"
     ]
    },
    {
     "data": {
      "text/plain": [
       "<AxesSubplot:xlabel='Survived', ylabel='count'>"
      ]
     },
     "execution_count": 21,
     "metadata": {},
     "output_type": "execute_result"
    },
    {
     "data": {
      "image/png": "[encoded data removed]",
      "text/plain": [
       "<Figure size 432x288 with 1 Axes>"
      ]
     },
     "metadata": {
      "needs_background": "light"
     },
     "output_type": "display_data"
    }
   ],
   "source": [
    "sns.countplot(df[\"Survived\"], hue=df[\"Embarked\"])"
   ]
  },
  {
   "cell_type": "code",
   "execution_count": 22,
   "id": "ba812288",
   "metadata": {},
   "outputs": [],
   "source": [
    "# Above plot clearly shows that the surviving ratio of passengers who were embarked from 'C' have a higher surviving ratio."
   ]
  },
  {
   "cell_type": "code",
   "execution_count": 23,
   "id": "83a5cbf8",
   "metadata": {},
   "outputs": [
    {
     "data": {
      "text/html": [
       "<div>\n",
       "<style scoped>\n",
       "    .dataframe tbody tr th:only-of-type {\n",
       "        vertical-align: middle;\n",
       "    }\n",
       "\n",
       "    .dataframe tbody tr th {\n",
       "        vertical-align: top;\n",
       "    }\n",
       "\n",
       "    .dataframe thead th {\n",
       "        text-align: right;\n",
       "    }\n",
       "</style>\n",
       "<table border=\"1\" class=\"dataframe\">\n",
       "  <thead>\n",
       "    <tr style=\"text-align: right;\">\n",
       "      <th></th>\n",
       "      <th>Pclass</th>\n",
       "      <th>Survived</th>\n",
       "    </tr>\n",
       "  </thead>\n",
       "  <tbody>\n",
       "    <tr>\n",
       "      <th>0</th>\n",
       "      <td>1</td>\n",
       "      <td>0.629630</td>\n",
       "    </tr>\n",
       "    <tr>\n",
       "      <th>1</th>\n",
       "      <td>2</td>\n",
       "      <td>0.472826</td>\n",
       "    </tr>\n",
       "    <tr>\n",
       "      <th>2</th>\n",
       "      <td>3</td>\n",
       "      <td>0.242363</td>\n",
       "    </tr>\n",
       "  </tbody>\n",
       "</table>\n",
       "</div>"
      ],
      "text/plain": [
       "   Pclass  Survived\n",
       "0       1  0.629630\n",
       "1       2  0.472826\n",
       "2       3  0.242363"
      ]
     },
     "execution_count": 23,
     "metadata": {},
     "output_type": "execute_result"
    }
   ],
   "source": [
    "# passenger class\n",
    "\n",
    "\n",
    "df[['Pclass', 'Survived']].groupby(['Pclass'],as_index=False).mean()"
   ]
  },
  {
   "cell_type": "code",
   "execution_count": 24,
   "id": "33b0f3ea",
   "metadata": {},
   "outputs": [
    {
     "name": "stderr",
     "output_type": "stream",
     "text": [
      "C:\\ProgramData\\Anaconda3\\lib\\site-packages\\seaborn\\_decorators.py:36: FutureWarning: Pass the following variable as a keyword arg: x. From version 0.12, the only valid positional argument will be `data`, and passing other arguments without an explicit keyword will result in an error or misinterpretation.\n",
      "  warnings.warn(\n"
     ]
    },
    {
     "data": {
      "text/plain": [
       "<AxesSubplot:xlabel='Survived', ylabel='count'>"
      ]
     },
     "execution_count": 24,
     "metadata": {},
     "output_type": "execute_result"
    },
    {
     "data": {
      "image/png": "[encoded data removed]",
      "text/plain": [
       "<Figure size 432x288 with 1 Axes>"
      ]
     },
     "metadata": {
      "needs_background": "light"
     },
     "output_type": "display_data"
    }
   ],
   "source": [
    "sns.countplot(df[\"Survived\"], hue=df[\"Pclass\"])"
   ]
  },
  {
   "cell_type": "code",
   "execution_count": 25,
   "id": "f25a37cc",
   "metadata": {},
   "outputs": [],
   "source": [
    "# The majority of passengers from the upper class have survived. A large number of 3rd class did not survive."
   ]
  },
  {
   "cell_type": "code",
   "execution_count": 26,
   "id": "415801d0",
   "metadata": {},
   "outputs": [
    {
     "data": {
      "image/png": "[encoded data removed]",
      "text/plain": [
       "<Figure size 1008x432 with 2 Axes>"
      ]
     },
     "metadata": {
      "needs_background": "light"
     },
     "output_type": "display_data"
    }
   ],
   "source": [
    "# checking correlation of independent variables with 'Survived' variable\n",
    "\n",
    "plt.figure(figsize=(14,6))\n",
    "corr_matrix=df.corr()\n",
    "sns.heatmap(corr_matrix,annot=True)\n",
    "plt.show()"
   ]
  },
  {
   "cell_type": "code",
   "execution_count": 27,
   "id": "3aed0568",
   "metadata": {},
   "outputs": [
    {
     "data": {
      "text/plain": [
       "Survived       1.000000\n",
       "Fare           0.257307\n",
       "Parch          0.081629\n",
       "PassengerId   -0.005007\n",
       "SibSp         -0.035322\n",
       "Age           -0.069809\n",
       "Embarked      -0.167675\n",
       "Pclass        -0.338481\n",
       "Sex           -0.543351\n",
       "Name: Survived, dtype: float64"
      ]
     },
     "execution_count": 27,
     "metadata": {},
     "output_type": "execute_result"
    }
   ],
   "source": [
    "corr_matrix['Survived'].sort_values(ascending = False)"
   ]
  },
  {
   "cell_type": "code",
   "execution_count": 28,
   "id": "c100bf27",
   "metadata": {},
   "outputs": [],
   "source": [
    "# Above  heat map clealry states that there is a very strong correlation between surviving and sex,plcass and fare "
   ]
  },
  {
   "cell_type": "code",
   "execution_count": 29,
   "id": "341d699d",
   "metadata": {},
   "outputs": [],
   "source": [
    "#  we can drop passenger id ,name from the dataset as it has no role to play,ticket, and cabin as it has 70 % null values"
   ]
  },
  {
   "cell_type": "code",
   "execution_count": 30,
   "id": "9f2ec806",
   "metadata": {},
   "outputs": [],
   "source": [
    "#  Dropping passenger id , ticket, and cabin from dataset\n",
    "\n",
    "df.drop(['PassengerId','Ticket','Cabin'],axis=1,inplace=True)"
   ]
  },
  {
   "cell_type": "code",
   "execution_count": 31,
   "id": "5ecc12bf",
   "metadata": {},
   "outputs": [],
   "source": [
    "df.drop(['Name'],axis=1,inplace=True)"
   ]
  },
  {
   "cell_type": "code",
   "execution_count": 32,
   "id": "d1356950",
   "metadata": {},
   "outputs": [
    {
     "data": {
      "text/plain": [
       "Embarked   -1.264823\n",
       "Pclass     -0.630548\n",
       "Sex        -0.618921\n",
       "Age         0.434488\n",
       "Survived    0.478523\n",
       "Parch       2.749117\n",
       "SibSp       3.695352\n",
       "Fare        4.787317\n",
       "dtype: float64"
      ]
     },
     "execution_count": 32,
     "metadata": {},
     "output_type": "execute_result"
    }
   ],
   "source": [
    "# checking skewness in dataset\n",
    "\n",
    "df.skew().sort_values()"
   ]
  },
  {
   "cell_type": "code",
   "execution_count": 33,
   "id": "ebfaed19",
   "metadata": {},
   "outputs": [
    {
     "data": {
      "text/plain": [
       "Parch       1.228795\n",
       "SibSp       0.808608\n",
       "Survived    0.478523\n",
       "Age         0.064420\n",
       "Fare       -0.040329\n",
       "Pclass     -0.441438\n",
       "Sex        -0.618921\n",
       "Embarked   -1.064527\n",
       "dtype: float64"
      ]
     },
     "execution_count": 33,
     "metadata": {},
     "output_type": "execute_result"
    }
   ],
   "source": [
    "#removing skewness keeping threshold +/-1.5\n",
    "\n",
    "\n",
    "from sklearn.preprocessing import power_transform\n",
    "x_new=power_transform(df)\n",
    "\n",
    "df_new=pd.DataFrame(x_new,columns=df.columns)\n",
    "\n",
    "df_new.skew().sort_values(ascending=False)"
   ]
  },
  {
   "cell_type": "code",
   "execution_count": 34,
   "id": "dbf231c3",
   "metadata": {},
   "outputs": [
    {
     "data": {
      "text/plain": [
       "<function matplotlib.pyplot.show(close=None, block=None)>"
      ]
     },
     "execution_count": 34,
     "metadata": {},
     "output_type": "execute_result"
    },
    {
     "data": {
      "image/png": "[encoded data removed]",
      "text/plain": [
       "<Figure size 1008x720 with 16 Axes>"
      ]
     },
     "metadata": {
      "needs_background": "light"
     },
     "output_type": "display_data"
    }
   ],
   "source": [
    "# checking outliers in features\n",
    "\n",
    "df_new.plot(kind='box', subplots=True, layout=(4,4), figsize=(14,10), grid=True)\n",
    "plt.show"
   ]
  },
  {
   "cell_type": "code",
   "execution_count": 35,
   "id": "1b5c91d6",
   "metadata": {},
   "outputs": [],
   "source": [
    "# Clearly from above only Age,Parch,Fare have outliers"
   ]
  },
  {
   "cell_type": "code",
   "execution_count": 36,
   "id": "d36eb768",
   "metadata": {},
   "outputs": [
    {
     "name": "stdout",
     "output_type": "stream",
     "text": [
      "[[0.78927234 0.86397329 0.73769513 ... 0.56025296 0.87882001 0.61041095]\n",
      " [1.2669898  1.45912855 1.35557354 ... 0.56025296 1.33665056 1.78052001]\n",
      " [1.2669898  0.86397329 1.35557354 ... 0.56025296 0.79006485 0.61041095]\n",
      " ...\n",
      " [0.78927234 0.86397329 1.35557354 ... 1.84685634 0.28888536 0.61041095]\n",
      " [1.2669898  1.45912855 0.73769513 ... 0.56025296 0.52790578 1.78052001]\n",
      " [0.78927234 0.86397329 0.73769513 ... 0.56025296 0.81234947 1.23633916]]\n"
     ]
    }
   ],
   "source": [
    "# Detecting outlier and removing it\n",
    "\n",
    "import numpy as np\n",
    "\n",
    "from scipy import stats\n",
    "df_outlier= df_new.copy()\n",
    "z = np.abs(stats.zscore(df_outlier))\n",
    "print(z)"
   ]
  },
  {
   "cell_type": "code",
   "execution_count": 37,
   "id": "834bedd3",
   "metadata": {},
   "outputs": [
    {
     "name": "stdout",
     "output_type": "stream",
     "text": [
      "(array([  7,  10,  11,  16,  27,  33,  43,  54,  58,  63,  78,  88,  94,\n",
      "        96, 116, 118, 119, 164, 170, 171, 172, 179, 183, 184, 193, 195,\n",
      "       205, 232, 233, 252, 258, 261, 263, 268, 268, 271, 275, 277, 280,\n",
      "       297, 299, 302, 305, 311, 318, 326, 332, 340, 341, 348, 366, 374,\n",
      "       377, 380, 381, 386, 407, 413, 438, 438, 445, 448, 456, 466, 469,\n",
      "       479, 481, 483, 487, 493, 527, 530, 545, 555, 557, 570, 587, 597,\n",
      "       609, 618, 625, 630, 633, 642, 644, 659, 672, 674, 679, 684, 689,\n",
      "       691, 694, 700, 716, 730, 732, 737, 742, 745, 750, 755, 777, 779,\n",
      "       788, 803, 806, 815, 822, 824, 827, 829, 831, 850, 851, 856, 869],\n",
      "      dtype=int64), array([3, 3, 3, 3, 6, 3, 3, 3, 3, 3, 3, 6, 3, 3, 3, 6, 3, 3, 3, 3, 3, 6,\n",
      "       3, 3, 3, 3, 3, 3, 3, 3, 6, 3, 6, 3, 6, 6, 3, 6, 3, 3, 6, 6, 3, 6,\n",
      "       6, 3, 6, 3, 6, 3, 3, 3, 6, 6, 3, 3, 3, 6, 3, 6, 3, 3, 3, 6, 3, 3,\n",
      "       6, 3, 3, 3, 6, 3, 3, 3, 6, 3, 3, 6, 6, 3, 3, 3, 6, 3, 3, 3, 3, 6,\n",
      "       6, 3, 6, 3, 3, 6, 6, 6, 6, 6, 6, 3, 3, 3, 3, 6, 3, 3, 6, 6, 6, 3,\n",
      "       3, 3, 3, 3, 3, 6, 3], dtype=int64))\n"
     ]
    }
   ],
   "source": [
    "# Defining threshold to identify an outlier\n",
    "\n",
    "threshold = 2\n",
    "print(np.where(z > 2))"
   ]
  },
  {
   "cell_type": "code",
   "execution_count": 38,
   "id": "7a03710c",
   "metadata": {},
   "outputs": [
    {
     "data": {
      "text/plain": [
       "(891, 8)"
      ]
     },
     "execution_count": 38,
     "metadata": {},
     "output_type": "execute_result"
    }
   ],
   "source": [
    "df_outlier=df_outlier[(z < 2).all(axis=1)]\n",
    "df.shape"
   ]
  },
  {
   "cell_type": "code",
   "execution_count": 39,
   "id": "60b147b1",
   "metadata": {},
   "outputs": [
    {
     "data": {
      "text/plain": [
       "(891, 8)"
      ]
     },
     "execution_count": 39,
     "metadata": {},
     "output_type": "execute_result"
    }
   ],
   "source": [
    "df_new.shape"
   ]
  },
  {
   "cell_type": "code",
   "execution_count": 40,
   "id": "16e78148",
   "metadata": {},
   "outputs": [
    {
     "data": {
      "text/plain": [
       "(776, 8)"
      ]
     },
     "execution_count": 40,
     "metadata": {},
     "output_type": "execute_result"
    }
   ],
   "source": [
    "df_outlier.shape"
   ]
  },
  {
   "cell_type": "code",
   "execution_count": 41,
   "id": "c5d9928b",
   "metadata": {},
   "outputs": [],
   "source": [
    "# Columns have reduced after removing outliers"
   ]
  },
  {
   "cell_type": "code",
   "execution_count": 42,
   "id": "5c956cd7",
   "metadata": {},
   "outputs": [
    {
     "data": {
      "image/png": "[encoded data removed]",
      "text/plain": [
       "<Figure size 1008x720 with 16 Axes>"
      ]
     },
     "metadata": {
      "needs_background": "light"
     },
     "output_type": "display_data"
    }
   ],
   "source": [
    "# checking  distribution of the independent features through histogram\n",
    "\n",
    "df_outlier.plot(kind='hist', subplots=True, layout=(4,4), figsize=(14,10), grid=True)\n",
    "plt.show()"
   ]
  },
  {
   "cell_type": "code",
   "execution_count": 43,
   "id": "5717b68a",
   "metadata": {
    "scrolled": true
   },
   "outputs": [
    {
     "data": {
      "text/plain": [
       "<function matplotlib.pyplot.show(close=None, block=None)>"
      ]
     },
     "execution_count": 43,
     "metadata": {},
     "output_type": "execute_result"
    },
    {
     "data": {
      "image/png": "[encoded data removed]",
      "text/plain": [
       "<Figure size 1008x720 with 16 Axes>"
      ]
     },
     "metadata": {
      "needs_background": "light"
     },
     "output_type": "display_data"
    }
   ],
   "source": [
    "# checking outliers in features\n",
    "\n",
    "df_outlier.plot(kind='box', subplots=True, layout=(4,4), figsize=(14,10), grid=True)\n",
    "plt.show"
   ]
  },
  {
   "cell_type": "code",
   "execution_count": 44,
   "id": "b8cf5323",
   "metadata": {},
   "outputs": [],
   "source": [
    "# Separating feature variables and target variable\n",
    "\n",
    "X = df_outlier.drop(['Survived'], axis = 1)\n",
    "y = df_outlier['Survived']"
   ]
  },
  {
   "cell_type": "code",
   "execution_count": 50,
   "id": "4da19570",
   "metadata": {},
   "outputs": [
    {
     "name": "stdout",
     "output_type": "stream",
     "text": [
      "best random_state :  18\n",
      "best accuracy score :  0.8111587982832618\n"
     ]
    }
   ],
   "source": [
    "# Evaluation of models\n",
    "\n",
    "#Training model with DecisionTreeClassifier and finding the best state,accuracy_score\n",
    "\n",
    "from sklearn.metrics import accuracy_score\n",
    "from sklearn.tree import DecisionTreeClassifier\n",
    "\n",
    "from sklearn.model_selection import train_test_split\n",
    "\n",
    "model_dt = DecisionTreeClassifier()\n",
    "\n",
    "score_s=0\n",
    "state=0\n",
    "for i in range(0,20):\n",
    "    X_train, X_test, y_train, y_test = train_test_split(X,y,test_size=0.3, random_state =i)\n",
    "    model_dt.fit(X_train, y_train.astype(int))\n",
    "    y_pred_dt = model_dt.predict(X_test)\n",
    "    acc=accuracy_score(y_test.astype(int),y_pred_dt)\n",
    "    if acc>score_s:\n",
    "        score_s=acc\n",
    "        state=i\n",
    "        \n",
    "print('best random_state : ',state)\n",
    "print('best accuracy score : ',score_s)"
   ]
  },
  {
   "cell_type": "code",
   "execution_count": 51,
   "id": "75baed1f",
   "metadata": {},
   "outputs": [
    {
     "data": {
      "text/plain": [
       "0.8154506437768241"
      ]
     },
     "execution_count": 51,
     "metadata": {},
     "output_type": "execute_result"
    }
   ],
   "source": [
    "# Finding best accuracy score with best random state\n",
    "\n",
    "X_train, X_test, y_train, y_test = train_test_split(X,y,test_size=0.3, random_state =18)\n",
    "model_dt.fit(X_train,y_train.astype(int))\n",
    "y_pred_dt = model_dt.predict(X_test)\n",
    "acc=accuracy_score(y_test.astype(int),y_pred_dt)\n",
    "acc"
   ]
  },
  {
   "cell_type": "code",
   "execution_count": 57,
   "id": "5bf5525a",
   "metadata": {},
   "outputs": [
    {
     "name": "stdout",
     "output_type": "stream",
     "text": [
      "              precision    recall  f1-score   support\n",
      "\n",
      "           0       0.84      0.89      0.86       149\n",
      "           1       0.77      0.69      0.73        84\n",
      "\n",
      "    accuracy                           0.82       233\n",
      "   macro avg       0.80      0.79      0.79       233\n",
      "weighted avg       0.81      0.82      0.81       233\n",
      "\n"
     ]
    }
   ],
   "source": [
    "# getting classification_report of DecisionTreeClassifier  model\n",
    "\n",
    "\n",
    "from sklearn.metrics import classification_report\n",
    "print(classification_report(y_test.astype(int), y_pred_dt))"
   ]
  },
  {
   "cell_type": "code",
   "execution_count": 58,
   "id": "7b382e2f",
   "metadata": {},
   "outputs": [
    {
     "data": {
      "image/png": "[encoded data removed]",
      "text/plain": [
       "<Figure size 432x288 with 2 Axes>"
      ]
     },
     "metadata": {
      "needs_background": "light"
     },
     "output_type": "display_data"
    }
   ],
   "source": [
    "# confusion matrix of DecisionTreeClassifier  model\n",
    "\n",
    "from sklearn.metrics import confusion_matrix\n",
    "cm=confusion_matrix(y_test.astype(int),y_pred_dt)\n",
    "plt.figure(figsize=(6,4))\n",
    "sns.heatmap(cm,annot=True)\n",
    "plt.xlabel(\"predicted \")\n",
    "plt.ylabel(\"true \")\n",
    "plt.title('Confusion Matrix for DecisionTreeClassifier')\n",
    "plt.show()"
   ]
  },
  {
   "cell_type": "code",
   "execution_count": 67,
   "id": "a73237af",
   "metadata": {},
   "outputs": [
    {
     "name": "stdout",
     "output_type": "stream",
     "text": [
      "0.803145235892692\n"
     ]
    }
   ],
   "source": [
    "# finding cross validation score\n",
    "\n",
    "import warnings\n",
    "warnings.filterwarnings(\"ignore\")\n",
    "\n",
    "\n",
    "from sklearn.model_selection import cross_val_score\n",
    "accuracy = cross_val_score(DecisionTreeClassifier(random_state=18), X_test,y_test.astype(int), scoring='accuracy', cv = 5).mean()\n",
    "print(accuracy)"
   ]
  },
  {
   "cell_type": "code",
   "execution_count": null,
   "id": "43007f09",
   "metadata": {},
   "outputs": [],
   "source": []
  },
  {
   "cell_type": "code",
   "execution_count": null,
   "id": "195c1d50",
   "metadata": {},
   "outputs": [],
   "source": []
  },
  {
   "cell_type": "code",
   "execution_count": 56,
   "id": "e1622518",
   "metadata": {},
   "outputs": [
    {
     "data": {
      "text/plain": [
       "0.7982832618025751"
      ]
     },
     "execution_count": 56,
     "metadata": {},
     "output_type": "execute_result"
    }
   ],
   "source": [
    "#Training model with RandomForestClassifier\n",
    "\n",
    "from sklearn.ensemble import RandomForestClassifier\n",
    "from sklearn.metrics import accuracy_score\n",
    "model_rfl = RandomForestClassifier(random_state=12)\n",
    "model_rfl.fit(X_train, y_train.astype(int))\n",
    "y_pred_rfl = model_rfl.predict(X_test)\n",
    "\n",
    "\n",
    "accuracy_score(y_test.astype(int),y_pred_rfl)"
   ]
  },
  {
   "cell_type": "code",
   "execution_count": 68,
   "id": "756ef740",
   "metadata": {},
   "outputs": [
    {
     "name": "stdout",
     "output_type": "stream",
     "text": [
      "              precision    recall  f1-score   support\n",
      "\n",
      "           0       0.81      0.89      0.85       149\n",
      "           1       0.77      0.63      0.69        84\n",
      "\n",
      "    accuracy                           0.80       233\n",
      "   macro avg       0.79      0.76      0.77       233\n",
      "weighted avg       0.80      0.80      0.79       233\n",
      "\n"
     ]
    }
   ],
   "source": [
    "# getting classification_report of RandomForestClassifier model\n",
    "\n",
    "\n",
    "from sklearn.metrics import classification_report\n",
    "print(classification_report(y_test.astype(int), y_pred_rfl))"
   ]
  },
  {
   "cell_type": "code",
   "execution_count": 69,
   "id": "75a4e306",
   "metadata": {},
   "outputs": [
    {
     "data": {
      "image/png": "[encoded data removed]",
      "text/plain": [
       "<Figure size 432x288 with 2 Axes>"
      ]
     },
     "metadata": {
      "needs_background": "light"
     },
     "output_type": "display_data"
    }
   ],
   "source": [
    "# confusion matrix of RandomForestClassifier model\n",
    "\n",
    "from sklearn.metrics import confusion_matrix\n",
    "cm=confusion_matrix(y_test.astype(int),y_pred_rfl)\n",
    "plt.figure(figsize=(6,4))\n",
    "sns.heatmap(cm,annot=True)\n",
    "plt.xlabel(\"predicted \")\n",
    "plt.ylabel(\"true \")\n",
    "plt.title('Confusion Matrix for RandomForestClassifier')\n",
    "plt.show()"
   ]
  },
  {
   "cell_type": "code",
   "execution_count": 72,
   "id": "5a0b9c0e",
   "metadata": {},
   "outputs": [
    {
     "name": "stdout",
     "output_type": "stream",
     "text": [
      "0.820259019426457\n"
     ]
    }
   ],
   "source": [
    "# finding cross validation score\n",
    "\n",
    "import warnings\n",
    "warnings.filterwarnings(\"ignore\")\n",
    "\n",
    "\n",
    "from sklearn.model_selection import cross_val_score\n",
    "accuracy = cross_val_score(RandomForestClassifier(random_state=10), X_test,y_test.astype(int), scoring='accuracy', cv = 5).mean()\n",
    "print(accuracy)"
   ]
  },
  {
   "cell_type": "code",
   "execution_count": 76,
   "id": "a43b8268",
   "metadata": {},
   "outputs": [
    {
     "data": {
      "text/plain": [
       "0.8068669527896996"
      ]
     },
     "execution_count": 76,
     "metadata": {},
     "output_type": "execute_result"
    }
   ],
   "source": [
    "#Training model with LogisticRegression\n",
    "\n",
    "from sklearn.linear_model import LogisticRegression\n",
    "from sklearn.metrics import accuracy_score\n",
    "model_lr = LogisticRegression(random_state=10)\n",
    "model_lr.fit(X_train, y_train.astype(int))\n",
    "y_pred_lr = model_lr.predict(X_test)\n",
    "\n",
    "\n",
    "accuracy_score(y_test.astype(int),y_pred_lr)\n"
   ]
  },
  {
   "cell_type": "code",
   "execution_count": 77,
   "id": "dab56cef",
   "metadata": {},
   "outputs": [
    {
     "name": "stdout",
     "output_type": "stream",
     "text": [
      "              precision    recall  f1-score   support\n",
      "\n",
      "           0       0.83      0.88      0.85       149\n",
      "           1       0.76      0.68      0.72        84\n",
      "\n",
      "    accuracy                           0.81       233\n",
      "   macro avg       0.79      0.78      0.79       233\n",
      "weighted avg       0.80      0.81      0.80       233\n",
      "\n"
     ]
    }
   ],
   "source": [
    "# getting classification_report of LogisticRegression model\n",
    "\n",
    "\n",
    "from sklearn.metrics import classification_report\n",
    "print(classification_report(y_test.astype(int), y_pred_lr))"
   ]
  },
  {
   "cell_type": "code",
   "execution_count": 78,
   "id": "8355778d",
   "metadata": {},
   "outputs": [
    {
     "data": {
      "image/png": "[encoded data removed]",
      "text/plain": [
       "<Figure size 432x288 with 2 Axes>"
      ]
     },
     "metadata": {
      "needs_background": "light"
     },
     "output_type": "display_data"
    }
   ],
   "source": [
    "# confusion matrix of LogisticRegression model\n",
    "\n",
    "from sklearn.metrics import confusion_matrix\n",
    "cm=confusion_matrix(y_test.astype(int),y_pred_lr)\n",
    "plt.figure(figsize=(6,4))\n",
    "sns.heatmap(cm,annot=True)\n",
    "plt.xlabel(\"predicted \")\n",
    "plt.ylabel(\"true \")\n",
    "plt.title('Confusion Matrix for LogisticRegression')\n",
    "plt.show()"
   ]
  },
  {
   "cell_type": "code",
   "execution_count": 85,
   "id": "9cb54e56",
   "metadata": {},
   "outputs": [
    {
     "name": "stdout",
     "output_type": "stream",
     "text": [
      "0.8114708603145235\n"
     ]
    }
   ],
   "source": [
    "# finding cross validation score\n",
    "\n",
    "import warnings\n",
    "warnings.filterwarnings(\"ignore\")\n",
    "\n",
    "\n",
    "from sklearn.model_selection import cross_val_score\n",
    "accuracy = cross_val_score(LogisticRegression(random_state=10), X_test,y_test.astype(int), scoring='accuracy', cv = 5).mean()\n",
    "print(accuracy)"
   ]
  },
  {
   "cell_type": "code",
   "execution_count": null,
   "id": "e17d4d62",
   "metadata": {},
   "outputs": [],
   "source": [
    "# RandomForestClassifier model is giving a good accuracy score and cross validation score."
   ]
  },
  {
   "cell_type": "code",
   "execution_count": 86,
   "id": "9c086242",
   "metadata": {},
   "outputs": [
    {
     "data": {
      "text/plain": [
       "0.8283261802575107"
      ]
     },
     "execution_count": 86,
     "metadata": {},
     "output_type": "execute_result"
    }
   ],
   "source": [
    "# HyperParameterTuning\n",
    "\n",
    "import warnings\n",
    "warnings.filterwarnings('ignore')\n",
    "\n",
    "from sklearn.model_selection import GridSearchCV\n",
    "\n",
    "parameters={'max_features':['auto','sqrt','log2'],'max_depth':[4,5,6,7,8],'criterion':['ginni','entropy']}\n",
    "\n",
    "GCV=GridSearchCV(RandomForestClassifier(),parameters,cv=5,scoring=\"accuracy\")\n",
    "GCV.fit(X_train,y_train.astype(int))\n",
    "GCV.best_params_  # Printing the best parameter found by GridSearchCV\n",
    "\n",
    "\n",
    "GCV_pred=GCV.best_estimator_.predict(X_test)   # predicting the best parameters\n",
    "accuracy_score(y_test.astype(int),GCV_pred)    # checking final accuracy"
   ]
  },
  {
   "cell_type": "code",
   "execution_count": null,
   "id": "8740892f",
   "metadata": {},
   "outputs": [],
   "source": [
    "# Final accuracy_score clearly states that RandomForestClassifier model is very good enough to predict survived or not"
   ]
  },
  {
   "cell_type": "code",
   "execution_count": 87,
   "id": "bd607fc6",
   "metadata": {},
   "outputs": [
    {
     "data": {
      "image/png": "[encoded data removed]",
      "text/plain": [
       "<Figure size 432x288 with 1 Axes>"
      ]
     },
     "metadata": {
      "needs_background": "light"
     },
     "output_type": "display_data"
    }
   ],
   "source": [
    "# AUC_ROC curve\n",
    "\n",
    "from sklearn.metrics import roc_curve,auc\n",
    "fpr,tpr,thresholds=roc_curve(y_pred_rfl,y_test.astype(int))\n",
    "roc_auc=auc(fpr,tpr)\n",
    "\n",
    "plt.figure()\n",
    "plt.plot(fpr,tpr,color='darkorange',lw=10,label='ROC curve(area=%0.2f)'% roc_auc)\n",
    "plt.plot([0,1],[0,1],color='navy',lw=10,linestyle='--')\n",
    "plt.xlabel('false positive rate')\n",
    "plt.ylabel('true positive rate')\n",
    "plt.title('receiver operating characteristic')\n",
    "plt.legend(loc='lower right')\n",
    "plt.show()"
   ]
  },
  {
   "cell_type": "code",
   "execution_count": null,
   "id": "58cfc6c3",
   "metadata": {},
   "outputs": [],
   "source": [
    "# Above roc_curve area clearly states the goodness of RandomForestClassifier model for predicting 'survived' or not"
   ]
  },
  {
   "cell_type": "code",
   "execution_count": 88,
   "id": "2e001960",
   "metadata": {},
   "outputs": [],
   "source": [
    "# Exporting the model through pickle\n",
    "\n",
    "import pickle\n",
    "filename='titanic.pkl'\n",
    "pickle.dump(model_rfl,open(filename,'wb'))"
   ]
  },
  {
   "cell_type": "code",
   "execution_count": 89,
   "id": "e2efd475",
   "metadata": {},
   "outputs": [
    {
     "data": {
      "text/html": [
       "<div>\n",
       "<style scoped>\n",
       "    .dataframe tbody tr th:only-of-type {\n",
       "        vertical-align: middle;\n",
       "    }\n",
       "\n",
       "    .dataframe tbody tr th {\n",
       "        vertical-align: top;\n",
       "    }\n",
       "\n",
       "    .dataframe thead th {\n",
       "        text-align: right;\n",
       "    }\n",
       "</style>\n",
       "<table border=\"1\" class=\"dataframe\">\n",
       "  <thead>\n",
       "    <tr style=\"text-align: right;\">\n",
       "      <th></th>\n",
       "      <th>original</th>\n",
       "      <th>predcited</th>\n",
       "    </tr>\n",
       "  </thead>\n",
       "  <tbody>\n",
       "    <tr>\n",
       "      <th>0</th>\n",
       "      <td>0</td>\n",
       "      <td>0</td>\n",
       "    </tr>\n",
       "    <tr>\n",
       "      <th>1</th>\n",
       "      <td>0</td>\n",
       "      <td>0</td>\n",
       "    </tr>\n",
       "    <tr>\n",
       "      <th>2</th>\n",
       "      <td>1</td>\n",
       "      <td>0</td>\n",
       "    </tr>\n",
       "    <tr>\n",
       "      <th>3</th>\n",
       "      <td>0</td>\n",
       "      <td>0</td>\n",
       "    </tr>\n",
       "    <tr>\n",
       "      <th>4</th>\n",
       "      <td>0</td>\n",
       "      <td>1</td>\n",
       "    </tr>\n",
       "    <tr>\n",
       "      <th>...</th>\n",
       "      <td>...</td>\n",
       "      <td>...</td>\n",
       "    </tr>\n",
       "    <tr>\n",
       "      <th>228</th>\n",
       "      <td>1</td>\n",
       "      <td>1</td>\n",
       "    </tr>\n",
       "    <tr>\n",
       "      <th>229</th>\n",
       "      <td>0</td>\n",
       "      <td>0</td>\n",
       "    </tr>\n",
       "    <tr>\n",
       "      <th>230</th>\n",
       "      <td>0</td>\n",
       "      <td>0</td>\n",
       "    </tr>\n",
       "    <tr>\n",
       "      <th>231</th>\n",
       "      <td>0</td>\n",
       "      <td>1</td>\n",
       "    </tr>\n",
       "    <tr>\n",
       "      <th>232</th>\n",
       "      <td>0</td>\n",
       "      <td>0</td>\n",
       "    </tr>\n",
       "  </tbody>\n",
       "</table>\n",
       "<p>233 rows × 2 columns</p>\n",
       "</div>"
      ],
      "text/plain": [
       "     original  predcited\n",
       "0           0          0\n",
       "1           0          0\n",
       "2           1          0\n",
       "3           0          0\n",
       "4           0          1\n",
       "..        ...        ...\n",
       "228         1          1\n",
       "229         0          0\n",
       "230         0          0\n",
       "231         0          1\n",
       "232         0          0\n",
       "\n",
       "[233 rows x 2 columns]"
      ]
     },
     "execution_count": 89,
     "metadata": {},
     "output_type": "execute_result"
    }
   ],
   "source": [
    "# Conclusion:\n",
    "\n",
    "import numpy as np\n",
    "a=np.array(y_test.astype(int))\n",
    "predicted=np.array(model_rfl.predict(X_test))\n",
    "df_com=pd.DataFrame({'original':a,'predcited':predicted},index=range(len(a)))\n",
    "df_com"
   ]
  },
  {
   "cell_type": "code",
   "execution_count": null,
   "id": "f3d4a331",
   "metadata": {},
   "outputs": [],
   "source": []
  }
 ],
 "metadata": {
  "kernelspec": {
   "display_name": "Python 3",
   "language": "python",
   "name": "python3"
  },
  "language_info": {
   "codemirror_mode": {
    "name": "ipython",
    "version": 3
   },
   "file_extension": ".py",
   "mimetype": "text/x-python",
   "name": "python",
   "nbconvert_exporter": "python",
   "pygments_lexer": "ipython3",
   "version": "3.8.8"
  }
 },
 "nbformat": 4,
 "nbformat_minor": 5
}
